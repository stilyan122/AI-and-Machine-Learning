{
 "cells": [
  {
   "cell_type": "markdown",
   "id": "7d7774df-df33-4a77-9d77-642b893a1b32",
   "metadata": {},
   "source": [
    "# My first document about my first exercise in Maths For Developers Course."
   ]
  },
  {
   "cell_type": "markdown",
   "id": "6d4973a9-21e9-41da-bc81-276cd580b126",
   "metadata": {},
   "source": [
    "## Question:\n",
    "Write a Python function which solves a linear equation\n",
    "given the definition from the previous slide\n",
    "▪ The function should accept the a and b as arguments\n",
    "▪ The function should return\n",
    "▪ The solution, if there is only one\n",
    "▪ Empty list [] if no solution\n",
    "or all x satisfy the equation"
   ]
  },
  {
   "cell_type": "code",
   "execution_count": null,
   "id": "58868c61-2f36-4899-9838-dc8ac041b18f",
   "metadata": {},
   "outputs": [],
   "source": [
    "def solve_linear_equation(a, b):\n",
    "    if a != 0:\n",
    "        return -b / a\n",
    "    else:\n",
    "        return []"
   ]
  },
  {
   "cell_type": "markdown",
   "id": "f55bb95f-4f7c-48cd-87f1-c382d3f35018",
   "metadata": {},
   "source": [
    "The former is my function in Python!"
   ]
  },
  {
   "cell_type": "code",
   "execution_count": null,
   "id": "02f82c35-e2d3-45f5-a9e1-88d48cedb37e",
   "metadata": {},
   "outputs": [],
   "source": [
    "print(solve_linear_equation(0, 0)) # []\n",
    "print(solve_linear_equation(0, 5)) # []\n",
    "print(solve_linear_equation(5, 0)) # 0.0\n",
    "print(solve_linear_equation(5, 5)) # -1.0\n",
    "print(solve_linear_equation(2.5, -5.3)) # 2.12"
   ]
  }
 ],
 "metadata": {
  "kernelspec": {
   "display_name": "Python 3 (ipykernel)",
   "language": "python",
   "name": "python3"
  },
  "language_info": {
   "codemirror_mode": {
    "name": "ipython",
    "version": 3
   },
   "file_extension": ".py",
   "mimetype": "text/x-python",
   "name": "python",
   "nbconvert_exporter": "python",
   "pygments_lexer": "ipython3",
   "version": "3.13.2"
  }
 },
 "nbformat": 4,
 "nbformat_minor": 5
}
