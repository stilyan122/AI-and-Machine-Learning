{
 "cells": [
  {
   "cell_type": "code",
   "execution_count": 1,
   "metadata": {},
   "outputs": [
    {
     "ename": "ModuleNotFoundError",
     "evalue": "No module named 'matplotlib.backends.registry'",
     "output_type": "error",
     "traceback": [
      "\u001b[31m---------------------------------------------------------------------------\u001b[39m",
      "\u001b[31mModuleNotFoundError\u001b[39m                       Traceback (most recent call last)",
      "\u001b[36mCell\u001b[39m\u001b[36m \u001b[39m\u001b[32mIn[1]\u001b[39m\u001b[32m, line 1\u001b[39m\n\u001b[32m----> \u001b[39m\u001b[32m1\u001b[39m \u001b[43mget_ipython\u001b[49m\u001b[43m(\u001b[49m\u001b[43m)\u001b[49m\u001b[43m.\u001b[49m\u001b[43mrun_line_magic\u001b[49m\u001b[43m(\u001b[49m\u001b[33;43m'\u001b[39;49m\u001b[33;43mmatplotlib\u001b[39;49m\u001b[33;43m'\u001b[39;49m\u001b[43m,\u001b[49m\u001b[43m \u001b[49m\u001b[33;43m'\u001b[39;49m\u001b[33;43minline\u001b[39;49m\u001b[33;43m'\u001b[39;49m\u001b[43m)\u001b[49m\n",
      "\u001b[36mFile \u001b[39m\u001b[32m~\\AppData\\Local\\Programs\\Python\\Python313\\Lib\\site-packages\\IPython\\core\\interactiveshell.py:2481\u001b[39m, in \u001b[36mInteractiveShell.run_line_magic\u001b[39m\u001b[34m(self, magic_name, line, _stack_depth)\u001b[39m\n\u001b[32m   2479\u001b[39m     kwargs[\u001b[33m'\u001b[39m\u001b[33mlocal_ns\u001b[39m\u001b[33m'\u001b[39m] = \u001b[38;5;28mself\u001b[39m.get_local_scope(stack_depth)\n\u001b[32m   2480\u001b[39m \u001b[38;5;28;01mwith\u001b[39;00m \u001b[38;5;28mself\u001b[39m.builtin_trap:\n\u001b[32m-> \u001b[39m\u001b[32m2481\u001b[39m     result = \u001b[43mfn\u001b[49m\u001b[43m(\u001b[49m\u001b[43m*\u001b[49m\u001b[43margs\u001b[49m\u001b[43m,\u001b[49m\u001b[43m \u001b[49m\u001b[43m*\u001b[49m\u001b[43m*\u001b[49m\u001b[43mkwargs\u001b[49m\u001b[43m)\u001b[49m\n\u001b[32m   2483\u001b[39m \u001b[38;5;66;03m# The code below prevents the output from being displayed\u001b[39;00m\n\u001b[32m   2484\u001b[39m \u001b[38;5;66;03m# when using magics with decorator @output_can_be_silenced\u001b[39;00m\n\u001b[32m   2485\u001b[39m \u001b[38;5;66;03m# when the last Python token in the expression is a ';'.\u001b[39;00m\n\u001b[32m   2486\u001b[39m \u001b[38;5;28;01mif\u001b[39;00m \u001b[38;5;28mgetattr\u001b[39m(fn, magic.MAGIC_OUTPUT_CAN_BE_SILENCED, \u001b[38;5;28;01mFalse\u001b[39;00m):\n",
      "\u001b[36mFile \u001b[39m\u001b[32m~\\AppData\\Local\\Programs\\Python\\Python313\\Lib\\site-packages\\IPython\\core\\magics\\pylab.py:103\u001b[39m, in \u001b[36mPylabMagics.matplotlib\u001b[39m\u001b[34m(self, line)\u001b[39m\n\u001b[32m     98\u001b[39m     \u001b[38;5;28mprint\u001b[39m(\n\u001b[32m     99\u001b[39m         \u001b[33m\"\u001b[39m\u001b[33mAvailable matplotlib backends: \u001b[39m\u001b[38;5;132;01m%s\u001b[39;00m\u001b[33m\"\u001b[39m\n\u001b[32m    100\u001b[39m         % _list_matplotlib_backends_and_gui_loops()\n\u001b[32m    101\u001b[39m     )\n\u001b[32m    102\u001b[39m \u001b[38;5;28;01melse\u001b[39;00m:\n\u001b[32m--> \u001b[39m\u001b[32m103\u001b[39m     gui, backend = \u001b[38;5;28;43mself\u001b[39;49m\u001b[43m.\u001b[49m\u001b[43mshell\u001b[49m\u001b[43m.\u001b[49m\u001b[43menable_matplotlib\u001b[49m\u001b[43m(\u001b[49m\u001b[43margs\u001b[49m\u001b[43m.\u001b[49m\u001b[43mgui\u001b[49m\u001b[43m)\u001b[49m\n\u001b[32m    104\u001b[39m     \u001b[38;5;28mself\u001b[39m._show_matplotlib_backend(args.gui, backend)\n",
      "\u001b[36mFile \u001b[39m\u001b[32m~\\AppData\\Local\\Programs\\Python\\Python313\\Lib\\site-packages\\IPython\\core\\interactiveshell.py:3637\u001b[39m, in \u001b[36mInteractiveShell.enable_matplotlib\u001b[39m\u001b[34m(self, gui)\u001b[39m\n\u001b[32m   3634\u001b[39m     \u001b[38;5;28;01mimport\u001b[39;00m\u001b[38;5;250m \u001b[39m\u001b[34;01mmatplotlib_inline\u001b[39;00m\u001b[34;01m.\u001b[39;00m\u001b[34;01mbackend_inline\u001b[39;00m\n\u001b[32m   3636\u001b[39m \u001b[38;5;28;01mfrom\u001b[39;00m\u001b[38;5;250m \u001b[39m\u001b[34;01mIPython\u001b[39;00m\u001b[34;01m.\u001b[39;00m\u001b[34;01mcore\u001b[39;00m\u001b[38;5;250m \u001b[39m\u001b[38;5;28;01mimport\u001b[39;00m pylabtools \u001b[38;5;28;01mas\u001b[39;00m pt\n\u001b[32m-> \u001b[39m\u001b[32m3637\u001b[39m gui, backend = \u001b[43mpt\u001b[49m\u001b[43m.\u001b[49m\u001b[43mfind_gui_and_backend\u001b[49m\u001b[43m(\u001b[49m\u001b[43mgui\u001b[49m\u001b[43m,\u001b[49m\u001b[43m \u001b[49m\u001b[38;5;28;43mself\u001b[39;49m\u001b[43m.\u001b[49m\u001b[43mpylab_gui_select\u001b[49m\u001b[43m)\u001b[49m\n\u001b[32m   3639\u001b[39m \u001b[38;5;28;01mif\u001b[39;00m gui != \u001b[38;5;28;01mNone\u001b[39;00m:\n\u001b[32m   3640\u001b[39m     \u001b[38;5;66;03m# If we have our first gui selection, store it\u001b[39;00m\n\u001b[32m   3641\u001b[39m     \u001b[38;5;28;01mif\u001b[39;00m \u001b[38;5;28mself\u001b[39m.pylab_gui_select \u001b[38;5;129;01mis\u001b[39;00m \u001b[38;5;28;01mNone\u001b[39;00m:\n",
      "\u001b[36mFile \u001b[39m\u001b[32m~\\AppData\\Local\\Programs\\Python\\Python313\\Lib\\site-packages\\IPython\\core\\pylabtools.py:338\u001b[39m, in \u001b[36mfind_gui_and_backend\u001b[39m\u001b[34m(gui, gui_select)\u001b[39m\n\u001b[32m    321\u001b[39m \u001b[38;5;28;01mdef\u001b[39;00m\u001b[38;5;250m \u001b[39m\u001b[34mfind_gui_and_backend\u001b[39m(gui=\u001b[38;5;28;01mNone\u001b[39;00m, gui_select=\u001b[38;5;28;01mNone\u001b[39;00m):\n\u001b[32m    322\u001b[39m \u001b[38;5;250m    \u001b[39m\u001b[33;03m\"\"\"Given a gui string return the gui and mpl backend.\u001b[39;00m\n\u001b[32m    323\u001b[39m \n\u001b[32m    324\u001b[39m \u001b[33;03m    Parameters\u001b[39;00m\n\u001b[32m   (...)\u001b[39m\u001b[32m    335\u001b[39m \u001b[33;03m    'WXAgg','Qt4Agg','module://matplotlib_inline.backend_inline','agg').\u001b[39;00m\n\u001b[32m    336\u001b[39m \u001b[33;03m    \"\"\"\u001b[39;00m\n\u001b[32m--> \u001b[39m\u001b[32m338\u001b[39m     \u001b[38;5;28;01mimport\u001b[39;00m\u001b[38;5;250m \u001b[39m\u001b[34;01mmatplotlib\u001b[39;00m\n\u001b[32m    340\u001b[39m     \u001b[38;5;28;01mif\u001b[39;00m _matplotlib_manages_backends():\n\u001b[32m    341\u001b[39m         backend_registry = matplotlib.backends.registry.backend_registry\n",
      "\u001b[36mFile \u001b[39m\u001b[32m~\\AppData\\Local\\Programs\\Python\\Python313\\Lib\\site-packages\\matplotlib\\__init__.py:161\u001b[39m\n\u001b[32m    157\u001b[39m \u001b[38;5;28;01mfrom\u001b[39;00m\u001b[38;5;250m \u001b[39m\u001b[34;01mpackaging\u001b[39;00m\u001b[34;01m.\u001b[39;00m\u001b[34;01mversion\u001b[39;00m\u001b[38;5;250m \u001b[39m\u001b[38;5;28;01mimport\u001b[39;00m parse \u001b[38;5;28;01mas\u001b[39;00m parse_version\n\u001b[32m    159\u001b[39m \u001b[38;5;66;03m# cbook must import matplotlib only within function\u001b[39;00m\n\u001b[32m    160\u001b[39m \u001b[38;5;66;03m# definitions, so it is safe to import from it here.\u001b[39;00m\n\u001b[32m--> \u001b[39m\u001b[32m161\u001b[39m \u001b[38;5;28;01mfrom\u001b[39;00m\u001b[38;5;250m \u001b[39m\u001b[34;01m.\u001b[39;00m\u001b[38;5;250m \u001b[39m\u001b[38;5;28;01mimport\u001b[39;00m _api, _version, cbook, _docstring, rcsetup\n\u001b[32m    162\u001b[39m \u001b[38;5;28;01mfrom\u001b[39;00m\u001b[38;5;250m \u001b[39m\u001b[34;01mmatplotlib\u001b[39;00m\u001b[34;01m.\u001b[39;00m\u001b[34;01m_api\u001b[39;00m\u001b[38;5;250m \u001b[39m\u001b[38;5;28;01mimport\u001b[39;00m MatplotlibDeprecationWarning\n\u001b[32m    163\u001b[39m \u001b[38;5;28;01mfrom\u001b[39;00m\u001b[38;5;250m \u001b[39m\u001b[34;01mmatplotlib\u001b[39;00m\u001b[34;01m.\u001b[39;00m\u001b[34;01mrcsetup\u001b[39;00m\u001b[38;5;250m \u001b[39m\u001b[38;5;28;01mimport\u001b[39;00m cycler  \u001b[38;5;66;03m# noqa: F401\u001b[39;00m\n",
      "\u001b[36mFile \u001b[39m\u001b[32m~\\AppData\\Local\\Programs\\Python\\Python313\\Lib\\site-packages\\matplotlib\\rcsetup.py:26\u001b[39m\n\u001b[32m     23\u001b[39m \u001b[38;5;28;01mimport\u001b[39;00m\u001b[38;5;250m \u001b[39m\u001b[34;01mnumpy\u001b[39;00m\u001b[38;5;250m \u001b[39m\u001b[38;5;28;01mas\u001b[39;00m\u001b[38;5;250m \u001b[39m\u001b[34;01mnp\u001b[39;00m\n\u001b[32m     25\u001b[39m \u001b[38;5;28;01mfrom\u001b[39;00m\u001b[38;5;250m \u001b[39m\u001b[34;01mmatplotlib\u001b[39;00m\u001b[38;5;250m \u001b[39m\u001b[38;5;28;01mimport\u001b[39;00m _api, cbook\n\u001b[32m---> \u001b[39m\u001b[32m26\u001b[39m \u001b[38;5;28;01mfrom\u001b[39;00m\u001b[38;5;250m \u001b[39m\u001b[34;01mmatplotlib\u001b[39;00m\u001b[34;01m.\u001b[39;00m\u001b[34;01mbackends\u001b[39;00m\u001b[38;5;250m \u001b[39m\u001b[38;5;28;01mimport\u001b[39;00m BackendFilter, backend_registry\n\u001b[32m     27\u001b[39m \u001b[38;5;28;01mfrom\u001b[39;00m\u001b[38;5;250m \u001b[39m\u001b[34;01mmatplotlib\u001b[39;00m\u001b[34;01m.\u001b[39;00m\u001b[34;01mcbook\u001b[39;00m\u001b[38;5;250m \u001b[39m\u001b[38;5;28;01mimport\u001b[39;00m ls_mapper\n\u001b[32m     28\u001b[39m \u001b[38;5;28;01mfrom\u001b[39;00m\u001b[38;5;250m \u001b[39m\u001b[34;01mmatplotlib\u001b[39;00m\u001b[34;01m.\u001b[39;00m\u001b[34;01mcolors\u001b[39;00m\u001b[38;5;250m \u001b[39m\u001b[38;5;28;01mimport\u001b[39;00m Colormap, is_color_like\n",
      "\u001b[36mFile \u001b[39m\u001b[32m~\\AppData\\Local\\Programs\\Python\\Python313\\Lib\\site-packages\\matplotlib\\backends\\__init__.py:1\u001b[39m\n\u001b[32m----> \u001b[39m\u001b[32m1\u001b[39m \u001b[38;5;28;01mfrom\u001b[39;00m\u001b[38;5;250m \u001b[39m\u001b[34;01m.\u001b[39;00m\u001b[34;01mregistry\u001b[39;00m\u001b[38;5;250m \u001b[39m\u001b[38;5;28;01mimport\u001b[39;00m BackendFilter, backend_registry  \u001b[38;5;66;03m# noqa: F401\u001b[39;00m\n\u001b[32m      3\u001b[39m \u001b[38;5;66;03m# NOTE: plt.switch_backend() (called at import time) will add a \"backend\"\u001b[39;00m\n\u001b[32m      4\u001b[39m \u001b[38;5;66;03m# attribute here for backcompat.\u001b[39;00m\n\u001b[32m      5\u001b[39m _QT_FORCE_QT5_BINDING = \u001b[38;5;28;01mFalse\u001b[39;00m\n",
      "\u001b[31mModuleNotFoundError\u001b[39m: No module named 'matplotlib.backends.registry'"
     ]
    }
   ],
   "source": [
    "%matplotlib inline"
   ]
  },
  {
   "cell_type": "code",
   "execution_count": 2,
   "metadata": {},
   "outputs": [
    {
     "ename": "ModuleNotFoundError",
     "evalue": "No module named 'matplotlib.backends.registry'",
     "output_type": "error",
     "traceback": [
      "\u001b[31m---------------------------------------------------------------------------\u001b[39m",
      "\u001b[31mModuleNotFoundError\u001b[39m                       Traceback (most recent call last)",
      "\u001b[36mCell\u001b[39m\u001b[36m \u001b[39m\u001b[32mIn[2]\u001b[39m\u001b[32m, line 2\u001b[39m\n\u001b[32m      1\u001b[39m \u001b[38;5;28;01mimport\u001b[39;00m\u001b[38;5;250m \u001b[39m\u001b[34;01mnumpy\u001b[39;00m\u001b[38;5;250m \u001b[39m\u001b[38;5;28;01mas\u001b[39;00m\u001b[38;5;250m \u001b[39m\u001b[34;01mnp\u001b[39;00m\n\u001b[32m----> \u001b[39m\u001b[32m2\u001b[39m \u001b[38;5;28;01mimport\u001b[39;00m\u001b[38;5;250m \u001b[39m\u001b[34;01mmatplotlib\u001b[39;00m\u001b[34;01m.\u001b[39;00m\u001b[34;01mpyplot\u001b[39;00m\u001b[38;5;250m \u001b[39m\u001b[38;5;28;01mas\u001b[39;00m\u001b[38;5;250m \u001b[39m\u001b[34;01mplt\u001b[39;00m\n\u001b[32m      3\u001b[39m \u001b[38;5;28;01mimport\u001b[39;00m\u001b[38;5;250m \u001b[39m\u001b[34;01mscipy\u001b[39;00m\u001b[34;01m.\u001b[39;00m\u001b[34;01mstats\u001b[39;00m\n\u001b[32m      4\u001b[39m \u001b[38;5;28;01mimport\u001b[39;00m\u001b[38;5;250m \u001b[39m\u001b[34;01mscipy\u001b[39;00m\u001b[34;01m.\u001b[39;00m\u001b[34;01mio\u001b[39;00m\u001b[34;01m.\u001b[39;00m\u001b[34;01mwavfile\u001b[39;00m\n",
      "\u001b[36mFile \u001b[39m\u001b[32m~\\AppData\\Local\\Programs\\Python\\Python313\\Lib\\site-packages\\matplotlib\\__init__.py:161\u001b[39m\n\u001b[32m    157\u001b[39m \u001b[38;5;28;01mfrom\u001b[39;00m\u001b[38;5;250m \u001b[39m\u001b[34;01mpackaging\u001b[39;00m\u001b[34;01m.\u001b[39;00m\u001b[34;01mversion\u001b[39;00m\u001b[38;5;250m \u001b[39m\u001b[38;5;28;01mimport\u001b[39;00m parse \u001b[38;5;28;01mas\u001b[39;00m parse_version\n\u001b[32m    159\u001b[39m \u001b[38;5;66;03m# cbook must import matplotlib only within function\u001b[39;00m\n\u001b[32m    160\u001b[39m \u001b[38;5;66;03m# definitions, so it is safe to import from it here.\u001b[39;00m\n\u001b[32m--> \u001b[39m\u001b[32m161\u001b[39m \u001b[38;5;28;01mfrom\u001b[39;00m\u001b[38;5;250m \u001b[39m\u001b[34;01m.\u001b[39;00m\u001b[38;5;250m \u001b[39m\u001b[38;5;28;01mimport\u001b[39;00m _api, _version, cbook, _docstring, rcsetup\n\u001b[32m    162\u001b[39m \u001b[38;5;28;01mfrom\u001b[39;00m\u001b[38;5;250m \u001b[39m\u001b[34;01mmatplotlib\u001b[39;00m\u001b[34;01m.\u001b[39;00m\u001b[34;01m_api\u001b[39;00m\u001b[38;5;250m \u001b[39m\u001b[38;5;28;01mimport\u001b[39;00m MatplotlibDeprecationWarning\n\u001b[32m    163\u001b[39m \u001b[38;5;28;01mfrom\u001b[39;00m\u001b[38;5;250m \u001b[39m\u001b[34;01mmatplotlib\u001b[39;00m\u001b[34;01m.\u001b[39;00m\u001b[34;01mrcsetup\u001b[39;00m\u001b[38;5;250m \u001b[39m\u001b[38;5;28;01mimport\u001b[39;00m cycler  \u001b[38;5;66;03m# noqa: F401\u001b[39;00m\n",
      "\u001b[36mFile \u001b[39m\u001b[32m~\\AppData\\Local\\Programs\\Python\\Python313\\Lib\\site-packages\\matplotlib\\rcsetup.py:26\u001b[39m\n\u001b[32m     23\u001b[39m \u001b[38;5;28;01mimport\u001b[39;00m\u001b[38;5;250m \u001b[39m\u001b[34;01mnumpy\u001b[39;00m\u001b[38;5;250m \u001b[39m\u001b[38;5;28;01mas\u001b[39;00m\u001b[38;5;250m \u001b[39m\u001b[34;01mnp\u001b[39;00m\n\u001b[32m     25\u001b[39m \u001b[38;5;28;01mfrom\u001b[39;00m\u001b[38;5;250m \u001b[39m\u001b[34;01mmatplotlib\u001b[39;00m\u001b[38;5;250m \u001b[39m\u001b[38;5;28;01mimport\u001b[39;00m _api, cbook\n\u001b[32m---> \u001b[39m\u001b[32m26\u001b[39m \u001b[38;5;28;01mfrom\u001b[39;00m\u001b[38;5;250m \u001b[39m\u001b[34;01mmatplotlib\u001b[39;00m\u001b[34;01m.\u001b[39;00m\u001b[34;01mbackends\u001b[39;00m\u001b[38;5;250m \u001b[39m\u001b[38;5;28;01mimport\u001b[39;00m BackendFilter, backend_registry\n\u001b[32m     27\u001b[39m \u001b[38;5;28;01mfrom\u001b[39;00m\u001b[38;5;250m \u001b[39m\u001b[34;01mmatplotlib\u001b[39;00m\u001b[34;01m.\u001b[39;00m\u001b[34;01mcbook\u001b[39;00m\u001b[38;5;250m \u001b[39m\u001b[38;5;28;01mimport\u001b[39;00m ls_mapper\n\u001b[32m     28\u001b[39m \u001b[38;5;28;01mfrom\u001b[39;00m\u001b[38;5;250m \u001b[39m\u001b[34;01mmatplotlib\u001b[39;00m\u001b[34;01m.\u001b[39;00m\u001b[34;01mcolors\u001b[39;00m\u001b[38;5;250m \u001b[39m\u001b[38;5;28;01mimport\u001b[39;00m Colormap, is_color_like\n",
      "\u001b[36mFile \u001b[39m\u001b[32m~\\AppData\\Local\\Programs\\Python\\Python313\\Lib\\site-packages\\matplotlib\\backends\\__init__.py:1\u001b[39m\n\u001b[32m----> \u001b[39m\u001b[32m1\u001b[39m \u001b[38;5;28;01mfrom\u001b[39;00m\u001b[38;5;250m \u001b[39m\u001b[34;01m.\u001b[39;00m\u001b[34;01mregistry\u001b[39;00m\u001b[38;5;250m \u001b[39m\u001b[38;5;28;01mimport\u001b[39;00m BackendFilter, backend_registry  \u001b[38;5;66;03m# noqa: F401\u001b[39;00m\n\u001b[32m      3\u001b[39m \u001b[38;5;66;03m# NOTE: plt.switch_backend() (called at import time) will add a \"backend\"\u001b[39;00m\n\u001b[32m      4\u001b[39m \u001b[38;5;66;03m# attribute here for backcompat.\u001b[39;00m\n\u001b[32m      5\u001b[39m _QT_FORCE_QT5_BINDING = \u001b[38;5;28;01mFalse\u001b[39;00m\n",
      "\u001b[31mModuleNotFoundError\u001b[39m: No module named 'matplotlib.backends.registry'"
     ]
    }
   ],
   "source": [
    "import numpy as np\n",
    "import matplotlib.pyplot as plt\n",
    "import scipy.stats\n",
    "import scipy.io.wavfile\n",
    "from scipy.fftpack import fft, fftfreq\n",
    "import hashlib\n",
    "import itertools\n",
    "import string\n",
    "import tkinter as tk\n",
    "from tkinter import filedialog\n",
    "from scipy.io import wavfile\n",
    "from scipy.signal import butter, lfilter\n",
    "import pyaudio"
   ]
  },
  {
   "cell_type": "code",
   "execution_count": 3,
   "metadata": {},
   "outputs": [
    {
     "ename": "SyntaxError",
     "evalue": "invalid syntax (1196137435.py, line 1)",
     "output_type": "error",
     "traceback": [
      "  \u001b[36mCell\u001b[39m\u001b[36m \u001b[39m\u001b[32mIn[3]\u001b[39m\u001b[32m, line 1\u001b[39m\n\u001b[31m    \u001b[39m\u001b[31mpython -m venv myenv\u001b[39m\n              ^\n\u001b[31mSyntaxError\u001b[39m\u001b[31m:\u001b[39m invalid syntax\n"
     ]
    }
   ],
   "source": [
    "pip cache purge"
   ]
  },
  {
   "cell_type": "markdown",
   "metadata": {},
   "source": [
    "# Probability and Combinatorics Exercise\n",
    "## Probabilistic Events. Combinatorics and Counting. Distributions"
   ]
  },
  {
   "cell_type": "markdown",
   "metadata": {},
   "source": [
    "### Problem 1. Exploring Distribution Parameters\n",
    "A good idea to visualize and explore the parameters of various distributions is just to plot them.\n",
    "\n",
    "We can do this in either one of two ways:\n",
    "1. Draw (generate) many random variables which follow that distribution. Plot their histogram\n",
    "2. Write the distribution function directly and plot it\n",
    "\n",
    "Either of these will work but the second approach will give us better looking results. [`scipy.stats`](https://docs.scipy.org/doc/scipy-0.19.1/reference/stats.html) has a lot of built-in distributions that we can use. Each of them has its own use cases.\n",
    "\n",
    "It's very important that we plot discrete and continuous distributions in different ways. **We must not make discrete distributions look continuous**. That is, discrete distributions are only defined for integer number of trials: $n \\in \\mathbb{N}$.\n",
    "\n",
    "Let's plot the binomial and Gaussian distributions."
   ]
  },
  {
   "cell_type": "code",
   "execution_count": null,
   "metadata": {},
   "outputs": [],
   "source": [
    "def plot_binomial_distribution(x, n, p):\n",
    "    \"\"\"\n",
    "    Plots the binomial distribution with parameters n and p. The parameter x specifies the values\n",
    "    where the function is evaluated at\n",
    "    \"\"\"\n",
    "    binomial = scipy.stats.binom.pmf(x, n, p)\n",
    "    plt.scatter(x, binomial, color = \"blue\")\n",
    "    plt.vlines(x, 0, binomial, color = \"blue\", linewidth = 5, alpha = 0.5)\n",
    "    plt.show()\n",
    "    \n",
    "def plot_gaussian_distribution(mu, sigma, x):\n",
    "    \"\"\"\n",
    "    Plots the Gaussian distribution with parameters mu and sigma. The parameter x specifies \n",
    "    the values where the function is evaluated at\n",
    "    \"\"\"\n",
    "    gaussian = scipy.stats.norm.pdf(x, loc = mu, scale = sigma)\n",
    "    plt.plot(x, gaussian, color = \"blue\")\n",
    "    plt.show()\n",
    "    \n",
    "x_binomial = np.arange(1, 10)\n",
    "plot_binomial_distribution(x_binomial, 10, 0.5)\n",
    "\n",
    "x_gaussian = np.linspace(-3, 3, 1000)\n",
    "plot_gaussian_distribution(0, 1, x_gaussian)"
   ]
  },
  {
   "cell_type": "markdown",
   "metadata": {},
   "source": [
    "These look similar. That's with a good reason: the Gaussian distribution is a generalization of the binomial distribution as $n \\rightarrow \\infty$.\n",
    "\n",
    "What do these parameters specify exactly? Let's find out. \n",
    "\n",
    "Take the binomial distribution. Keep $p = 0.5$ and change $n$. Plot several values of $n$ in the same plot, with different colors. **What values to choose?** Remember that $n$ was the number of experiments, so it should be an integer $\\ge 1$.\n",
    "\n",
    "Now keep $n$ at some reasonable value (a number between 10 and 30 should be good) and change $p$. $p$ is a probability so its values must be between 0 and 1.\n",
    "\n",
    "What can you conclude? How does the function shape change? When is it symmetrical and when it is not?\n",
    "\n",
    "Perform the same kind of operations on $\\mu$ and $\\sigma$ with the Gaussian distribution. What do these parameters represent?\n",
    "\n",
    "If you get stuck, try to find what the distribution functions should look like on the Internet."
   ]
  },
  {
   "cell_type": "code",
   "execution_count": null,
   "metadata": {},
   "outputs": [],
   "source": [
    "def plot_binomial_distribution(x, n, p, color):\n",
    "    \"\"\"\n",
    "    Plots the binomial distribution with parameters n and p. The parameter x specifies the values\n",
    "    where the function is evaluated at - rewrite function to plot the graphs on the same plot\n",
    "    \"\"\"\n",
    "    binomial = scipy.stats.binom.pmf(x, n, p)\n",
    "    plt.scatter(x, binomial, color = color)\n",
    "    plt.vlines(x, 0, binomial, color = color, linewidth = 5, alpha = 0.5)"
   ]
  },
  {
   "cell_type": "code",
   "execution_count": null,
   "metadata": {},
   "outputs": [],
   "source": [
    "n_values = [5, 20, 50, 100]\n",
    "colors = ['blue', 'orange', 'green', 'red']\n",
    "\n",
    "for n, color in zip(n_values, colors):\n",
    "    x = np.arange(0, n+1)\n",
    "    plot_binomial_distribution(x, n, 0.5, color)\n",
    "\n",
    "plt.show()"
   ]
  },
  {
   "cell_type": "code",
   "execution_count": null,
   "metadata": {},
   "outputs": [],
   "source": [
    "p_values = [0.1, 0.3, 0.5, 0.8]\n",
    "colors = ['blue', 'orange', 'green', 'red']\n",
    "n = 25\n",
    "\n",
    "for p, color in zip(p_values, colors):\n",
    "    x = np.arange(0, n+1)\n",
    "    plot_binomial_distribution(x, n, p, color)\n",
    "\n",
    "plt.show()"
   ]
  },
  {
   "cell_type": "markdown",
   "metadata": {},
   "source": [
    "We can deduce that $n$ controls how \"continuous\" the distribution looks - small $n$ makes it discrete and spiky, large $n$ makes it bell-shaped. $p$ picks both the location of the mass and whether the mass is balanced."
   ]
  },
  {
   "cell_type": "code",
   "execution_count": null,
   "metadata": {},
   "outputs": [],
   "source": [
    "def plot_gaussian_distribution(mu, sigma, x, color):\n",
    "    \"\"\"\n",
    "    Plots the Gaussian distribution with parameters mu and sigma. The parameter x specifies \n",
    "    the values where the function is evaluated at - rewrite function to plot the graphs on the same plot\n",
    "    and get color from input\n",
    "    \"\"\"\n",
    "    gaussian = scipy.stats.norm.pdf(x, loc = mu, scale = sigma)\n",
    "    plt.plot(x, gaussian, color = color)"
   ]
  },
  {
   "cell_type": "code",
   "execution_count": null,
   "metadata": {},
   "outputs": [],
   "source": [
    "mu_values = [0, 2, 4, 6]\n",
    "colors = ['blue', 'orange', 'green', 'red']\n",
    "x = np.linspace(-5, 10, 500)\n",
    "\n",
    "for mu, color in zip(mu_values, colors):\n",
    "    plot_gaussian_distribution(mu, 1, x, color)"
   ]
  },
  {
   "cell_type": "code",
   "execution_count": null,
   "metadata": {},
   "outputs": [],
   "source": [
    "sigma_values = [0.5, 1, 1.5, 2]\n",
    "colors = ['blue', 'orange', 'green', 'red']\n",
    "x = np.linspace(-5, 10, 500)\n",
    "\n",
    "for sigma, color in zip(sigma_values, colors):\n",
    "    plot_gaussian_distribution(0, sigma, x, color)"
   ]
  },
  {
   "cell_type": "markdown",
   "metadata": {},
   "source": [
    "As we saw, $\\mu$ is the mean (center) of the distribution, $\\sigma$ is the controlling the spread (scale) of the distribution."
   ]
  },
  {
   "cell_type": "markdown",
   "metadata": {},
   "source": [
    "### Problem 2. Central Limit Theorem\n",
    "The [**Central Limit Theorem**](https://en.wikipedia.org/wiki/Central_limit_theorem) tells us that no matter what quirky functions we have, their sum is going to be distributed according to the normal distribution. Let's prove this.\n",
    "\n",
    "Consider the following functions:\n",
    "$$ f(x) = 1 $$\n",
    "\n",
    "$$ f(x) = 2x $$\n",
    "\n",
    "$$ f(x) = 3x^2 $$\n",
    "\n",
    "$$ f(x) = 4\\lvert x - 0,5\\rvert $$\n",
    "\n",
    "$$ f(x) = 2 - 4\\lvert x - 0,5\\rvert $$\n",
    "\n",
    "For each of these functions `f`:\n",
    "1. Generate a big array of, say, 2000 values `x` between 0 and 1\n",
    "2. Generate the array $f(x)$ and plot $f(x)$. This is just to see how the original function looks\n",
    "3. Create 1000 experiments like this:\n",
    "    1. Generate 25 random values $x$ between 0 and 1: `np.random.rand(25)`\n",
    "    3. Generate $y = f(x)$\n",
    "    2. Sum all 25 values $y$\n",
    "    3. Add the sum to the array of sums\n",
    "4. Plot the distribution of 1000 sums\n",
    "\n",
    "If you want, you can experiment with the \"settings\" even more - try changing the number of experiments, number of sums, range of $x$, functions, etc.\n",
    "\n",
    "What do you get? Can you experiment with a combination of functions? When is the normal distribution a good approximation of the real distribution?"
   ]
  },
  {
   "cell_type": "code",
   "execution_count": null,
   "metadata": {},
   "outputs": [],
   "source": [
    "def plot_clt_functions(functions, xs, labels):\n",
    "    \"\"\"\n",
    "    Playing around with the CLT and plotting the functions\n",
    "    \"\"\"\n",
    "    \n",
    "    for f, label in zip(functions, labels):\n",
    "        ys = f(xs)\n",
    "        plt.plot(xs, ys, label=label)\n",
    "        \n",
    "    plt.grid(True)\n",
    "    plt.xlabel(\"x\")\n",
    "    plt.ylabel(\"f(x)\")\n",
    "    plt.legend()\n",
    "    plt.show()"
   ]
  },
  {
   "cell_type": "code",
   "execution_count": null,
   "metadata": {},
   "outputs": [],
   "source": [
    "functions = [\n",
    "    lambda x: np.ones_like(x),\n",
    "    lambda x: 2 * x,\n",
    "    lambda x: 3 * (x ** 2),\n",
    "    lambda x: 4 * np.abs(x - 0.5),\n",
    "    lambda x: 2 - 4 * np.abs(x - 0.5)\n",
    "]\n",
    "\n",
    "labels = [\n",
    "    \"f(x)=1\",\n",
    "    \"f(x)=2x\",\n",
    "    \"f(x)=3x²\",\n",
    "    \"f(x)=4|x−0.5|\",\n",
    "    \"f(x)=2−4|x−0.5|\"\n",
    "]\n",
    "\n",
    "xs = np.linspace(0, 1, 2000)\n",
    "\n",
    "plot_clt_functions(functions, xs, labels)"
   ]
  },
  {
   "cell_type": "code",
   "execution_count": null,
   "metadata": {},
   "outputs": [],
   "source": [
    "def experiments(n_experiments, sample_size, functions):\n",
    "    \"\"\"\n",
    "    Function to plot and conduct an experiment with functions - for each experiment\n",
    "    we generate random numbers and sum the functions' outputs of them\n",
    "    \"\"\"\n",
    "    fig, axes = plt.subplots(2, 3, figsize=(12, 8))\n",
    "    axes = axes.flatten()\n",
    "    \n",
    "    for ax, f, label in zip(axes, functions, labels):\n",
    "        sums = []\n",
    "        for _ in range(n_experiments):\n",
    "            values = np.random.rand(sample_size)\n",
    "            ys = f(values)\n",
    "            sums.append(np.sum(ys))\n",
    "            \n",
    "        ax.hist(sums, bins=30, density=True, alpha=0.7, edgecolor='black')\n",
    "        ax.set_title(f\"Sum distribution for {label}\")\n",
    "        ax.grid(True)"
   ]
  },
  {
   "cell_type": "code",
   "execution_count": null,
   "metadata": {},
   "outputs": [],
   "source": [
    "functions = [\n",
    "    lambda x: np.ones_like(x),\n",
    "    lambda x: 2 * x,\n",
    "    lambda x: 3 * (x ** 2),\n",
    "    lambda x: 4 * np.abs(x - 0.5),\n",
    "    lambda x: 2 - 4 * np.abs(x - 0.5)\n",
    "]\n",
    "\n",
    "n_experiments = 1000\n",
    "sample_size = 25\n",
    "\n",
    "experiments(n_experiments, sample_size, functions)"
   ]
  },
  {
   "cell_type": "code",
   "execution_count": null,
   "metadata": {},
   "outputs": [],
   "source": [
    "functions = [\n",
    "    lambda x: np.ones_like(x),\n",
    "    lambda x: 2 * x,\n",
    "    lambda x: 3 * (x ** 2),\n",
    "    lambda x: 4 * np.abs(x - 0.5),\n",
    "    lambda x: 2 - 4 * np.abs(x - 0.5)\n",
    "]\n",
    "\n",
    "n_experiments = 10000\n",
    "sample_size = 25\n",
    "\n",
    "experiments(n_experiments, sample_size, functions)"
   ]
  },
  {
   "cell_type": "code",
   "execution_count": null,
   "metadata": {},
   "outputs": [],
   "source": [
    "functions = [\n",
    "    lambda x: np.ones_like(x),\n",
    "    lambda x: 2 * x,\n",
    "    lambda x: 3 * (x ** 2),\n",
    "    lambda x: 4 * np.abs(x - 0.5),\n",
    "    lambda x: 2 - 4 * np.abs(x - 0.5)\n",
    "]\n",
    "\n",
    "n_experiments = 100000\n",
    "sample_size = 25\n",
    "\n",
    "experiments(n_experiments, sample_size, functions)"
   ]
  },
  {
   "cell_type": "markdown",
   "metadata": {},
   "source": [
    "When the number of experiments is low => the function looks noisy/spikey. But as the number of experiments rises, the function starts to look smoother and stabilizes."
   ]
  },
  {
   "cell_type": "code",
   "execution_count": null,
   "metadata": {},
   "outputs": [],
   "source": [
    "functions = [\n",
    "    lambda x: np.ones_like(x),\n",
    "    lambda x: 2 * x,\n",
    "    lambda x: 3 * (x ** 2),\n",
    "    lambda x: 4 * np.abs(x - 0.5),\n",
    "    lambda x: 2 - 4 * np.abs(x - 0.5)\n",
    "]\n",
    "\n",
    "n_experiments = 1000\n",
    "sample_size = 40\n",
    "\n",
    "experiments(n_experiments, sample_size, functions)"
   ]
  },
  {
   "cell_type": "code",
   "execution_count": null,
   "metadata": {},
   "outputs": [],
   "source": [
    "functions = [\n",
    "    lambda x: np.ones_like(x),\n",
    "    lambda x: 2 * x,\n",
    "    lambda x: 3 * (x ** 2),\n",
    "    lambda x: 4 * np.abs(x - 0.5),\n",
    "    lambda x: 2 - 4 * np.abs(x - 0.5)\n",
    "]\n",
    "\n",
    "n_experiments = 1000\n",
    "sample_size = 100\n",
    "\n",
    "experiments(n_experiments, sample_size, functions)"
   ]
  },
  {
   "cell_type": "code",
   "execution_count": null,
   "metadata": {},
   "outputs": [],
   "source": [
    "functions = [\n",
    "    lambda x: np.ones_like(x),\n",
    "    lambda x: 2 * x,\n",
    "    lambda x: 3 * (x ** 2),\n",
    "    lambda x: 4 * np.abs(x - 0.5),\n",
    "    lambda x: 2 - 4 * np.abs(x - 0.5)\n",
    "]\n",
    "\n",
    "n_experiments = 1000\n",
    "sample_size = 10000\n",
    "\n",
    "experiments(n_experiments, sample_size, functions)"
   ]
  },
  {
   "cell_type": "markdown",
   "metadata": {},
   "source": [
    "When the number of samples becommes bigger, the normal shape is nearly perfect (convincingly Gaussian)"
   ]
  },
  {
   "cell_type": "code",
   "execution_count": null,
   "metadata": {},
   "outputs": [],
   "source": [
    "f1 = lambda x: 2  * x\n",
    "f2 = lambda x: 3 * (x ** 2)\n",
    "f3 = lambda x: 4 * np.abs(x-0.5)\n",
    "\n",
    "functions = [f1, f2,f3]\n",
    "sample_sizes = [10, 8, 7]   \n",
    "labels = [\"2x\", \"3x²\", \"4|x–0.5|\"]\n",
    "\n",
    "n_experiments = 2000\n",
    "\n",
    "totals = [] \n",
    "\n",
    "for _ in range(n_experiments):\n",
    "    grand_sum = 0.0\n",
    "    \n",
    "    for f, m in zip(functions, sample_sizes):\n",
    "        xs = np.random.rand(m)   \n",
    "        ys = f(xs)\n",
    "        grand_sum += np.sum(ys)\n",
    "        \n",
    "    totals.append(grand_sum)\n",
    "\n",
    "plt.figure(figsize=(6,4))\n",
    "plt.hist(totals, bins=30, density=True, alpha=0.7, edgecolor='k')\n",
    "plt.title(\"Histogram of mixed‐function sums\")\n",
    "plt.grid(True)\n",
    "plt.show()"
   ]
  },
  {
   "attachments": {},
   "cell_type": "markdown",
   "metadata": {},
   "source": [
    "### Problem 3. Birthday Paradox\n",
    "How many people do we need to have in a room, so that the probability of two people sharing a birthday is $p(A) > 0,5$?\n",
    "\n",
    "We suppose no leap years, so a year has 365 days. We could expect that we need about $365/2=182$ people. Well, the truth is a bit different.\n",
    "\n",
    "#### Solution\n",
    "**Random variable:** $A$: probability that two people share a birthday.\n",
    "\n",
    "It's sometimes easier to work with the complementary variable: $\\bar{A}$ - probability that **no people** share a birthday. \n",
    "\n",
    "Let's suppose we have $r$ people in the room. Of course, if $r = 1$, e.g. only one person, the probability is $1$ (there's no one to share a birthday with). If $r >= 365$, the probability must be 1 (by the so-called [pigeonhole principle](https://en.wikipedia.org/wiki/Pigeonhole_principle): if we have 366 people and 365 days, there's at least one day with a pair of people).\n",
    "\n",
    "Order the people 1 to $r$. Every person's birthday is independent, so that means 365 days for the first, 365 days for the second, and so on: $365^r$ birthday possibilities in total.\n",
    "\n",
    "We want no duplications of birthdays. The first person has 365 days to choose from, the second has 364, and so on. The $r$th person has $365-r+1$ days to choose from. Total: $365.364.363.\\cdots.(365 - r + 1)$\n",
    "\n",
    "The probability that no people share the same birthday is the fraction of all non-shared birthdays to all possible birthdays:\n",
    "$$ p(\\bar{A})=\\frac{365.364.363.\\cdots.(365 - r + 1)}{365^r} $$\n",
    "\n",
    "We're interested in $A$, not $\\bar{A}$ and we know that these are complementary, so their probabilities add up to 1\n",
    "$$p(A) = 1 - p(\\bar{A})$$\n",
    "\n",
    "Write a function which plots the probability of $r$ people sharing a birthday. Remember this is a discrete distribution and should be plotted like so."
   ]
  },
  {
   "cell_type": "code",
   "execution_count": null,
   "metadata": {},
   "outputs": [],
   "source": [
    "def calculate_birthday_probability(r):\n",
    "    \"\"\"\n",
    "    Returns the probability of r people sharing the same birthday. A year is\n",
    "    supposed to have 365 days\n",
    "    \"\"\"\n",
    "    \n",
    "    prob_no_shared = 1.0\n",
    "    for i in range(r):\n",
    "        prob_no_shared *= (365 - i) / 365.0\n",
    "        \n",
    "    return 1 - prob_no_shared\n",
    "\n",
    "group_sizes  = np.arange(2, 366)\n",
    "probabilities = [calculate_birthday_probability(r) for r in group_sizes]\n",
    "\n",
    "plt.plot(group_sizes, probabilities, marker='o', markersize=4, linestyle='-')\n",
    "plt.title(\"Birthday Paradox: Probability of a Shared Birthday\")\n",
    "plt.grid(True)\n",
    "plt.show()"
   ]
  },
  {
   "cell_type": "markdown",
   "metadata": {},
   "source": [
    "At how many people do you see a transition from $p(A) < 0,5$ to $p(A) > 0,5$?\n",
    "\n",
    "**Spoiler alert:** It's 23 people.\n",
    "\n",
    "Why so few? We're comparing everyone's birthday against everyone else's. We should **NOT** count the number of people, but the number of comparisons. In a room of 23 people, there are 252 total comparisons.\n",
    "\n",
    "In general, we could get a 50% chance of match using $\\sqrt{n}$ people in $n$ days."
   ]
  },
  {
   "cell_type": "markdown",
   "metadata": {},
   "source": [
    "## * Breaking Cryptography: Birthday Attack\n",
    "We already saw that if we have $n$ days in one year, it takes about $\\sqrt{n}$ people to have a 50% chance of two people sharing a birthday. This is used in cryptography for the so-called **birthday attack**.\n",
    "\n",
    "Let's first introduce **hashing functions**. A hashing function is a function which takes text (bits) of any length and  **returns a fixed number of bits**. There are many such functions. Some of them are completely insecure and **ARE NOT** used in cryptography. They're useful for other purposes, such as hash tables.\n",
    "\n",
    "Important properties of hashing functions:\n",
    "1. The output will have a fixed length, no matter whether the input is an empty string, one character, a full sentence, a full book or the entire history of mankind\n",
    "2. A concrete input will always produce the same output\n",
    "\n",
    "One such hashing function is **MD5**. It produces 128-bit hashes (32 hexadecimal symbols). This means that it takes the space of all possible texts and converts it to $2^{128} \\approx 3.10^{38}$ possible hashes. Since the inputs are much more, by the pigeonhole principle, we can expect that many inputs will produce the same output. This is called a **hashing collision**.\n",
    "\n",
    "The birthday paradox tells us that using $\\sqrt{n} = 2^{64} \\approx 2.10^{19}$ hashes, we have a 50% probability of collision. This is still a very large number but compare it to $3.10^{38}$ - the difference is immense.\n",
    "\n",
    "You can see what these numbers mean in terms of CPU speed [here](https://blog.codinghorror.com/speed-hashing/).\n",
    "\n",
    "There are other algorithms which are even faster. The fastest one returns about $2^{18}$ hashes before it finds a collision.\n",
    "\n",
    "Another clever attack is using **rainbow tables**. These are massive dictionaries of precomputed hashes. So, for example, if the input is `password123`, its MD5 hash is `482c811da5d5b4bc6d497ffa98491e38`. Every time an algorithm sees this hash, it can convert it to its input. \n",
    "\n",
    "Rainbow tables work because humans are more predictable than algorithms. When implementing any cryptography, remember that **humans are always the weakest factor of any cryptographic system**.\n",
    "\n",
    "**Optional:** Write a function that finds collisions in **MD5** or **SHA1**. See [this](https://www.mscs.dal.ca/~selinger/md5collision/) demo for a good example, or [this StackOverflow post](https://crypto.stackexchange.com/questions/1434/are-there-two-known-strings-which-have-the-same-md5-hash-value) for more examples."
   ]
  },
  {
   "cell_type": "code",
   "execution_count": null,
   "metadata": {},
   "outputs": [],
   "source": [
    "def find_hash_collision(attempts, prefix_bytes=2):\n",
    "    \"\"\"\n",
    "    Attempts to find a hash collision in MD5.\n",
    "    \"\"\"\n",
    "    seen = {}\n",
    "    for i in range(attempts):\n",
    "        msg = i.to_bytes((i.bit_length() + 7) // 8 or 1, byteorder='big')\n",
    "        h = hashlib.new(\"md5\", msg).digest()\n",
    "        prefix = h[:prefix_bytes]\n",
    "        if prefix in seen:\n",
    "            return [seen[prefix], msg, prefix.hex()]\n",
    "        seen[prefix] = msg\n",
    "    return None"
   ]
  },
  {
   "cell_type": "code",
   "execution_count": null,
   "metadata": {},
   "outputs": [],
   "source": [
    "collision = find_hash_collision(200000)\n",
    "if collision:\n",
    "    msg1 = collision[0]\n",
    "    msg2 = collision[1]\n",
    "    prefix_hex = collision[2]\n",
    "    print(f\"Collision found on prefix ({prefix_hex}):\")\n",
    "    print(f\"Message 1 (bytes): {msg1}\")\n",
    "    print(f\"Message 2 (bytes): {msg2}\")\n",
    "else:\n",
    "    print(\"No collision found within the attempt limit.\")"
   ]
  },
  {
   "cell_type": "markdown",
   "metadata": {},
   "source": [
    "### Problem 4. Having Fun with Functions. Fourier Transform\n",
    "Sometimes we can plot a **parametric curve**. We choose a parameter $t$, in this case $t \\in [0; 2\\pi]$. We then plot $x$ and $y$ as functions of $t$.\n",
    "\n",
    "Plot the function below."
   ]
  },
  {
   "cell_type": "code",
   "execution_count": null,
   "metadata": {},
   "outputs": [],
   "source": [
    "t = np.linspace(0, 2 * np.pi, 2000)"
   ]
  },
  {
   "cell_type": "code",
   "execution_count": null,
   "metadata": {},
   "outputs": [],
   "source": [
    "x = -(721 * np.sin(t)) / 4 + 196 / 3 * np.sin(2 * t) - 86 / 3 * np.sin(3 * t) - 131 / 2 * np.sin(4 * t) + 477 / 14 * np.sin(5 * t) + 27 * np.sin(6 * t) - 29 / 2 * np.sin(7 * t) + 68 / 5 * np.sin(8 * t) + 1 / 10 * np.sin(9 * t) + 23 / 4 * np.sin(10 * t) - 19 / 2 * np.sin(12 * t) - 85 / 21 * np.sin(13 * t) + 2 / 3 * np.sin(14 * t) + 27 / 5 * np.sin(15 * t) + 7 / 4 * np.sin(16 * t) + 17 / 9 * np.sin(17 * t) - 4 * np.sin(18 * t) - 1 / 2 * np.sin(19 * t) + 1 / 6 * np.sin(20 * t) + 6 / 7 * np.sin(21 * t) - 1 / 8 * np.sin(22 * t) + 1 / 3 * np.sin(23 * t) + 3 / 2 * np.sin(24 * t) + 13 / 5 * np.sin(25 * t) + np.sin(26 * t) - 2 * np.sin(27 * t) + 3 / 5 * np.sin(28 * t) - 1 / 5 * np.sin(29 * t) + 1 / 5 * np.sin(30 * t) + (2337 * np.cos(t)) / 8 - 43 / 5 * np.cos(2 * t) + 322 / 5 * np.cos(3 * t) - 117 / 5 * np.cos(4 * t) - 26 / 5 * np.cos(5 * t) - 23 / 3 * np.cos(6 * t) + 143 / 4 * np.cos(7 * t) - 11 / 4 * np.cos(8 * t) - 31 / 3 * np.cos(9 * t) - 13 / 4 * np.cos(10 * t) - 9 / 2 * np.cos(11 * t) + 41 / 20 * np.cos(12 * t) + 8 * np.cos(13 * t) + 2 / 3 * np.cos(14 * t) + 6 * np.cos(15 * t) + 17 / 4 * np.cos(16 * t) - 3 / 2 * np.cos(17 * t) - 29 / 10 * np.cos(18 * t) + 11 / 6 * np.cos(19 * t) + 12 / 5 * np.cos(20 * t) + 3 / 2 * np.cos(21 * t) + 11 / 12 * np.cos(22 * t) - 4 / 5 * np.cos(23 * t) + np.cos(24 * t) + 17 / 8 * np.cos(25 * t) - 7 / 2 * np.cos(26 * t) - 5 / 6 * np.cos(27 * t) - 11 / 10 * np.cos(28 * t) + 1 / 2 * np.cos(29 * t) - 1 / 5 * np.cos(30 * t)\n",
    "y = -(637 * np.sin(t)) / 2 - 188 / 5 * np.sin(2 * t) - 11 / 7 * np.sin(3 * t) - 12 / 5 * np.sin(4 * t) + 11 / 3 * np.sin(5 * t) - 37 / 4 * np.sin(6 * t) + 8 / 3 * np.sin(7 * t) + 65 / 6 * np.sin(8 * t) - 32 / 5 * np.sin(9 * t) - 41 / 4 * np.sin(10 * t) - 38 / 3 * np.sin(11 * t) - 47 / 8 * np.sin(12 * t) + 5 / 4 * np.sin(13 * t) - 41 / 7 * np.sin(14 * t) - 7 / 3 * np.sin(15 * t) - 13 / 7 * np.sin(16 * t) + 17 / 4 * np.sin(17 * t) - 9 / 4 * np.sin(18 * t) + 8 / 9 * np.sin(19 * t) + 3 / 5 * np.sin(20 * t) - 2 / 5 * np.sin(21 * t) + 4 / 3 * np.sin(22 * t) + 1 / 3 * np.sin(23 * t) + 3 / 5 * np.sin(24 * t) - 3 / 5 * np.sin(25 * t) + 6 / 5 * np.sin(26 * t) - 1 / 5 * np.sin(27 * t) + 10 / 9 * np.sin(28 * t) + 1 / 3 * np.sin(29 * t) - 3 / 4 * \\\n",
    "    np.sin(30 * t) - (125 * np.cos(t)) / 2 - 521 / 9 * np.cos(2 * t) - 359 / 3 * np.cos(3 * t) + 47 / 3 * np.cos(4 * t) - 33 / 2 * np.cos(5 * t) - 5 / 4 * np.cos(6 * t) + 31 / 8 * np.cos(7 * t) + 9 / 10 * np.cos(8 * t) - 119 / 4 * np.cos(9 * t) - 17 / 2 * np.cos(10 * t) + 22 / 3 * np.cos(11 * t) + 15 / 4 * np.cos(12 * t) - 5 / 2 * np.cos(13 * t) + 19 / 6 * np.cos(14 * t) + \\\n",
    "    7 / 4 * np.cos(15 * t) + 31 / 4 * np.cos(16 * t) - np.cos(17 * t) + 11 / 10 * np.cos(18 * t) - 2 / 3 * np.cos(19 * t) + 13 / 3 * np.cos(20 * t) - 5 / 4 * np.cos(21 * t) + 2 / 3 * np.cos(\n",
    "        22 * t) + 1 / 4 * np.cos(23 * t) + 5 / 6 * np.cos(24 * t) + 3 / 4 * np.cos(26 * t) - 1 / 2 * np.cos(27 * t) - 1 / 10 * np.cos(28 * t) - 1 / 3 * np.cos(29 * t) - 1 / 19 * np.cos(30 * t)"
   ]
  },
  {
   "cell_type": "code",
   "execution_count": null,
   "metadata": {},
   "outputs": [],
   "source": [
    "plt.gca().set_aspect(\"equal\")\n",
    "plt.plot(x, y)\n",
    "plt.show()"
   ]
  },
  {
   "cell_type": "markdown",
   "metadata": {},
   "source": [
    "Interesting... \n",
    "\n",
    "Have a closer look at the variables `x` and `y`. Note that they're linear combinations of sines and cosines. There's nothing more except sines and cosines, multiplied by coefficients. How are these able to generate the picture? Can we generate any picture?\n",
    "\n",
    "Yes, we can generate pretty much anything and plot it as a parametric curve. See [this](https://www.wolframalpha.com/input/?i=Schroedinger+cat+bra-ket+curve) for example.\n",
    "\n",
    "It turns out that **every function**, no matter what, can be represented as a linear combination of sines and cosines. This is the basis of the **Fourier transform**. We'll look at it from two different perspectives: the algebraic one and the practical one.\n",
    "\n",
    "#### Algebraic perspective: Why does this transform exist? What does it mean?\n",
    "All functions form a **vector space**. We can see them as vectors. These vectors have infinitely many components which correspond to the infinitely many values $x \\in (-\\infty; \\infty)$. The function space has infinitely many dimensions.\n",
    "\n",
    "We can find a basis in that space. After we've found a basis, we can express any other function as a linear combination of the basis functions. Any set of infinitely many linearly independent functions will work. But that doesn't help at all...\n",
    "\n",
    "We know that the best kind of basis is an *orthonormal basis*. This means that all basis vectors are orthogonal and each basis vector has \"length\" 1. \n",
    "\n",
    "Two vectors are orthogonal if their dot product is zero. Similarly, two functions are defined to be orthogonal if their  product is zero, like this:\n",
    "$$ \\int_a^b f(x)g(x)\\,\\text{d}x = 0 $$\n",
    "\n",
    "It can be shown that $1$, $\\cos(mx)$ and $\\sin(nx)$ ($m,n \\in \\mathbb{N}$) are orthogonal. So, the basis formed by them is orthogonal. They can also be made orthonormal if we divide by their norm. The norm of a function is defined by **functional analysis** - an area of mathematics which treats functions as vectors. We won't go into much more detail now. The norm for $1$ is 1, the norm for the trigonometric functions is $1/\\sqrt{2}$.\n",
    "\n",
    "The takeaway is that ${1, \\sqrt{2}\\cos(mx), \\sqrt{2}\\sin(nx),\\ m,n \\in \\mathbb{N}}$ is an orthonormal basis in the function space. \n",
    "\n",
    "All periodic functions with period $P$ can be described as linear combinations of these:\n",
    "$$ f(x) = \\frac{a_0}{2} + \\sum\\left(a_n\\cos\\left(\\frac{2\\pi nx}{P}\\right)+b_n\\sin\\left(\\frac{2\\pi nx}{P}\\right)\\right) $$\n",
    "\n",
    "This definition extends to non-periodic functions as well."
   ]
  },
  {
   "cell_type": "markdown",
   "metadata": {},
   "source": [
    "#### Engineering perspective\n",
    "In engineering, the Fourier transform **converts a function of time to a function of frequency**. The function of time is called a **signal**, and the function of frequency is the **spectrum** of that signal. There is a pair of functions - one inverts the other. We have two different options:\n",
    "1. We can inspect the spectrum\n",
    "2. We can modify the spectrum\n",
    "\n",
    "This means that if some operation is very easy to perform in the spectrum we can perform it there using these steps:\n",
    "1. Create the spectrum from the signal - Fourier transform\n",
    "2. Perform the operation, e.g. remove a specific frequency\n",
    "3. Create the corrected signal from the corrected spectrum - inverse Fourier transform\n",
    "\n",
    "One example usage is in audio processing. An audio signal is a  1D array of **samples** (numbers). Each audio signal has a *bitrate* which tells us how many samples are there in one second. Since audio is a function of time, we can easily get its spectrum.\n",
    "\n",
    "Some algorithms on images use the spectrum as well. The idea is exactly the same.\n",
    "\n",
    "Compare this entire process to how we created a **histogram**. Plotting a random variable $X$ as a function of the trial number is essentially plotting a function of time. To get the histogram, we counted how many times we saw each particular value. This is the same as taking the spectrum of the random variable."
   ]
  },
  {
   "cell_type": "markdown",
   "metadata": {},
   "source": [
    "### Problem 5. Working with Audio Files. Using the Fourier Transform\n",
    "In Python, it's easiest to work with `.wav` files. If we have other files, we can convert them first. To load audio files, we can use `scipy.io.wavfile`. Load the `c-note.wav` file. Use only one channel, e.g. the left one."
   ]
  },
  {
   "cell_type": "code",
   "execution_count": null,
   "metadata": {},
   "outputs": [],
   "source": [
    "bitrate, audio = scipy.io.wavfile.read(\"c-note.wav\")\n",
    "left_channel = audio[:, 0]\n",
    "right_channel = audio[:, 1]\n",
    "plt.plot(left_channel)\n",
    "plt.xlabel(\"Sample number\") # To get seconds, divide by the bitrate\n",
    "plt.ylabel(\"Amplitude\")\n",
    "plt.show()"
   ]
  },
  {
   "cell_type": "code",
   "execution_count": null,
   "metadata": {},
   "outputs": [],
   "source": [
    "left_fft = fft(left_channel)\n",
    "\n",
    "# fftfreq() returns the frequences in number of cycles per sample. Since we have `bitrate` samples in one second,\n",
    "# to get the frequencies in Hz, we have to multiply by the bitrate\n",
    "frequencies = fftfreq(len(left_channel)) * bitrate\n",
    "\n",
    "plt.plot(frequencies, left_fft)\n",
    "plt.show()"
   ]
  },
  {
   "cell_type": "markdown",
   "metadata": {},
   "source": [
    "Note that the signal is symmetric. This is always the case with Fourier transform. We are interested in only half the values (the ones which are $\\ge 0$)."
   ]
  },
  {
   "cell_type": "code",
   "execution_count": null,
   "metadata": {},
   "outputs": [],
   "source": [
    "plt.plot(frequencies, left_fft)\n",
    "plt.xlim((0, 15000))\n",
    "plt.xlabel(\"Frequency [Hz]\")\n",
    "plt.ylabel(\"Amplitude\")\n",
    "plt.show()"
   ]
  },
  {
   "cell_type": "markdown",
   "metadata": {},
   "source": [
    "We can see that some frequencies have higher intensities than others. Also, they are evenly spaced. This is because the sample is only one note: C4, which has a fundamental frequency of $261,6Hz$. Most other \"loud\" frequencies are a multiple of the fundamental frequency: these are called **obertones**. There are other frequencies as well. The combination of frequencies which one instrument emphasizes and the ones that it dampens (i.e. makes quiet) determines the specific sound, or **timbre** of that instrument."
   ]
  },
  {
   "cell_type": "code",
   "execution_count": null,
   "metadata": {},
   "outputs": [],
   "source": [
    "plt.plot(frequencies, left_fft)\n",
    "plt.xlim((240, 290))\n",
    "plt.xlabel(\"Frequency [Hz]\")\n",
    "plt.ylabel(\"Amplitude\")\n",
    "plt.show()"
   ]
  },
  {
   "cell_type": "markdown",
   "metadata": {},
   "source": [
    "An interesting application of this is removal of unwanted frequencies. Look at [this video](https://www.youtube.com/watch?v=ATVbnilxIrs) for example. The highly annoying vuvuzela of 2010 World Cup turns out to produce only a single frequency which can be very easily removed from a recording.\n",
    "\n",
    "Another interesting application of Fourier transform is filters (in audio and images)."
   ]
  },
  {
   "cell_type": "markdown",
   "metadata": {},
   "source": [
    "### * Problem 6. Breaking MD5 in Different Ways\n",
    "One relatively fast algorithm: $2^{18}$ instead of $2^{19}$ hashes for a 50% probability is described in [this](https://eprint.iacr.org/2013/170.pdf) article. It's the fastest known to date to break the MD5 function by brute force. Get familiar with it and implement the algorithm. Try to show how it works on some common (and short) plaintexts.\n",
    "\n",
    "Experiment with other types of breaking the hash, for example using rainbow tables.\n",
    "\n",
    "You can use the following checklist:\n",
    "* What is a hash function? When are hash functions used?\n",
    "* What is a cryptographic hash function?\n",
    "* Why and how is a collision possible?\n",
    "* What is a collision attack?\n",
    "* What are the most common ways to attack hash functions?\n",
    "    * Which cryptographic hash functions are no longer considered secure? Why?\n",
    "* Why do websites have to store hashes of passwords instead of plaintext?\n",
    "    * How does user login work?\n",
    "* What is the \"birthday attack\"?\n",
    "    * Provide an example of two plaintexts which produce the same hash\n",
    "* What is the algorithm in the article about?\n",
    "    * Implement it and show the result\n",
    "* What is a rainbow table?\n",
    "    * Try breaking common passwords using a rainbow table. You can generate one or use some table from the internet (e.g. English words and letters, their modifications, leaked passwords, etc.)\n",
    "    * Even better, try a rainbow table first. If it doesn't work, try brute force\n",
    "* How can a website protect its database against rainbow tables?\n",
    "    * What is a \"salt\"? Additionally, what is \"pepper\"?\n",
    "    * Is it always secure to hash a password multiple times? What advantages and disadvantages does this provide?"
   ]
  },
  {
   "cell_type": "markdown",
   "metadata": {},
   "source": [
    "### Hashing, attacking, collisions"
   ]
  },
  {
   "cell_type": "markdown",
   "metadata": {},
   "source": [
    "#### Abstract\n",
    "\n",
    "This research delves into the mechanisms and implications of rainbow table and brute-force attacks on password security, also on hash functions and collisions as terms. By examining the methodologies of the attacks, we highlight the vulnerabilities inherent in systems employing unsalted or weakly hashed passwords. The study explains the critical importance of implementing strong security measures, such as salting, peppering, and utilizing strong hashing algorithms."
   ]
  },
  {
   "cell_type": "markdown",
   "metadata": {},
   "source": [
    "#### 1. Hash functions\n",
    "\n",
    "A) Meaning - A hash function is a mathematical algorithm that takes an input (or \"message\") of any length and produces a fixed-length string of characters, which is typically a hash value. The output is typically a fixed-size string of numbers and letters (e.g., a 128-bit or 256-bit string). For any given input, the hash function will always produce the same output. The hash function is computationally efficient to evaluate the output. It is computationally hard to reverse the hash function — it should be difficult to determine the original input by using the hash value. It should be very hard to find two different inputs that produce the same hash value (collision). A small change in the input data should produce a significantly different hash value.\n",
    "\n",
    "B) Usage - Hash functions are used to store passwords securely. Rather than storing the actual password, a hashed version of the password is saved. When a user logs in, the entered password is hashed, and the resulting hash is compared with the stored hash. Also, hash functions are used in digital signatures to ensure the integrity and authenticity of messages or documents. The message is hashed, and then the hash value is encrypted with the sender's private key. The recipient can then use the sender's public key to verify the authenticity of the message. Hash functions are also used in hash tables to quickly locate a data record given its search key. The hash function generates an index from the key, allowing constant time access for data retrieval.\n",
    "\n",
    "C) Cryptographic Hash Functions - a type of hash function that is specifically designed for use in cryptographic applications. It has additional security properties that make it suitable for use in applications like digital signatures, message authentication codes (MACs), and data integrity checks. Given a hash value, it should be infeasible to find the corresponding input that produced that hash. It should be impossible to find two distinct inputs that hash to the same value. Given an input, it should be impossible to find another input that produces the same hash value. A small change in the input should produce a completely different hash value. Popular examples include MD5, SHA-1, SHA-3 / SHA-256, RIPEMD-160."
   ]
  },
  {
   "cell_type": "markdown",
   "metadata": {},
   "source": [
    "#### 2. Collisions\n",
    "\n",
    "A) Meaning - a collision occurs when two distinct inputs produce the same hash value. This is a problem because the primary purpose of a hash function is to map unique inputs to unique outputs, creating a one-to-one mapping. When a collision occurs, it breaks this unique mapping and undermines the integrity and reliability of the hash function. A hash function always produces a fixed-length output (a 256-bit hash for SHA-256). However, the set of possible inputs is infinite. Because the output space is finite, there are only a limited number of possible hash values, but an infinite number of possible input combinations. This makes it inevitable that some distinct inputs will eventually map to the same hash value. This is a consequence of the pigeonhole principle: If more items are placed into fewer containers than there are items, at least one container must hold more than one item.\n",
    "\n",
    "B) Collision Attacks - a type of cryptographic attack that targets a hash function in order to find two distinct inputs that hash to the same output (collision). The purpose of the attack is to exploit the collision to undermine the security or integrity of a system that relies on the hash function. For example, both MD5 and SHA-1 were once widely used hash functions. However, due to advances in cryptanalysis, they have been found to be vulnerable to collision attacks."
   ]
  },
  {
   "cell_type": "markdown",
   "metadata": {},
   "source": [
    "#### 3. Attacks and handling log-in process\n",
    "\n",
    "A) Ways to attack a hash function:\n",
    "\n",
    "1.1. Brute Force - trying every possible input until a matching hash is found, the attack's effectiveness depends on the hash function's output length and complexity.\n",
    "\n",
    "1.2. Collision Attack - try to find two distinct inputs that hash to the same output.\n",
    "\n",
    "1.3. Pre-Image Attack - try to find an input that hashes to a specific given hash value.\n",
    "\n",
    "1.4. Raibow Table Attack - precomputing hashes for a large list of possible inputs (common passwords) and storing them in a table. When a hash is encountered, the attacker looks it up in the table to find the corresponding plaintext input.\n",
    "\n",
    "B) Lack of security - cryptographic hash functions - in simple words, they are vulnerable to collision attacks, the algorithms' relatively small output size makes them particularly vulnerable.\n",
    "\n",
    "C) Storing hashes of passwords - passwords are stored in websites' databases because if passwords were stored in plaintext, anyone with access to the database could see the users' actual passwords, which could lead to massive security breaches. By storing a hash of the password instead of the password itself, even if the database is compromised, the attacker only obtains a hash, not the actual password. The original password cannot be easily retrieved from the hash.\n",
    "\n",
    "D) User-login process - the user firsly needs to register: they create an account and chooses a password, the system generates a salt (a random string) and combines it with the password, they are hashed together using a cryptographic hash function and then are stored in the database (not the plaintext password). Secondly, they need to log in - when the user tries to log in, they enter their password, the system retrieves the salt associated with that user (from the DB), the system hashes the entered password with the same salt used during the process, te newly hashed password is compared to the stored hash in the database and if the hashes match, the login is successful; if not, the login is denied."
   ]
  },
  {
   "cell_type": "markdown",
   "metadata": {},
   "source": [
    "#### 4. \"Birthday\" attack\n",
    "\n",
    "A type of collision attack that exploits the mathematics behind the birthday paradox to find collisions in hash functions more efficiently than a brute-force approach. The birthday paradox tells us that finding two different inputs that produce the same hash (a collision) is easier than it might initially seem. In a hash function with an output of $n$ bits, the birthday attack suggests that finding a collision requires only $2 ^ {n/2}$ operations, not $2 ^ n$ operations as a naive approach would suggest. This is because we're not looking for a specific input that produces a given hash, but rather any two distinct inputs that happen to hash to the same value. In a birthday attack, an attacker tries to find two different inputs that produce the same hash. The attacker doesn't need to guess the exact value of a hash; they just need to find any two inputs that produce the same hash. This significantly reduces the amount of work needed to find a collision.\n",
    "\n",
    "Example:\n",
    "\n",
    "Here are two different plaintexts that produce the same MD5 hash:\n",
    "\n",
    "    Plaintext 1: d131dd02c5e6eec4\n",
    "\n",
    "    Plaintext 2: d131dd02c5e6eec4\n",
    "\n",
    "When hashed using MD5, both of these distinct inputs will produce the same hash value:\n",
    "\n",
    "$$ MD5('d131dd02c5e6eec4') = 098f6bcd4621d373cade4e832627b4f6 $$"
   ]
  },
  {
   "cell_type": "markdown",
   "metadata": {},
   "source": [
    "#### 5. MD5 Attack Algorithm\n",
    "\n",
    "The attack takes advantage from the weaknesses in MD5's compression function, particularly its difference inheriting and message expanding properties. By carefully selecting input differences with minimal strong conditions and utilizing a divide-and-conquer strategy, the researchers significantly reduced the computational complexity of finding collisions. The implementation is quite complex, so we would not implement it at the moment."
   ]
  },
  {
   "cell_type": "markdown",
   "metadata": {},
   "source": [
    "#### 6. Rainbow tables\n",
    "\n",
    "A rainbow table is a precomputed database of plaintext passwords and their corresponding hash values. Here it is used to reverse-engineer hashed passwords efficiently. Instead of computing the hash for every password guess during an attack, a rainbow table allows attackers to look up the hash in the table and retrieve the original password quickly. This method is particularly effective against unsalted hashes, where the same password always results in the same hash. The efficiency of rainbow tables comes from the time-memory trade-off: they require significant storage space but allow for rapid password recovery without computing hashes during the attack."
   ]
  },
  {
   "cell_type": "code",
   "execution_count": null,
   "metadata": {},
   "outputs": [],
   "source": [
    "def brute_force_password(target_password, max_length):\n",
    "    \"\"\"\n",
    "    Function to try to brute-force a password\n",
    "    \"\"\"\n",
    "    characters = string.ascii_lowercase \n",
    "\n",
    "    for length in range(1, max_length + 1):\n",
    "        for guess_tuple in itertools.product(characters, repeat=length):\n",
    "            guess = ''.join(guess_tuple)\n",
    "            if guess == target_password:\n",
    "                print(f\"Password found: '{guess}'.\")\n",
    "                return\n",
    "                \n",
    "    print(\"Password not found.\")"
   ]
  },
  {
   "cell_type": "code",
   "execution_count": null,
   "metadata": {},
   "outputs": [],
   "source": [
    "def crack_password(common_passwords, target):\n",
    "    \"\"\"\n",
    "    Function for trying to crack a password (hashed with MD5)\n",
    "    \"\"\"\n",
    "    \n",
    "    rainbow_table = {hashlib.md5(password.encode()).hexdigest(): password for password in common_passwords}\n",
    "    \n",
    "    target_hash = hashlib.md5(target.encode()).hexdigest()\n",
    "    \n",
    "    cracked_password = rainbow_table.get(target_hash)\n",
    "    \n",
    "    if cracked_password:\n",
    "        print(f\"Password found: {cracked_password}\")\n",
    "    else:\n",
    "        print(f\"Password not found in the rainbow table.\")\n",
    "        brute_force_password(target, 1024)"
   ]
  },
  {
   "cell_type": "code",
   "execution_count": null,
   "metadata": {},
   "outputs": [],
   "source": [
    "common_passwords = ['mypassword', '1234567890', 'qwerty', 'administrator', 'admin']\n",
    "target = 'administrator'\n",
    "crack_password(common_passwords, target)"
   ]
  },
  {
   "cell_type": "code",
   "execution_count": null,
   "metadata": {},
   "outputs": [],
   "source": [
    "# Uncomment when you want to run the simulation - keep in mind, it could take long!\n",
    "#target = 'supercoolpasswordbe'\n",
    "#crack_password(common_passwords, target)"
   ]
  },
  {
   "cell_type": "markdown",
   "metadata": {},
   "source": [
    "#### 7. Protection from Rainbow Tables\n",
    "\n",
    "A) Salt - a unique, random string added to a password before hashing. This ensures that identical passwords result in different hashes, preventing precomputed attacks like rainbow tables. Salts are typically stored alongside the hashed password in the database.\n",
    "\n",
    "B) Pepper - a secret value added to a password before hashing, similar to a salt but kept secret and stored separately from the database. This adds an additional layer of security, as an attacker would need access to both the database and the pepper to crack the passwords.\n",
    "\n",
    "C) Hashing multiple times - hashing a password multiple times, known as key stretching, can enhance security by increasing the computational effort required to crack the password. However, it's very important to use established algorithms designed for this purpose: PBKDF2, Argon2, etc. In this way, the algorithm increases resistance to brute-force attacks by making each guess more computationally expensive. However, improper implementation can lead to vulnerabilities.\n",
    "\n",
    "D) Practices for password security -  Implement algorithms like bcrypt, scrypt, or Argon2 that are designed for secure password hashing. Generate a unique, random salt for each password and store it alongside the hashed password. Add a secret pepper to passwords before hashing and store it securely, separate from the database. Ensure that salts and hashed passwords are stored securely, and peppers are kept confidential and separate from the database. By following these practices, websites can significantly enhance their defence against rainbow table attacks and ensure password security."
   ]
  },
  {
   "cell_type": "markdown",
   "metadata": {},
   "source": [
    "#### 8. Conclusion\n",
    "\n",
    "In summary, this article about the importance of rainbow table and brute-force attacks reveals significant risks associated with inadequate password protection strategies. The effectiveness of these attacks is boosted by the absence of salting and the use of outdated hashing algorithms. To enhance security, it is essential to adopt comprehensive measures, including the application of unique salts, the integration of secret peppers, and the deployment of advanced hashing functions like bcrypt or Argon2. "
   ]
  },
  {
   "cell_type": "markdown",
   "metadata": {},
   "source": [
    "### ** Problem 7. Audio Filters and Equalizers\n",
    "Examine the behaviour of different filters and their influence on the input signal. The main kinds of filters are\n",
    "* High-pass / low-pass\n",
    "* Band-pass / band-stop\n",
    "\n",
    "You can use the following checklist:\n",
    "* What is a signal? What is time domain? What is frequency domain?\n",
    "* How does the Fourier transform work?\n",
    "    * Provide one (or more) examples with code\n",
    "    * Optionally, show plots of some common functions (sine, step, pulse, sinc, gaussian) and their Fourier spectrums\n",
    "* What is a filter?\n",
    "* How does each type of filter work?\n",
    "    * Provide examples, possibly with real data\n",
    "* How do we combine filters and why?\n",
    "* What is an equalizer?\n",
    "    * Optionally, create an equalizer program or plugin that allows the user to emphasize or dampen different frequencies"
   ]
  },
  {
   "cell_type": "markdown",
   "metadata": {},
   "source": [
    "### Signals, Fourier transformations, filters"
   ]
  },
  {
   "cell_type": "markdown",
   "metadata": {},
   "source": [
    "#### Abstract"
   ]
  },
  {
   "cell_type": "markdown",
   "metadata": {},
   "source": [
    "#### 1. Signal, time domain, frequency domain\n",
    "\n",
    "A) Signal - A signal is a function of one or more variables that indicate some (usually physical) phenomenon. Signal serves as carriers of information between communication devices. They can convey different types of information depending on the application required. These signals can be of different forms. For example: human voice and sound waves, position, speed, and acceleration of an aircraft, digital music recording, etc. There are different types of signals. For example: analog signals, digital signals, real and complex signals, etc.\n",
    "\n",
    "B) Time domain -  shows how a signal changes over time, illustrating amplitude variations at each moment.\n",
    "\n",
    "C) Frequency domain - reveals the signal's frequency components, indicating how much of the signal lies within each given frequency band over a range of frequencies."
   ]
  },
  {
   "cell_type": "markdown",
   "metadata": {},
   "source": [
    "#### 2. Fourier Transforms\n",
    "\n",
    "The Fourier Transform decomposes a time-domain signal into its constituent frequencies, providing a frequency-domain representation. This is used in signal processing and allows the analysis and manipulation of signals based on their frequency content."
   ]
  },
  {
   "cell_type": "code",
   "execution_count": null,
   "metadata": {},
   "outputs": [],
   "source": [
    "def fourier_transform_graph(t, signal):\n",
    "    \"\"\"\n",
    "    Function to display the Fourier transform of a signal.\n",
    "    \"\"\"\n",
    "\n",
    "    fs = 1 / (t[1] - t[0])  \n",
    "    \n",
    "    yf = fft(signal)\n",
    "    xf = fftfreq(len(t), 1/fs)\n",
    "    \n",
    "    plt.figure(figsize=(12, 4))\n",
    "    \n",
    "    plt.subplot(1, 2, 1)\n",
    "    plt.plot(t, signal)\n",
    "    plt.title(\"Signal - Time Domain\")\n",
    "    plt.xlabel(\"Time [sec]\")\n",
    "    plt.ylabel(\"Amplitude\")\n",
    "    \n",
    "    plt.subplot(1, 2, 2)\n",
    "    plt.plot(xf, np.abs(yf))\n",
    "    plt.title(\"Signal - Frequency Domain\")\n",
    "    plt.xlabel(\"Frequency [Hz]\")\n",
    "    plt.ylabel(\"Magnitude\")\n",
    "    \n",
    "    plt.tight_layout()\n",
    "    plt.show()"
   ]
  },
  {
   "cell_type": "code",
   "execution_count": null,
   "metadata": {},
   "outputs": [],
   "source": [
    "frequency_of_graph = 200  \n",
    "t = np.linspace(0, 1, frequency_of_graph, endpoint=False)\n",
    "frequency_of_function = 5  \n",
    "signal = np.sin(2 * np.pi * frequency_of_function * t) \n",
    "\n",
    "fourier_transform_graph(t, signal)"
   ]
  },
  {
   "cell_type": "code",
   "execution_count": null,
   "metadata": {},
   "outputs": [],
   "source": [
    "t = np.linspace(-1, 1, 200, endpoint=False)\n",
    "signal = np.heaviside(t, 1)\n",
    "\n",
    "fourier_transform_graph(t, signal)"
   ]
  },
  {
   "cell_type": "code",
   "execution_count": null,
   "metadata": {},
   "outputs": [],
   "source": [
    "t = np.linspace(-1, 1, 200, endpoint=False)\n",
    "signal = np.where(np.abs(t) <= 0.25, 1.0, 0.0)\n",
    "\n",
    "fourier_transform_graph(t, signal)"
   ]
  },
  {
   "cell_type": "code",
   "execution_count": null,
   "metadata": {},
   "outputs": [],
   "source": [
    "t = np.linspace(-10, 10, 200, endpoint=False)\n",
    "signal = np.sinc(t)\n",
    "\n",
    "fourier_transform_graph(t, signal)"
   ]
  },
  {
   "cell_type": "code",
   "execution_count": null,
   "metadata": {},
   "outputs": [],
   "source": [
    "t = np.linspace(-1, 1, 200, endpoint=False)\n",
    "sigma = 0.1\n",
    "signal = np.exp(-t**2 / (2 * sigma**2))\n",
    "\n",
    "fourier_transform_graph(t, signal)"
   ]
  },
  {
   "cell_type": "markdown",
   "metadata": {},
   "source": [
    "#### 3. Filters\n",
    "\n",
    "A) Meaning - a device or algorithm that selectively allows certain components of a signal to pass through while attenuating or eliminating others. They are essential for modifying signals, such as removing noise, extracting useful information, or separating overlapping signals.\n",
    "\n",
    "B) Types:\n",
    "\n",
    "Low-Pass Filter (LPF) - allows frequencies below a specified cutoff frequency to pass through while attenuating higher frequencies.\n",
    "\n",
    "High-Pass Filter (HPF) - allows frequencies above a specified cutoff frequency to pass through while attenuating lower frequencies.\n",
    "\n",
    "Band-Pass Filter (BPF) - allows frequencies within a specific range (band) to pass through while attenuating frequencies outside this range.\n",
    "\n",
    "Band-Stop Filter (BSF) - attenuates frequencies within a specific range while allowing frequencies outside this range to pass through.\n",
    "\n",
    "C) Examples:\n",
    "\n",
    "LPF - Smoothing out a noisy ECG signal to better observe heartbeats.\n",
    "\n",
    "HPF - Removing baseline wander in EEG signals to focus on brain activity.\n",
    "\n",
    "BPF - Extracting the alpha wave band (8–12 Hz) from EEG data for neurological studies.\n",
    "\n",
    "BSF - Removing 50/60 Hz power line interference from biomedical signals.\n",
    "\n",
    "D) Combining Filters\n",
    "\n",
    "Combining filters enhances the ability to target specific frequency components, improve signal clarity, and tailor the processing to specific application needs. Here are two types of combining:\n",
    "\n",
    "Sequential Filtering: Applying multiple filters in sequence to achieve a desired effect.\n",
    "\n",
    "Parallel Filtering: Processing the same signal through different filters simultaneously and combining the results."
   ]
  },
  {
   "cell_type": "markdown",
   "metadata": {},
   "source": [
    "#### 4. Equalizers\n",
    "\n",
    "A) Meaning - an audio processing tool that adjusts the balance of frequency components within an audio signal. It allows users to boost or attenuate specific frequency ranges, tailoring the sound to achieve desired tonal characteristics or to compensate for acoustic anomalies.\n",
    "\n",
    "B) Types\n",
    "\n",
    "Graphic Equalizer: Provides fixed frequency bands with sliders to adjust the gain for each band. The visual layout resembles a graph, hence the name.\n",
    "\n",
    "Parametric Equalizer: Offers control over the amplitude, center frequency, and bandwidth (Q factor) for each band, allowing precise adjustments.\n",
    "\n",
    "Shelving Equalizer: Adjusts the gain of all frequencies above (high-shelf) or below (low-shelf) a certain cutoff frequency."
   ]
  },
  {
   "cell_type": "code",
   "execution_count": null,
   "metadata": {},
   "outputs": [],
   "source": [
    "BANDS = [\n",
    "    (20, 60),\n",
    "    (60, 170),\n",
    "    (170, 310),\n",
    "    (310, 600),\n",
    "    (600, 1000),\n",
    "    (1000, 3000)\n",
    "]\n",
    "\n",
    "class EqualizerApp:\n",
    "    def __init__(self, master):\n",
    "        self.master = master\n",
    "        self.master.title(\"6-Band Audio Equalizer\")\n",
    "\n",
    "        self.sliders = []\n",
    "        for i, (low, high) in enumerate(BANDS):\n",
    "            frame = tk.Frame(master)\n",
    "            frame.pack()\n",
    "            label = tk.Label(frame, text=f\"{low}-{high} Hz\")\n",
    "            label.pack(side=tk.LEFT)\n",
    "            slider = tk.Scale(frame, from_=-10, to=10, orient=tk.HORIZONTAL, resolution=1)\n",
    "            slider.pack(side=tk.LEFT)\n",
    "            self.sliders.append(slider)\n",
    "\n",
    "        self.load_button = tk.Button(master, text=\"Load WAV File\", command=self.load_file)\n",
    "        self.load_button.pack()\n",
    "\n",
    "        self.play_button = tk.Button(master, text=\"Play Equalized Audio\", command=self.play_audio)\n",
    "        self.play_button.pack()\n",
    "\n",
    "        self.fs = None\n",
    "        self.audio_data = None\n",
    "\n",
    "    def load_file(self):\n",
    "        file_path = filedialog.askopenfilename(filetypes=[(\"WAV files\", \"*.wav\")])\n",
    "        if file_path:\n",
    "            self.fs, data = wavfile.read(file_path)\n",
    "            if data.ndim > 1:\n",
    "                data = data.mean(axis=1) \n",
    "            self.audio_data = data.astype(np.float32)\n",
    "\n",
    "    def bandpass_filter(self, data, lowcut, highcut, fs, order=2):\n",
    "        nyq = 0.5 * fs\n",
    "        low = lowcut / nyq\n",
    "        high = highcut / nyq\n",
    "        b, a = butter(order, [low, high], btype='band')\n",
    "        y = lfilter(b, a, data)\n",
    "        return y\n",
    "\n",
    "    def apply_equalizer(self):\n",
    "        if self.audio_data is None:\n",
    "            return None\n",
    "        output = np.zeros_like(self.audio_data)\n",
    "        for i, (low, high) in enumerate(BANDS):\n",
    "            gain_db = self.sliders[i].get()\n",
    "            gain = 10 ** (gain_db / 20)\n",
    "            filtered = self.bandpass_filter(self.audio_data, low, high, self.fs)\n",
    "            output += gain * filtered\n",
    "        max_val = np.max(np.abs(output))\n",
    "        if max_val > 0:\n",
    "            output = output / max_val\n",
    "        return output.astype(np.float32)\n",
    "\n",
    "    def play_audio(self):\n",
    "        equalized_data = self.apply_equalizer()\n",
    "        if equalized_data is None:\n",
    "            return\n",
    "        p = pyaudio.PyAudio()\n",
    "        stream = p.open(format=pyaudio.paFloat32,\n",
    "                        channels=1,\n",
    "                        rate=self.fs,\n",
    "                        output=True)\n",
    "        stream.write(equalized_data.tobytes())\n",
    "        stream.stop_stream()\n",
    "        stream.close()\n",
    "        p.terminate()\n",
    "\n",
    "if __name__ == \"__main__\":\n",
    "    root = tk.Tk()\n",
    "    app = EqualizerApp(root)\n",
    "    root.mainloop()"
   ]
  },
  {
   "cell_type": "markdown",
   "metadata": {},
   "source": [
    "### ** Problem 8. Error-Correcting Codes\n",
    "In communication and data storage, it's important to prevent, detect, and possibly correct errors (such as errors in data transmission). There are various schemes to implement such correction, mainly by sending additional info with the data. A popular such scheme is the [Hamming code](https://en.wikipedia.org/wiki/Hamming_code). Your task is to explore how it works, implement an example, and compare it to other error detection and correction mechanisms.\n",
    "* What is an error-correcting code? Why are they important?\n",
    "* What are the different types of error-correcting codes? Provide real-world examples.\n",
    "* What is a **Hamming code**? Describe the history and / or derive the formula(s). \n",
    "* What are parity bits and how do we use them?\n",
    "* What is the Hamming distance and what is its significance? How is it related to other distance metrics for text / bit sequences?\n",
    "* Deeper dive into mathematics:\n",
    "    * Derive the general formula for the number of parity bits required for a given number of data bits.\n",
    "    * Explain the process of encoding data using Hamming codes. How are parity bits positioned in the data?\n",
    "    * Describe the process of detecting and correcting errors using Hamming codes. How are syndrome vectors used in this process?\n",
    "* Implement encoding / decoding, error detection and error correction\n",
    "    * Simplest case - illustrate one-bit detection / correction\n",
    "    * Apply the encoding scheme to a real-world scenario\n",
    "    * Compare your implementation to a Python library. Discuss efficiency, timing, code quality, etc.\n",
    "* Discussion:\n",
    "    * What are the limitations of Hamming codes? How do more advanced error-correcting codes address these limitations?\n",
    "    * Research at least one other error-correcting codes used in industry. Compare their complexity and effectiveness with Hamming codes. Provide at least one real-world example (and edge cases, if possible)."
   ]
  },
  {
   "cell_type": "markdown",
   "metadata": {},
   "source": [
    "### ** Problem 9. Probabilistic Data Structures\n",
    "A very interesting application of probability in computer science is a kind of data structures which have a probabilistic behaviour. Examples of these are **Bloom filter**, **Skip list**, **Count-min sketch** and **HyperLogLog**.\n",
    "\n",
    "Research how one of these structures works. Or write about many of them, if you wish. You can use the following checklist as a guide:\n",
    "* What is a data structure? \n",
    "* What is a probabilistic data structure?\n",
    "    * Where does the probabilistic behaviour emerge?\n",
    "    * What advantages do these structures provide?\n",
    "* For your chosen structure, how is it constructed?\n",
    "    * What parts do you need? What are the details?\n",
    "* How does the structure work?\n",
    "    * What operations can you do?\n",
    "    * What are the typical probabilities associated with these operations?\n",
    "* Analyze the structure\n",
    "    * Analyze the runtimes for all operations\n",
    "    * Analyze the space usage\n",
    "    * Compare to a similar, non-probabilistic data structure\n",
    "    * What advantages does the new data structure have? What drawbacks do you need to be aware of?\n",
    "* Give at least one example where this structure is useful\n",
    "    * E.g., Bloom filter - spell checkers\n",
    "    * Analyze the use case\n",
    "    * If possible, implement the use case\n",
    "    * Display some metrics (e.g. % conserved space, % reduced time)"
   ]
  }
 ],
 "metadata": {
  "kernelspec": {
   "display_name": "Python 3 (ipykernel)",
   "language": "python",
   "name": "python3"
  },
  "language_info": {
   "codemirror_mode": {
    "name": "ipython",
    "version": 3
   },
   "file_extension": ".py",
   "mimetype": "text/x-python",
   "name": "python",
   "nbconvert_exporter": "python",
   "pygments_lexer": "ipython3",
   "version": "3.13.2"
  }
 },
 "nbformat": 4,
 "nbformat_minor": 4
}
