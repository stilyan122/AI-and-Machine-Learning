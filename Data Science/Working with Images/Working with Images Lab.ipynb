{
 "cells": [
  {
   "cell_type": "code",
   "execution_count": 1,
   "id": "ecac9c20-e9eb-4b83-b9b3-edd1ec32d57a",
   "metadata": {},
   "outputs": [],
   "source": [
    "import os\n",
    "import numpy as np\n",
    "import hashlib\n",
    "import torchvision.models as models\n",
    "from torch import nn\n",
    "from PIL import Image\n",
    "from collections import Counter, defaultdict"
   ]
  },
  {
   "cell_type": "markdown",
   "id": "4f409693-729b-4a8a-b69e-767deb80b648",
   "metadata": {},
   "source": [
    "# Working with Images Lab\n",
    "## Information retrieval, preprocessing, and feature extraction"
   ]
  },
  {
   "cell_type": "markdown",
   "id": "71a328e6-f43f-40c3-abf3-cb650ff59141",
   "metadata": {},
   "source": [
    "In this lab, you'll work with images of felines (cats), which have been classified according to their taxonomy. Each subfolder contains images of a particular species. The dataset is located [here](https://www.kaggle.com/datasets/datahmifitb/felis-taxonomy-image-classification) but it's also provided to you in the `data/` folder."
   ]
  },
  {
   "cell_type": "markdown",
   "id": "2930cdea-105b-4f27-b28f-30323036b6c1",
   "metadata": {},
   "source": [
    "### Problem 1. Some exploration (1 point)\n",
    "How many types of cats are there? How many images do we have of each? What is a typical image size? Are there any outliers in size?"
   ]
  },
  {
   "cell_type": "code",
   "execution_count": 2,
   "id": "72d6fbdb-37b4-4ce4-a3fa-65954c377539",
   "metadata": {},
   "outputs": [
    {
     "name": "stdout",
     "output_type": "stream",
     "text": [
      "Number of cat types (species): 7\n",
      "Species names: ['african-wildcat', 'blackfoot-cat', 'chinese-mountain-cat', 'domestic-cat', 'european-wildcat', 'jungle-cat', 'sand-cat']\n"
     ]
    }
   ],
   "source": [
    "dataset_path = \"data/\"\n",
    "species = [d for d in os.listdir(dataset_path)]\n",
    "\n",
    "print(f\"Number of cat types (species): {len(species)}\")\n",
    "print(\"Species names:\", species)"
   ]
  },
  {
   "cell_type": "code",
   "execution_count": 3,
   "id": "7d42c5d5-6291-485c-beed-7e7a9bc3eaf9",
   "metadata": {},
   "outputs": [
    {
     "name": "stdout",
     "output_type": "stream",
     "text": [
      "african-wildcat: 91 images\n",
      "blackfoot-cat: 79 images\n",
      "chinese-mountain-cat: 40 images\n",
      "domestic-cat: 64 images\n",
      "european-wildcat: 57 images\n",
      "jungle-cat: 86 images\n",
      "sand-cat: 73 images\n"
     ]
    }
   ],
   "source": [
    "for s in species:\n",
    "    folder = os.path.join(dataset_path, s)\n",
    "    count = len([f for f in os.listdir(folder)])\n",
    "    print(f\"{s}: {count} images\")"
   ]
  },
  {
   "cell_type": "code",
   "execution_count": 4,
   "id": "757c1cf5-301d-47a3-a5db-56b28e2dc120",
   "metadata": {},
   "outputs": [
    {
     "name": "stdout",
     "output_type": "stream",
     "text": [
      "Most common image size: (275, 183) (occurs 108 times)\n",
      "Average image size: 376.10 x 290.52\n"
     ]
    }
   ],
   "source": [
    "image_sizes = []\n",
    "\n",
    "for s in species:\n",
    "    folder = os.path.join(dataset_path, s)\n",
    "    \n",
    "    for fname in os.listdir(folder):\n",
    "        path = os.path.join(folder, fname)\n",
    "\n",
    "        if fname.lower().endswith(('.jpg', '.jpeg', '.png')):\n",
    "            with Image.open(path) as img:\n",
    "                image_sizes.append(img.size)\n",
    "\n",
    "most_common_size = Counter(image_sizes).most_common(1)[0]\n",
    "print(f\"Most common image size: {most_common_size[0]} (occurs {most_common_size[1]} times)\")\n",
    "\n",
    "widths, heights = zip(*image_sizes)\n",
    "avg_width = sum(widths) / len(widths)\n",
    "avg_height = sum(heights) / len(heights)\n",
    "print(f\"Average image size: {avg_width:.2f} x {avg_height:.2f}\")"
   ]
  },
  {
   "cell_type": "markdown",
   "id": "a1489384-ba14-40dc-bbb0-3cba54ab09df",
   "metadata": {},
   "source": [
    "Let's define outliers as images much smaller or much larger than typical (mean +- 2 * std)."
   ]
  },
  {
   "cell_type": "code",
   "execution_count": 5,
   "id": "1b96e2dd-b4aa-4600-bf7d-dbce8f6ba665",
   "metadata": {},
   "outputs": [
    {
     "name": "stdout",
     "output_type": "stream",
     "text": [
      "Found 25 image size outliers:\n",
      "Some outlier sizes: [(1500, 1038), (4000, 3000), (4000, 3000), (2048, 1365), (1644, 2598)]\n"
     ]
    }
   ],
   "source": [
    "widths_np_array = np.array(widths)\n",
    "heights_np_array = np.array(heights)\n",
    "\n",
    "mean_widths, std_widths = widths_np_array.mean(), widths_np_array.std()\n",
    "mean_heights, std_heights = heights_np_array.mean(), heights_np_array.std()\n",
    "\n",
    "outliers = [(w, h) for (w, h) in image_sizes if\n",
    "            w < mean_widths - 2 * std_widths or w > mean_widths + 2 * std_widths or\n",
    "            h < mean_heights - 2 * std_heights or h > mean_heights + 2 * std_heights]\n",
    "\n",
    "print(f\"Found {len(outliers)} image size outliers:\")\n",
    "\n",
    "if outliers:\n",
    "    print(\"Some outlier sizes:\", outliers[:5])"
   ]
  },
  {
   "cell_type": "markdown",
   "id": "6a54a788-a46a-4683-b78e-6e9c9e25c46d",
   "metadata": {},
   "source": [
    "### Problem 2. Duplicat(e)s (1 point)\n",
    "Find a way to filter out (remove) identical images. I would recommnend using file hashes, but there are many approaches. Keep in mind that during file saving, recompression, etc., a lot of artifacts can change the file content (bytes), but not visually."
   ]
  },
  {
   "cell_type": "code",
   "execution_count": 6,
   "id": "82a8920c-1237-488e-8267-c1f6cadbdb38",
   "metadata": {},
   "outputs": [],
   "source": [
    "def get_file_hash(path):\n",
    "    \"\"\"\n",
    "    Function to obtain file hash receiving a file\n",
    "    \"\"\"\n",
    "    \n",
    "    with open(path, 'rb') as f:\n",
    "        return hashlib.md5(f.read()).hexdigest()"
   ]
  },
  {
   "cell_type": "code",
   "execution_count": 7,
   "id": "f008e180-9da6-48ba-8fc1-dc531ee3c519",
   "metadata": {},
   "outputs": [],
   "source": [
    "hashes = defaultdict(list)\n",
    "\n",
    "for s in species:\n",
    "    folder = os.path.join(dataset_path, s)\n",
    "    \n",
    "    for fname in os.listdir(folder):\n",
    "        if fname.lower().endswith(('.jpg', '.jpeg', '.png')):\n",
    "            path = os.path.join(folder, fname)\n",
    "            file_hash = get_file_hash(path)\n",
    "            hashes[file_hash].append(path)"
   ]
  },
  {
   "cell_type": "code",
   "execution_count": 8,
   "id": "5b99e7be-1e00-48c7-be6c-072487595a29",
   "metadata": {},
   "outputs": [
    {
     "name": "stdout",
     "output_type": "stream",
     "text": [
      "Found 0 groups of exact duplicates.\n"
     ]
    }
   ],
   "source": [
    "duplicates = [paths for paths in hashes.values() if len(paths) > 1]\n",
    "print(f\"Found {len(duplicates)} groups of exact duplicates.\")"
   ]
  },
  {
   "cell_type": "code",
   "execution_count": 9,
   "id": "115a6c92-0967-4125-9d06-8ea23116226d",
   "metadata": {},
   "outputs": [],
   "source": [
    "for group in duplicates:\n",
    "    for dup in group:\n",
    "        os.remove(dup)\n",
    "        print(f\"Removed: {dup}\")"
   ]
  },
  {
   "cell_type": "markdown",
   "id": "fe06aa81-8a52-4fc4-8553-af7353b1c0d4",
   "metadata": {},
   "source": [
    "I used MD5 file hashing to detect and remove duplicate images. This method works well for exact file duplicates, where the image content and encoding are identical. However, it may miss visually identical images that differ in compression or format. I could use perceptual hashing (like imagehash.phash()), which compares visual content rather than file bytes."
   ]
  },
  {
   "cell_type": "markdown",
   "id": "918359ba-8d97-42c4-82ec-975931ec7fb9",
   "metadata": {},
   "source": [
    "### Problem 3. Loading a model (2 points)\n",
    "Find a suitable, trained convolutional neural network classifier. I recommend `ResNet50` as it's small enough to run well on any machine and powerful enough to make reasonable predictions. Most ready-made classifiers have been trained for 1000 classes.\n",
    "\n",
    "You'll need to install libraries and possibly tinker with configurations for this task. When you're done, display the total number of layers and the total number of parameters. For ResNet50, you should expect around 50 layers and 25M parameters."
   ]
  },
  {
   "cell_type": "code",
   "execution_count": 10,
   "id": "98893e8c-0a0d-401e-8325-f2683bccd386",
   "metadata": {},
   "outputs": [
    {
     "name": "stdout",
     "output_type": "stream",
     "text": [
      "Total parameters: 25,557,032\n",
      "Total main layers: 54\n"
     ]
    }
   ],
   "source": [
    "resnet = models.resnet50()\n",
    "\n",
    "total_params = sum(p.numel() for p in resnet.parameters())\n",
    "main_layers = [m for m in resnet.modules() if isinstance(m, (nn.Conv2d, nn.Linear))]\n",
    "\n",
    "print(f\"Total parameters: {total_params:,}\")\n",
    "# We need to count only layers with weights (Conv2d, Linear) -> main layers\n",
    "print(f\"Total main layers: {len(main_layers)}\")"
   ]
  },
  {
   "cell_type": "markdown",
   "id": "9fef6b32-db23-4616-b497-e78a41a1d487",
   "metadata": {},
   "source": [
    "### Problem 4. Prepare the images (1 point)\n",
    "You'll need to prepare the images for passing to the model. To do so, they have to be resized to the same dimensions. Most available models have a specific requirement for sizes. You may need to do additional preprocessing, depending on the model requirements. These requirements should be easily available in the model documentation."
   ]
  },
  {
   "cell_type": "code",
   "execution_count": null,
   "id": "87300cdc-b8b0-4fae-83dc-b0b15639ec71",
   "metadata": {},
   "outputs": [],
   "source": []
  },
  {
   "cell_type": "markdown",
   "id": "d6ade4b3-62ac-4f4e-aa02-3c65dc9ab3d9",
   "metadata": {},
   "source": [
    "### Problem 5. Load the images efficiently (1 point)\n",
    "Now that you've seen how to prepare the images for passing to the model... find a way to do it efficiently. Instead of loading the entire dataset in the RAM, read the images in batches (e.g. 4 images at a time). The goal is to read these, preprocess them, maybe save the preprocessed results in RAM.\n",
    "\n",
    "If you've already done this in one of the previous problems, just skip this one. You'll get your point for it.\n",
    "\n",
    "\\* Even better, save the preprocessed image arrays (they will not be valid .jpg file) as separate files, so you can load them \"lazily\" in the following steps. This is a very common optimization to work with large datasets."
   ]
  },
  {
   "cell_type": "code",
   "execution_count": null,
   "id": "70b660eb-ab73-42f1-8f57-34fff32d6111",
   "metadata": {},
   "outputs": [],
   "source": []
  },
  {
   "cell_type": "markdown",
   "id": "f62f557e-fae0-42f1-aa3b-4402a9be05d2",
   "metadata": {},
   "source": [
    "### Problem 6. Predictions (1 point)\n",
    "Finally, you're ready to get into the meat of the problem. Obtain predictions from your model and evaluate them. This will likely involve manual work to decide how the returned classes relate to the original ones.\n",
    "\n",
    "Create a [confusion matrix](https://en.wikipedia.org/wiki/Confusion_matrix) to evaluate the classification."
   ]
  },
  {
   "cell_type": "code",
   "execution_count": null,
   "id": "96856dec-a4b6-4930-a237-61ec399017d8",
   "metadata": {},
   "outputs": [],
   "source": []
  },
  {
   "cell_type": "markdown",
   "id": "5020f81e-721f-4882-83eb-80379f7a20ac",
   "metadata": {},
   "source": [
    "### Problem 7. Grayscale (1 point)\n",
    "Converting the images to grayscale should affect the classification negatively, as we lose some of the color information.\n",
    "\n",
    "Find a way to preprocess the images to grayscale (using what you already have in Problem 4 and 5), pass them to the model, and compare the classification results to the previous ones."
   ]
  },
  {
   "cell_type": "code",
   "execution_count": null,
   "id": "24421ab0-f30f-447c-a496-80d9aa00cbe5",
   "metadata": {},
   "outputs": [],
   "source": []
  },
  {
   "cell_type": "markdown",
   "id": "e585e663-2f06-4562-8bea-504b3d583c66",
   "metadata": {},
   "source": [
    "### Problem 8. Deep image features (1 point)\n",
    "Find a way to extract one-dimensional vectors (features) for each (non-grayscale) image, using your model. This is typically done by \"short-circuiting\" the model output to be an intermediate layer, while keeping the input the same. \n",
    "\n",
    "In case the outputs (also called feature maps) have different shapes, you can flatten them in different ways. Try to not create huge vectors; the goal is to have a relatively short sequence of numbers which describes each image.\n",
    "\n",
    "You may find a tutorial like [this](https://towardsdatascience.com/exploring-feature-extraction-with-cnns-345125cefc9a) pretty useful but note your implementation will depend on what model (and framework) you've decided to use.\n",
    "\n",
    "It's a good idea to save these as one or more files, so you'll spare yourself a ton of preprocessing."
   ]
  },
  {
   "cell_type": "code",
   "execution_count": null,
   "id": "71347edf-a13b-4683-beb2-af0a093a0cd9",
   "metadata": {},
   "outputs": [],
   "source": []
  },
  {
   "cell_type": "markdown",
   "id": "d9bd0ab0-910a-4dad-9383-011e7d7616e1",
   "metadata": {},
   "source": [
    "### Problem 9. Putting deep image features to use (1 points)\n",
    "Try to find similar images, using a similarity metric on the features you got in the previous problem. Two good metrics are `mean squared error` and `cosine similarity`. How do they work? Can you spot images that look too similar? Can you explain why?\n",
    "\n",
    "\\* If we were to take Fourier features (in a similar manner, these should be a vector of about the same length), how do they compare to the deep features; i.e., which features are better to \"catch\" similar images?"
   ]
  },
  {
   "cell_type": "code",
   "execution_count": null,
   "id": "5276ec7b-7736-4508-99bd-29516464e3f7",
   "metadata": {},
   "outputs": [],
   "source": []
  },
  {
   "cell_type": "markdown",
   "id": "ba16d333-35f0-4b3d-b4b8-3d86cf5cd8b4",
   "metadata": {},
   "source": [
    "### * Problem 10. Explore, predict, and evaluate further\n",
    "You can do a ton of things here, at your desire. For example, how does masking different areas of the image affect classification - a method known as **saliency map** ([info](https://en.wikipedia.org/wiki/Saliency_map))? Can we detect objects? Can we significantly reduce the number of features (keeping the quality) that we get? Can we reliably train a model to predict our own classes? We'll look into these in detail in the future."
   ]
  },
  {
   "cell_type": "code",
   "execution_count": null,
   "id": "f02f1a50-ea32-41ce-9215-77a80c300dbd",
   "metadata": {},
   "outputs": [],
   "source": []
  }
 ],
 "metadata": {
  "kernelspec": {
   "display_name": "Python 3 (ipykernel)",
   "language": "python",
   "name": "python3"
  },
  "language_info": {
   "codemirror_mode": {
    "name": "ipython",
    "version": 3
   },
   "file_extension": ".py",
   "mimetype": "text/x-python",
   "name": "python",
   "nbconvert_exporter": "python",
   "pygments_lexer": "ipython3",
   "version": "3.13.2"
  }
 },
 "nbformat": 4,
 "nbformat_minor": 5
}
