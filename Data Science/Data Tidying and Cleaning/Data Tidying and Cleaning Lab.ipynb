{
 "cells": [
  {
   "cell_type": "code",
   "execution_count": 1,
   "id": "078d90d4-aec6-40fe-997f-ce63c962d936",
   "metadata": {},
   "outputs": [],
   "source": [
    "import pandas as pd\n",
    "import numpy as np\n",
    "import matplotlib.pyplot as plt"
   ]
  },
  {
   "cell_type": "markdown",
   "id": "02aa71be-5d01-4efc-85fa-a019fe92a39a",
   "metadata": {},
   "source": [
    "# Data Tidying and Cleaning Lab\n",
    "## Reading, tidying and cleaning data. Preparing data for exploration, mining, analysis and learning"
   ]
  },
  {
   "cell_type": "markdown",
   "id": "259927d3-4ad5-471e-b34b-114f07127a39",
   "metadata": {},
   "source": [
    "In this lab, you'll be working with the Coffee Quality Index dataset, located [here](https://www.kaggle.com/datasets/volpatto/coffee-quality-database-from-cqi). For convenience (and to save trouble in case you can't download files, or someone uploads a newer version), I've provided the dataset in the `data/` folder. The metadata (description) is at the Kaggle link. For this lab, you'll only need `merged_data_cleaned.csv`, as it is the concatenation of the other two datasets.\n",
    "\n",
    "In this (and the following labs), you'll get several questions and problems. Do your analysis, describe it, use any tools and plots you wish, and answer. You can create any amount of cells you'd like.\n",
    "\n",
    "Sometimes, the answers will not be unique, and they will depend on how you decide to approach and solve the problem. This is usual - we're doing science after all!\n",
    "\n",
    "It's a good idea to save your clean dataset after all the work you've done to it."
   ]
  },
  {
   "cell_type": "markdown",
   "id": "4450ac8e-523c-46f8-a410-9ad5af4cfc14",
   "metadata": {},
   "source": [
    "### Problem 1. Read the dataset (1 point)\n",
    "This should be self-explanatory. The first column is the index."
   ]
  },
  {
   "cell_type": "code",
   "execution_count": 2,
   "id": "df50bd71-ea2a-4db9-814d-c49f782ca101",
   "metadata": {},
   "outputs": [
    {
     "data": {
      "text/html": [
       "<div>\n",
       "<style scoped>\n",
       "    .dataframe tbody tr th:only-of-type {\n",
       "        vertical-align: middle;\n",
       "    }\n",
       "\n",
       "    .dataframe tbody tr th {\n",
       "        vertical-align: top;\n",
       "    }\n",
       "\n",
       "    .dataframe thead th {\n",
       "        text-align: right;\n",
       "    }\n",
       "</style>\n",
       "<table border=\"1\" class=\"dataframe\">\n",
       "  <thead>\n",
       "    <tr style=\"text-align: right;\">\n",
       "      <th></th>\n",
       "      <th>Unnamed: 0</th>\n",
       "      <th>Species</th>\n",
       "      <th>Owner</th>\n",
       "      <th>Country.of.Origin</th>\n",
       "      <th>Farm.Name</th>\n",
       "      <th>Lot.Number</th>\n",
       "      <th>Mill</th>\n",
       "      <th>ICO.Number</th>\n",
       "      <th>Company</th>\n",
       "      <th>Altitude</th>\n",
       "      <th>...</th>\n",
       "      <th>Color</th>\n",
       "      <th>Category.Two.Defects</th>\n",
       "      <th>Expiration</th>\n",
       "      <th>Certification.Body</th>\n",
       "      <th>Certification.Address</th>\n",
       "      <th>Certification.Contact</th>\n",
       "      <th>unit_of_measurement</th>\n",
       "      <th>altitude_low_meters</th>\n",
       "      <th>altitude_high_meters</th>\n",
       "      <th>altitude_mean_meters</th>\n",
       "    </tr>\n",
       "  </thead>\n",
       "  <tbody>\n",
       "    <tr>\n",
       "      <th>0</th>\n",
       "      <td>0</td>\n",
       "      <td>Arabica</td>\n",
       "      <td>metad plc</td>\n",
       "      <td>Ethiopia</td>\n",
       "      <td>metad plc</td>\n",
       "      <td>NaN</td>\n",
       "      <td>metad plc</td>\n",
       "      <td>2014/2015</td>\n",
       "      <td>metad agricultural developmet plc</td>\n",
       "      <td>1950-2200</td>\n",
       "      <td>...</td>\n",
       "      <td>Green</td>\n",
       "      <td>0</td>\n",
       "      <td>April 3rd, 2016</td>\n",
       "      <td>METAD Agricultural Development plc</td>\n",
       "      <td>309fcf77415a3661ae83e027f7e5f05dad786e44</td>\n",
       "      <td>19fef5a731de2db57d16da10287413f5f99bc2dd</td>\n",
       "      <td>m</td>\n",
       "      <td>1950.0</td>\n",
       "      <td>2200.0</td>\n",
       "      <td>2075.0</td>\n",
       "    </tr>\n",
       "    <tr>\n",
       "      <th>1</th>\n",
       "      <td>1</td>\n",
       "      <td>Arabica</td>\n",
       "      <td>metad plc</td>\n",
       "      <td>Ethiopia</td>\n",
       "      <td>metad plc</td>\n",
       "      <td>NaN</td>\n",
       "      <td>metad plc</td>\n",
       "      <td>2014/2015</td>\n",
       "      <td>metad agricultural developmet plc</td>\n",
       "      <td>1950-2200</td>\n",
       "      <td>...</td>\n",
       "      <td>Green</td>\n",
       "      <td>1</td>\n",
       "      <td>April 3rd, 2016</td>\n",
       "      <td>METAD Agricultural Development plc</td>\n",
       "      <td>309fcf77415a3661ae83e027f7e5f05dad786e44</td>\n",
       "      <td>19fef5a731de2db57d16da10287413f5f99bc2dd</td>\n",
       "      <td>m</td>\n",
       "      <td>1950.0</td>\n",
       "      <td>2200.0</td>\n",
       "      <td>2075.0</td>\n",
       "    </tr>\n",
       "    <tr>\n",
       "      <th>2</th>\n",
       "      <td>2</td>\n",
       "      <td>Arabica</td>\n",
       "      <td>grounds for health admin</td>\n",
       "      <td>Guatemala</td>\n",
       "      <td>san marcos barrancas \"san cristobal cuch</td>\n",
       "      <td>NaN</td>\n",
       "      <td>NaN</td>\n",
       "      <td>NaN</td>\n",
       "      <td>NaN</td>\n",
       "      <td>1600 - 1800 m</td>\n",
       "      <td>...</td>\n",
       "      <td>NaN</td>\n",
       "      <td>0</td>\n",
       "      <td>May 31st, 2011</td>\n",
       "      <td>Specialty Coffee Association</td>\n",
       "      <td>36d0d00a3724338ba7937c52a378d085f2172daa</td>\n",
       "      <td>0878a7d4b9d35ddbf0fe2ce69a2062cceb45a660</td>\n",
       "      <td>m</td>\n",
       "      <td>1600.0</td>\n",
       "      <td>1800.0</td>\n",
       "      <td>1700.0</td>\n",
       "    </tr>\n",
       "    <tr>\n",
       "      <th>3</th>\n",
       "      <td>3</td>\n",
       "      <td>Arabica</td>\n",
       "      <td>yidnekachew dabessa</td>\n",
       "      <td>Ethiopia</td>\n",
       "      <td>yidnekachew dabessa coffee plantation</td>\n",
       "      <td>NaN</td>\n",
       "      <td>wolensu</td>\n",
       "      <td>NaN</td>\n",
       "      <td>yidnekachew debessa coffee plantation</td>\n",
       "      <td>1800-2200</td>\n",
       "      <td>...</td>\n",
       "      <td>Green</td>\n",
       "      <td>2</td>\n",
       "      <td>March 25th, 2016</td>\n",
       "      <td>METAD Agricultural Development plc</td>\n",
       "      <td>309fcf77415a3661ae83e027f7e5f05dad786e44</td>\n",
       "      <td>19fef5a731de2db57d16da10287413f5f99bc2dd</td>\n",
       "      <td>m</td>\n",
       "      <td>1800.0</td>\n",
       "      <td>2200.0</td>\n",
       "      <td>2000.0</td>\n",
       "    </tr>\n",
       "    <tr>\n",
       "      <th>4</th>\n",
       "      <td>4</td>\n",
       "      <td>Arabica</td>\n",
       "      <td>metad plc</td>\n",
       "      <td>Ethiopia</td>\n",
       "      <td>metad plc</td>\n",
       "      <td>NaN</td>\n",
       "      <td>metad plc</td>\n",
       "      <td>2014/2015</td>\n",
       "      <td>metad agricultural developmet plc</td>\n",
       "      <td>1950-2200</td>\n",
       "      <td>...</td>\n",
       "      <td>Green</td>\n",
       "      <td>2</td>\n",
       "      <td>April 3rd, 2016</td>\n",
       "      <td>METAD Agricultural Development plc</td>\n",
       "      <td>309fcf77415a3661ae83e027f7e5f05dad786e44</td>\n",
       "      <td>19fef5a731de2db57d16da10287413f5f99bc2dd</td>\n",
       "      <td>m</td>\n",
       "      <td>1950.0</td>\n",
       "      <td>2200.0</td>\n",
       "      <td>2075.0</td>\n",
       "    </tr>\n",
       "    <tr>\n",
       "      <th>...</th>\n",
       "      <td>...</td>\n",
       "      <td>...</td>\n",
       "      <td>...</td>\n",
       "      <td>...</td>\n",
       "      <td>...</td>\n",
       "      <td>...</td>\n",
       "      <td>...</td>\n",
       "      <td>...</td>\n",
       "      <td>...</td>\n",
       "      <td>...</td>\n",
       "      <td>...</td>\n",
       "      <td>...</td>\n",
       "      <td>...</td>\n",
       "      <td>...</td>\n",
       "      <td>...</td>\n",
       "      <td>...</td>\n",
       "      <td>...</td>\n",
       "      <td>...</td>\n",
       "      <td>...</td>\n",
       "      <td>...</td>\n",
       "      <td>...</td>\n",
       "    </tr>\n",
       "    <tr>\n",
       "      <th>1334</th>\n",
       "      <td>1334</td>\n",
       "      <td>Robusta</td>\n",
       "      <td>luis robles</td>\n",
       "      <td>Ecuador</td>\n",
       "      <td>robustasa</td>\n",
       "      <td>Lavado 1</td>\n",
       "      <td>our own lab</td>\n",
       "      <td>NaN</td>\n",
       "      <td>robustasa</td>\n",
       "      <td>NaN</td>\n",
       "      <td>...</td>\n",
       "      <td>Blue-Green</td>\n",
       "      <td>1</td>\n",
       "      <td>January 18th, 2017</td>\n",
       "      <td>Specialty Coffee Association</td>\n",
       "      <td>ff7c18ad303d4b603ac3f8cff7e611ffc735e720</td>\n",
       "      <td>352d0cf7f3e9be14dad7df644ad65efc27605ae2</td>\n",
       "      <td>m</td>\n",
       "      <td>NaN</td>\n",
       "      <td>NaN</td>\n",
       "      <td>NaN</td>\n",
       "    </tr>\n",
       "    <tr>\n",
       "      <th>1335</th>\n",
       "      <td>1335</td>\n",
       "      <td>Robusta</td>\n",
       "      <td>luis robles</td>\n",
       "      <td>Ecuador</td>\n",
       "      <td>robustasa</td>\n",
       "      <td>Lavado 3</td>\n",
       "      <td>own laboratory</td>\n",
       "      <td>NaN</td>\n",
       "      <td>robustasa</td>\n",
       "      <td>40</td>\n",
       "      <td>...</td>\n",
       "      <td>Blue-Green</td>\n",
       "      <td>0</td>\n",
       "      <td>January 18th, 2017</td>\n",
       "      <td>Specialty Coffee Association</td>\n",
       "      <td>ff7c18ad303d4b603ac3f8cff7e611ffc735e720</td>\n",
       "      <td>352d0cf7f3e9be14dad7df644ad65efc27605ae2</td>\n",
       "      <td>m</td>\n",
       "      <td>40.0</td>\n",
       "      <td>40.0</td>\n",
       "      <td>40.0</td>\n",
       "    </tr>\n",
       "    <tr>\n",
       "      <th>1336</th>\n",
       "      <td>1336</td>\n",
       "      <td>Robusta</td>\n",
       "      <td>james moore</td>\n",
       "      <td>United States</td>\n",
       "      <td>fazenda cazengo</td>\n",
       "      <td>NaN</td>\n",
       "      <td>cafe cazengo</td>\n",
       "      <td>NaN</td>\n",
       "      <td>global opportunity fund</td>\n",
       "      <td>795 meters</td>\n",
       "      <td>...</td>\n",
       "      <td>NaN</td>\n",
       "      <td>6</td>\n",
       "      <td>December 23rd, 2015</td>\n",
       "      <td>Specialty Coffee Association</td>\n",
       "      <td>ff7c18ad303d4b603ac3f8cff7e611ffc735e720</td>\n",
       "      <td>352d0cf7f3e9be14dad7df644ad65efc27605ae2</td>\n",
       "      <td>m</td>\n",
       "      <td>795.0</td>\n",
       "      <td>795.0</td>\n",
       "      <td>795.0</td>\n",
       "    </tr>\n",
       "    <tr>\n",
       "      <th>1337</th>\n",
       "      <td>1337</td>\n",
       "      <td>Robusta</td>\n",
       "      <td>cafe politico</td>\n",
       "      <td>India</td>\n",
       "      <td>NaN</td>\n",
       "      <td>NaN</td>\n",
       "      <td>NaN</td>\n",
       "      <td>14-1118-2014-0087</td>\n",
       "      <td>cafe politico</td>\n",
       "      <td>NaN</td>\n",
       "      <td>...</td>\n",
       "      <td>Green</td>\n",
       "      <td>1</td>\n",
       "      <td>August 25th, 2015</td>\n",
       "      <td>Specialty Coffee Association</td>\n",
       "      <td>ff7c18ad303d4b603ac3f8cff7e611ffc735e720</td>\n",
       "      <td>352d0cf7f3e9be14dad7df644ad65efc27605ae2</td>\n",
       "      <td>m</td>\n",
       "      <td>NaN</td>\n",
       "      <td>NaN</td>\n",
       "      <td>NaN</td>\n",
       "    </tr>\n",
       "    <tr>\n",
       "      <th>1338</th>\n",
       "      <td>1338</td>\n",
       "      <td>Robusta</td>\n",
       "      <td>cafe politico</td>\n",
       "      <td>Vietnam</td>\n",
       "      <td>NaN</td>\n",
       "      <td>NaN</td>\n",
       "      <td>NaN</td>\n",
       "      <td>NaN</td>\n",
       "      <td>cafe politico</td>\n",
       "      <td>NaN</td>\n",
       "      <td>...</td>\n",
       "      <td>NaN</td>\n",
       "      <td>9</td>\n",
       "      <td>August 25th, 2015</td>\n",
       "      <td>Specialty Coffee Association</td>\n",
       "      <td>ff7c18ad303d4b603ac3f8cff7e611ffc735e720</td>\n",
       "      <td>352d0cf7f3e9be14dad7df644ad65efc27605ae2</td>\n",
       "      <td>m</td>\n",
       "      <td>NaN</td>\n",
       "      <td>NaN</td>\n",
       "      <td>NaN</td>\n",
       "    </tr>\n",
       "  </tbody>\n",
       "</table>\n",
       "<p>1339 rows × 44 columns</p>\n",
       "</div>"
      ],
      "text/plain": [
       "      Unnamed: 0  Species                     Owner Country.of.Origin  \\\n",
       "0              0  Arabica                 metad plc          Ethiopia   \n",
       "1              1  Arabica                 metad plc          Ethiopia   \n",
       "2              2  Arabica  grounds for health admin         Guatemala   \n",
       "3              3  Arabica       yidnekachew dabessa          Ethiopia   \n",
       "4              4  Arabica                 metad plc          Ethiopia   \n",
       "...          ...      ...                       ...               ...   \n",
       "1334        1334  Robusta               luis robles           Ecuador   \n",
       "1335        1335  Robusta               luis robles           Ecuador   \n",
       "1336        1336  Robusta               james moore     United States   \n",
       "1337        1337  Robusta             cafe politico             India   \n",
       "1338        1338  Robusta             cafe politico           Vietnam   \n",
       "\n",
       "                                     Farm.Name Lot.Number            Mill  \\\n",
       "0                                    metad plc        NaN       metad plc   \n",
       "1                                    metad plc        NaN       metad plc   \n",
       "2     san marcos barrancas \"san cristobal cuch        NaN             NaN   \n",
       "3        yidnekachew dabessa coffee plantation        NaN         wolensu   \n",
       "4                                    metad plc        NaN       metad plc   \n",
       "...                                        ...        ...             ...   \n",
       "1334                                 robustasa   Lavado 1     our own lab   \n",
       "1335                                 robustasa   Lavado 3  own laboratory   \n",
       "1336                           fazenda cazengo        NaN    cafe cazengo   \n",
       "1337                                       NaN        NaN             NaN   \n",
       "1338                                       NaN        NaN             NaN   \n",
       "\n",
       "             ICO.Number                                Company       Altitude  \\\n",
       "0             2014/2015      metad agricultural developmet plc      1950-2200   \n",
       "1             2014/2015      metad agricultural developmet plc      1950-2200   \n",
       "2                   NaN                                    NaN  1600 - 1800 m   \n",
       "3                   NaN  yidnekachew debessa coffee plantation      1800-2200   \n",
       "4             2014/2015      metad agricultural developmet plc      1950-2200   \n",
       "...                 ...                                    ...            ...   \n",
       "1334                NaN                              robustasa            NaN   \n",
       "1335                NaN                              robustasa             40   \n",
       "1336                NaN                global opportunity fund     795 meters   \n",
       "1337  14-1118-2014-0087                          cafe politico            NaN   \n",
       "1338                NaN                          cafe politico            NaN   \n",
       "\n",
       "      ...       Color Category.Two.Defects           Expiration  \\\n",
       "0     ...       Green                    0      April 3rd, 2016   \n",
       "1     ...       Green                    1      April 3rd, 2016   \n",
       "2     ...         NaN                    0       May 31st, 2011   \n",
       "3     ...       Green                    2     March 25th, 2016   \n",
       "4     ...       Green                    2      April 3rd, 2016   \n",
       "...   ...         ...                  ...                  ...   \n",
       "1334  ...  Blue-Green                    1   January 18th, 2017   \n",
       "1335  ...  Blue-Green                    0   January 18th, 2017   \n",
       "1336  ...         NaN                    6  December 23rd, 2015   \n",
       "1337  ...       Green                    1    August 25th, 2015   \n",
       "1338  ...         NaN                    9    August 25th, 2015   \n",
       "\n",
       "                      Certification.Body  \\\n",
       "0     METAD Agricultural Development plc   \n",
       "1     METAD Agricultural Development plc   \n",
       "2           Specialty Coffee Association   \n",
       "3     METAD Agricultural Development plc   \n",
       "4     METAD Agricultural Development plc   \n",
       "...                                  ...   \n",
       "1334        Specialty Coffee Association   \n",
       "1335        Specialty Coffee Association   \n",
       "1336        Specialty Coffee Association   \n",
       "1337        Specialty Coffee Association   \n",
       "1338        Specialty Coffee Association   \n",
       "\n",
       "                         Certification.Address  \\\n",
       "0     309fcf77415a3661ae83e027f7e5f05dad786e44   \n",
       "1     309fcf77415a3661ae83e027f7e5f05dad786e44   \n",
       "2     36d0d00a3724338ba7937c52a378d085f2172daa   \n",
       "3     309fcf77415a3661ae83e027f7e5f05dad786e44   \n",
       "4     309fcf77415a3661ae83e027f7e5f05dad786e44   \n",
       "...                                        ...   \n",
       "1334  ff7c18ad303d4b603ac3f8cff7e611ffc735e720   \n",
       "1335  ff7c18ad303d4b603ac3f8cff7e611ffc735e720   \n",
       "1336  ff7c18ad303d4b603ac3f8cff7e611ffc735e720   \n",
       "1337  ff7c18ad303d4b603ac3f8cff7e611ffc735e720   \n",
       "1338  ff7c18ad303d4b603ac3f8cff7e611ffc735e720   \n",
       "\n",
       "                         Certification.Contact unit_of_measurement  \\\n",
       "0     19fef5a731de2db57d16da10287413f5f99bc2dd                   m   \n",
       "1     19fef5a731de2db57d16da10287413f5f99bc2dd                   m   \n",
       "2     0878a7d4b9d35ddbf0fe2ce69a2062cceb45a660                   m   \n",
       "3     19fef5a731de2db57d16da10287413f5f99bc2dd                   m   \n",
       "4     19fef5a731de2db57d16da10287413f5f99bc2dd                   m   \n",
       "...                                        ...                 ...   \n",
       "1334  352d0cf7f3e9be14dad7df644ad65efc27605ae2                   m   \n",
       "1335  352d0cf7f3e9be14dad7df644ad65efc27605ae2                   m   \n",
       "1336  352d0cf7f3e9be14dad7df644ad65efc27605ae2                   m   \n",
       "1337  352d0cf7f3e9be14dad7df644ad65efc27605ae2                   m   \n",
       "1338  352d0cf7f3e9be14dad7df644ad65efc27605ae2                   m   \n",
       "\n",
       "     altitude_low_meters altitude_high_meters altitude_mean_meters  \n",
       "0                 1950.0               2200.0               2075.0  \n",
       "1                 1950.0               2200.0               2075.0  \n",
       "2                 1600.0               1800.0               1700.0  \n",
       "3                 1800.0               2200.0               2000.0  \n",
       "4                 1950.0               2200.0               2075.0  \n",
       "...                  ...                  ...                  ...  \n",
       "1334                 NaN                  NaN                  NaN  \n",
       "1335                40.0                 40.0                 40.0  \n",
       "1336               795.0                795.0                795.0  \n",
       "1337                 NaN                  NaN                  NaN  \n",
       "1338                 NaN                  NaN                  NaN  \n",
       "\n",
       "[1339 rows x 44 columns]"
      ]
     },
     "execution_count": 2,
     "metadata": {},
     "output_type": "execute_result"
    }
   ],
   "source": [
    "coffee_data = pd.read_csv(\"data_exercise/merged_data_cleaned.csv\")\n",
    "coffee_data"
   ]
  },
  {
   "cell_type": "markdown",
   "id": "b278e2a8-56b4-4b1a-ad71-e7b920321e37",
   "metadata": {},
   "source": [
    "### Problem 2. Observations and features (1 point)\n",
    "How many observations are there? How many features? Which features are numerical, and which are categorical?\n",
    "\n",
    "**Note:** Think about the _meaning_, not the data types. The dataset hasn't been thoroughly cleaned."
   ]
  },
  {
   "cell_type": "markdown",
   "id": "d55cfec6-12da-4c73-bf47-cbeff3f985c6",
   "metadata": {},
   "source": [
    "### Number of observations (rows in our dataset): 1339\n",
    "\n",
    "### Number of features (columns in our dataset): 45"
   ]
  },
  {
   "cell_type": "code",
   "execution_count": 3,
   "id": "0498f047-2f5e-4fcf-83c9-a158951dc33c",
   "metadata": {},
   "outputs": [
    {
     "data": {
      "text/plain": [
       "Unnamed: 0                 int64\n",
       "Species                   object\n",
       "Owner                     object\n",
       "Country.of.Origin         object\n",
       "Farm.Name                 object\n",
       "Lot.Number                object\n",
       "Mill                      object\n",
       "ICO.Number                object\n",
       "Company                   object\n",
       "Altitude                  object\n",
       "Region                    object\n",
       "Producer                  object\n",
       "Number.of.Bags             int64\n",
       "Bag.Weight                object\n",
       "In.Country.Partner        object\n",
       "Harvest.Year              object\n",
       "Grading.Date              object\n",
       "Owner.1                   object\n",
       "Variety                   object\n",
       "Processing.Method         object\n",
       "Aroma                    float64\n",
       "Flavor                   float64\n",
       "Aftertaste               float64\n",
       "Acidity                  float64\n",
       "Body                     float64\n",
       "Balance                  float64\n",
       "Uniformity               float64\n",
       "Clean.Cup                float64\n",
       "Sweetness                float64\n",
       "Cupper.Points            float64\n",
       "Total.Cup.Points         float64\n",
       "Moisture                 float64\n",
       "Category.One.Defects       int64\n",
       "Quakers                  float64\n",
       "Color                     object\n",
       "Category.Two.Defects       int64\n",
       "Expiration                object\n",
       "Certification.Body        object\n",
       "Certification.Address     object\n",
       "Certification.Contact     object\n",
       "unit_of_measurement       object\n",
       "altitude_low_meters      float64\n",
       "altitude_high_meters     float64\n",
       "altitude_mean_meters     float64\n",
       "dtype: object"
      ]
     },
     "execution_count": 3,
     "metadata": {},
     "output_type": "execute_result"
    }
   ],
   "source": [
    "coffee_data.dtypes"
   ]
  },
  {
   "cell_type": "code",
   "execution_count": 4,
   "id": "e7d17c46-5475-4c33-9c35-b7cf56ac41c3",
   "metadata": {},
   "outputs": [
    {
     "name": "stdout",
     "output_type": "stream",
     "text": [
      "Observations - 1339\n",
      "Features - 44\n"
     ]
    }
   ],
   "source": [
    "print(f\"Observations - {coffee_data.shape[0]}\")\n",
    "print(f\"Features - {coffee_data.shape[1]}\")"
   ]
  },
  {
   "cell_type": "code",
   "execution_count": 5,
   "id": "7c340595-9a78-48fd-a530-38363345e298",
   "metadata": {},
   "outputs": [
    {
     "name": "stdout",
     "output_type": "stream",
     "text": [
      "Numerical features count - 20\n",
      "Categorical features count - 25\n"
     ]
    }
   ],
   "source": [
    "numerical_features = ['aroma', 'flavor', 'aftertaste', 'acidity', 'body', 'balance',\n",
    " 'uniformity', 'clean_cup', 'sweetness', 'cupper_points',\n",
    " 'total_cup_points', 'moisture', 'category_one_defects',\n",
    " 'category_two_defects', 'quakers', 'number_of_bags',\n",
    " 'altitude_low_meters', 'altitude_high_meters', 'altitude_mean_meters',\n",
    " 'altitude_parsed']\n",
    "\n",
    "categorical_features = ['unnamed:_0', 'species', 'owner', 'country_of_origin', 'farm_name', 'lot_number',\n",
    " 'mill', 'ico_number', 'company', 'altitude', 'region', 'producer',\n",
    " 'bag_weight', 'in_country_partner', 'harvest_year', 'grading_date',\n",
    " 'owner_1', 'variety', 'processing_method', 'color', 'expiration',\n",
    " 'certification_body', 'certification_address', 'certification_contact',\n",
    " 'unit_of_measurement']\n",
    "\n",
    "print(f\"Numerical features count - {len(numerical_features)}\")\n",
    "print(f\"Categorical features count - {len(categorical_features)}\")"
   ]
  },
  {
   "cell_type": "markdown",
   "id": "2b745e68-35eb-4acb-b39f-513137f0ee4b",
   "metadata": {},
   "source": [
    "### Problem 3. Column manipulation (1 point)\n",
    "Make the column names more Pythonic (which helps with the quality and... aesthetics). Convert column names to `snake_case`, i.e. `species`, `country_of_origin`, `ico_number`, etc. Try to not do it manually."
   ]
  },
  {
   "cell_type": "code",
   "execution_count": 6,
   "id": "301e9f3f-afd6-4a91-a32f-1974584694ca",
   "metadata": {},
   "outputs": [
    {
     "data": {
      "text/plain": [
       "unnamed: 0                 int64\n",
       "species                   object\n",
       "owner                     object\n",
       "country_of_origin         object\n",
       "farm_name                 object\n",
       "lot_number                object\n",
       "mill                      object\n",
       "ico_number                object\n",
       "company                   object\n",
       "altitude                  object\n",
       "region                    object\n",
       "producer                  object\n",
       "number_of_bags             int64\n",
       "bag_weight                object\n",
       "in_country_partner        object\n",
       "harvest_year              object\n",
       "grading_date              object\n",
       "owner_1                   object\n",
       "variety                   object\n",
       "processing_method         object\n",
       "aroma                    float64\n",
       "flavor                   float64\n",
       "aftertaste               float64\n",
       "acidity                  float64\n",
       "body                     float64\n",
       "balance                  float64\n",
       "uniformity               float64\n",
       "clean_cup                float64\n",
       "sweetness                float64\n",
       "cupper_points            float64\n",
       "total_cup_points         float64\n",
       "moisture                 float64\n",
       "category_one_defects       int64\n",
       "quakers                  float64\n",
       "color                     object\n",
       "category_two_defects       int64\n",
       "expiration                object\n",
       "certification_body        object\n",
       "certification_address     object\n",
       "certification_contact     object\n",
       "unit_of_measurement       object\n",
       "altitude_low_meters      float64\n",
       "altitude_high_meters     float64\n",
       "altitude_mean_meters     float64\n",
       "dtype: object"
      ]
     },
     "execution_count": 6,
     "metadata": {},
     "output_type": "execute_result"
    }
   ],
   "source": [
    "coffee_data.columns = (\n",
    "    coffee_data.columns\n",
    "    .str.strip()\n",
    "    .str.lower()\n",
    "    .str.replace('.', '_')  \n",
    ")\n",
    "\n",
    "coffee_data.dtypes"
   ]
  },
  {
   "cell_type": "markdown",
   "id": "8c53c4c6-6eb9-4c92-bd39-89286fe4c86e",
   "metadata": {},
   "source": [
    "### Problem 4. Bag weight (1 point)\n",
    "What's up with the bag weights? Make all necessary changes to the column values. Don't forget to document your methods and assumptions."
   ]
  },
  {
   "cell_type": "code",
   "execution_count": 7,
   "id": "8e97f3d0-1223-49a7-99a9-51a65e4ff4e0",
   "metadata": {},
   "outputs": [
    {
     "data": {
      "text/plain": [
       "bag_weight\n",
       "1 kg        331\n",
       "60 kg       256\n",
       "69 kg       200\n",
       "70 kg       156\n",
       "2 kg        122\n",
       "100 lbs      59\n",
       "30 kg        29\n",
       "5 lbs        23\n",
       "6            19\n",
       "20 kg        14\n",
       "50 kg        14\n",
       "10 kg        11\n",
       "59 kg        10\n",
       "1 lbs         8\n",
       "3 lbs         7\n",
       "1             7\n",
       "5 kg          7\n",
       "2 lbs         5\n",
       "18975 kg      4\n",
       "80 kg         4\n",
       "4 lbs         4\n",
       "0 lbs         3\n",
       "46 kg         3\n",
       "6 kg          2\n",
       "9000 kg       2\n",
       "25 kg         2\n",
       "35 kg         2\n",
       "12000 kg      2\n",
       "19200 kg      2\n",
       "15 kg         2\n",
       "40 kg         2\n",
       "66 kg         2\n",
       "29 kg         2\n",
       "1 kg,lbs      1\n",
       "2             1\n",
       "2 kg,lbs      1\n",
       "34 kg         1\n",
       "18000 kg      1\n",
       "132 lbs       1\n",
       "660 kg        1\n",
       "18 kg         1\n",
       "150 lbs       1\n",
       "1218 kg       1\n",
       "0 kg          1\n",
       "13800 kg      1\n",
       "1500 kg       1\n",
       "24 kg         1\n",
       "80 lbs        1\n",
       "8 kg          1\n",
       "3 kg          1\n",
       "350 kg        1\n",
       "67 kg         1\n",
       "4 kg          1\n",
       "55 lbs        1\n",
       "100 kg        1\n",
       "130 lbs       1\n",
       "Name: count, dtype: int64"
      ]
     },
     "execution_count": 7,
     "metadata": {},
     "output_type": "execute_result"
    }
   ],
   "source": [
    "coffee_data.bag_weight.value_counts(dropna=False)"
   ]
  },
  {
   "cell_type": "code",
   "execution_count": 8,
   "id": "a5884fb3-029e-4aaa-a4f8-28f9b5a4ff72",
   "metadata": {},
   "outputs": [
    {
     "data": {
      "text/plain": [
       "bag_weight\n",
       "kg           1196\n",
       "lbs           114\n",
       "no_unit        27\n",
       "ambiguous       2\n",
       "Name: count, dtype: int64"
      ]
     },
     "execution_count": 8,
     "metadata": {},
     "output_type": "execute_result"
    }
   ],
   "source": [
    "bag_weights = coffee_data.bag_weight.str.lower().fillna('')\n",
    "\n",
    "def classify_unit(value):\n",
    "    \"\"\"\n",
    "    Helper function to classify a value to a given unit based on our assumptions\n",
    "    \"\"\"\n",
    "    \n",
    "    has_kg = 'kg' in value\n",
    "    has_lbs = 'lbs' in value\n",
    "    \n",
    "    if has_kg and has_lbs:\n",
    "        return 'ambiguous'\n",
    "    elif has_lbs:\n",
    "        return 'lbs'\n",
    "    elif has_kg:\n",
    "        return 'kg'\n",
    "    elif value.strip().isdigit():\n",
    "        return 'no_unit'\n",
    "    else:\n",
    "        return 'other'\n",
    "\n",
    "unit_classifications = bag_weights.apply(classify_unit)\n",
    "\n",
    "unit_counts = unit_classifications.value_counts()\n",
    "unit_counts"
   ]
  },
  {
   "cell_type": "markdown",
   "id": "adc0da29-a210-411e-9585-39a0e6b1c0a0",
   "metadata": {},
   "source": [
    "We observed that the column contains a mix of formats. We classified all values into 4 categories. We assume that values with no unit (2%) are in kilograms, because 89% of all entries are clearly labeled as \"kg\". This makes \"kg\" the dominant and default unit. We exclude the two ambiguous entries ($\\sim$ 0.1%) due to unclear meaning - we make them NaN."
   ]
  },
  {
   "cell_type": "code",
   "execution_count": 9,
   "id": "b300e211-8e9e-4a73-b0cd-9f5a869f87fa",
   "metadata": {},
   "outputs": [],
   "source": [
    "def convert_bag_weight(value):\n",
    "    \"\"\"\n",
    "    Helper function to convert a value to kg based on its measure\n",
    "    \"\"\"\n",
    "    \n",
    "    if pd.isna(value):\n",
    "        return None\n",
    "\n",
    "    value = str(value).lower().strip()\n",
    "\n",
    "    if 'kg' in value and 'lbs' in value:\n",
    "        return None\n",
    "\n",
    "    if 'kg' in value:\n",
    "        value = value.replace('kg', '').strip()\n",
    "        if value.replace('.', '', 1).isdigit():\n",
    "            return float(value)\n",
    "\n",
    "    elif 'lbs' in value:\n",
    "        value = value.replace('lbs', '').strip()\n",
    "        if value.replace('.', '', 1).isdigit():\n",
    "            return round(float(value) * 0.453592, 2)\n",
    "\n",
    "    elif value.replace('.', '', 1).isdigit():\n",
    "        return float(value)\n",
    "\n",
    "    return None"
   ]
  },
  {
   "cell_type": "code",
   "execution_count": 10,
   "id": "95937c62-8fd6-4c11-84f8-ed92e9c9ed05",
   "metadata": {},
   "outputs": [
    {
     "data": {
      "text/plain": [
       "unnamed: 0                 int64\n",
       "species                   object\n",
       "owner                     object\n",
       "country_of_origin         object\n",
       "farm_name                 object\n",
       "lot_number                object\n",
       "mill                      object\n",
       "ico_number                object\n",
       "company                   object\n",
       "altitude                  object\n",
       "region                    object\n",
       "producer                  object\n",
       "number_of_bags             int64\n",
       "bag_weight               float64\n",
       "in_country_partner        object\n",
       "harvest_year              object\n",
       "grading_date              object\n",
       "owner_1                   object\n",
       "variety                   object\n",
       "processing_method         object\n",
       "aroma                    float64\n",
       "flavor                   float64\n",
       "aftertaste               float64\n",
       "acidity                  float64\n",
       "body                     float64\n",
       "balance                  float64\n",
       "uniformity               float64\n",
       "clean_cup                float64\n",
       "sweetness                float64\n",
       "cupper_points            float64\n",
       "total_cup_points         float64\n",
       "moisture                 float64\n",
       "category_one_defects       int64\n",
       "quakers                  float64\n",
       "color                     object\n",
       "category_two_defects       int64\n",
       "expiration                object\n",
       "certification_body        object\n",
       "certification_address     object\n",
       "certification_contact     object\n",
       "unit_of_measurement       object\n",
       "altitude_low_meters      float64\n",
       "altitude_high_meters     float64\n",
       "altitude_mean_meters     float64\n",
       "dtype: object"
      ]
     },
     "execution_count": 10,
     "metadata": {},
     "output_type": "execute_result"
    }
   ],
   "source": [
    "coffee_data.bag_weight = coffee_data.bag_weight.apply(convert_bag_weight)\n",
    "coffee_data.dtypes"
   ]
  },
  {
   "cell_type": "code",
   "execution_count": 11,
   "id": "2556b04b-dde7-4406-93e7-4ddd9d2d44d4",
   "metadata": {},
   "outputs": [
    {
     "data": {
      "text/plain": [
       "bag_weight\n",
       "1.00        338\n",
       "60.00       256\n",
       "69.00       200\n",
       "70.00       156\n",
       "2.00        123\n",
       "45.36        59\n",
       "30.00        29\n",
       "2.27         23\n",
       "6.00         21\n",
       "20.00        14\n",
       "50.00        14\n",
       "10.00        11\n",
       "59.00        10\n",
       "0.45          8\n",
       "1.36          7\n",
       "5.00          7\n",
       "0.91          5\n",
       "0.00          4\n",
       "80.00         4\n",
       "1.81          4\n",
       "18975.00      4\n",
       "46.00         3\n",
       "15.00         2\n",
       "40.00         2\n",
       "19200.00      2\n",
       "NaN           2\n",
       "66.00         2\n",
       "25.00         2\n",
       "9000.00       2\n",
       "35.00         2\n",
       "12000.00      2\n",
       "29.00         2\n",
       "59.87         1\n",
       "34.00         1\n",
       "660.00        1\n",
       "18.00         1\n",
       "68.04         1\n",
       "18000.00      1\n",
       "1218.00       1\n",
       "13800.00      1\n",
       "1500.00       1\n",
       "24.00         1\n",
       "36.29         1\n",
       "8.00          1\n",
       "3.00          1\n",
       "350.00        1\n",
       "67.00         1\n",
       "4.00          1\n",
       "24.95         1\n",
       "100.00        1\n",
       "58.97         1\n",
       "Name: count, dtype: int64"
      ]
     },
     "execution_count": 11,
     "metadata": {},
     "output_type": "execute_result"
    }
   ],
   "source": [
    "coffee_data.bag_weight.value_counts(dropna=False)"
   ]
  },
  {
   "cell_type": "code",
   "execution_count": 12,
   "id": "298f0fed-b462-4254-8340-bce40ff9e484",
   "metadata": {},
   "outputs": [
    {
     "data": {
      "text/plain": [
       "0       60.00\n",
       "1       60.00\n",
       "2        1.00\n",
       "3       60.00\n",
       "4       60.00\n",
       "        ...  \n",
       "1334     2.00\n",
       "1335     2.00\n",
       "1336     1.00\n",
       "1337     2.27\n",
       "1338     2.27\n",
       "Name: bag_weight, Length: 1339, dtype: float64"
      ]
     },
     "execution_count": 12,
     "metadata": {},
     "output_type": "execute_result"
    }
   ],
   "source": [
    "coffee_data.bag_weight"
   ]
  },
  {
   "cell_type": "markdown",
   "id": "2ff1f817-8e5e-4185-a320-dde7ed2cada1",
   "metadata": {},
   "source": [
    "### Problem 5. Dates (1 point)\n",
    "This should remind you of problem 4 but it's slightly nastier. Fix the harvest years, document the process.\n",
    "\n",
    "While you're here, fix the expiration dates, and grading dates. Unlike the other column, these should be dates (`pd.to_datetime()` is your friend)."
   ]
  },
  {
   "cell_type": "code",
   "execution_count": 13,
   "id": "814dc5f9-9572-44f0-bff6-8efeb084f93d",
   "metadata": {},
   "outputs": [
    {
     "data": {
      "text/plain": [
       "harvest_year\n",
       "2012                        354\n",
       "2014                        233\n",
       "2013                        181\n",
       "2015                        129\n",
       "2016                        124\n",
       "2017                         70\n",
       "NaN                          47\n",
       "2013/2014                    29\n",
       "2015/2016                    28\n",
       "2011                         26\n",
       "2017 / 2018                  19\n",
       "2014/2015                    19\n",
       "2009/2010                    12\n",
       "2010                         10\n",
       "2010-2011                     6\n",
       "2016 / 2017                   6\n",
       "4T/10                         4\n",
       "2009-2010                     3\n",
       "March 2010                    3\n",
       "Mayo a Julio                  3\n",
       "4T/2010                       3\n",
       "January 2011                  2\n",
       "Abril - Julio                 2\n",
       "08/09 crop                    2\n",
       "2011/2012                     2\n",
       "Sept 2009 - April 2010        1\n",
       "May-August                    1\n",
       "Fall 2009                     1\n",
       "mmm                           1\n",
       "2009 / 2010                   1\n",
       "2009 - 2010                   1\n",
       "January Through April         1\n",
       "23 July 2010                  1\n",
       "December 2009-March 2010      1\n",
       "TEST                          1\n",
       "August to December            1\n",
       "4t/2010                       1\n",
       "47/2010                       1\n",
       "1T/2011                       1\n",
       "4t/2011                       1\n",
       "Abril - Julio /2011           1\n",
       "3T/2011                       1\n",
       "Spring 2011 in Colombia.      1\n",
       "2016/2017                     1\n",
       "1t/2011                       1\n",
       "2018                          1\n",
       "4T72010                       1\n",
       "Name: count, dtype: int64"
      ]
     },
     "execution_count": 13,
     "metadata": {},
     "output_type": "execute_result"
    }
   ],
   "source": [
    "coffee_data.harvest_year.value_counts(dropna=False)"
   ]
  },
  {
   "cell_type": "markdown",
   "id": "0021c242-ddb5-4b62-bcd2-4d750be057f4",
   "metadata": {},
   "source": [
    "We need to standardize the harvest_year column to contain only valid 4-digit numeric years so that the data can be used properly. There are single valid years - for example - 2012, 2015. But, there are year ranges (like 2013/2014), some strings with years (\"March 2010\"), some meaningless text - like \"TEST\". We filter the years - we take the single valid years, for the ranges - we take the first year (the first year of the harvest season), for descriptive strings (like \"March 2010\") - we take the year only and, finally, for meaningless text - we discard it as NaN. We also need to keep only valid year values between 1900 and 2025. (1900 - coffee data probably doesn't go earlier - here we focus on recorded harvest data - which may not go before the 20th century, maximum year is the current one - to catch future typos)."
   ]
  },
  {
   "cell_type": "code",
   "execution_count": 14,
   "id": "6d9c87cd-83fb-45cc-b238-50853bbe9e4c",
   "metadata": {},
   "outputs": [
    {
     "data": {
      "text/plain": [
       "harvest_year\n",
       "2012    354\n",
       "2014    252\n",
       "2013    210\n",
       "2015    157\n",
       "2016    131\n",
       "2017     89\n",
       "<NA>     64\n",
       "2011     36\n",
       "2010     25\n",
       "2009     20\n",
       "2018      1\n",
       "Name: count, dtype: Int64"
      ]
     },
     "execution_count": 14,
     "metadata": {},
     "output_type": "execute_result"
    }
   ],
   "source": [
    "coffee_data.harvest_year = coffee_data.harvest_year.str.lower().str.strip().str.extract(r'(\\d{4})')[0].astype('Int64')\n",
    "\n",
    "coffee_data.harvest_year = coffee_data.harvest_year.where(\n",
    "    (coffee_data.harvest_year >= 1900) & (coffee_data.harvest_year <= 2025)\n",
    ")\n",
    "\n",
    "coffee_data.harvest_year.value_counts(dropna=False)"
   ]
  },
  {
   "cell_type": "code",
   "execution_count": 15,
   "id": "3b12dc5f-0f10-4b01-ab7e-ef9b23b3a747",
   "metadata": {},
   "outputs": [
    {
     "data": {
      "text/plain": [
       "0       2014\n",
       "1       2014\n",
       "2       <NA>\n",
       "3       2014\n",
       "4       2014\n",
       "        ... \n",
       "1334    2016\n",
       "1335    2016\n",
       "1336    2014\n",
       "1337    2013\n",
       "1338    2013\n",
       "Name: harvest_year, Length: 1339, dtype: Int64"
      ]
     },
     "execution_count": 15,
     "metadata": {},
     "output_type": "execute_result"
    }
   ],
   "source": [
    "coffee_data.harvest_year"
   ]
  },
  {
   "cell_type": "code",
   "execution_count": 16,
   "id": "e9806bc1-ae7c-48bd-a106-fcd76b0c74a4",
   "metadata": {},
   "outputs": [
    {
     "data": {
      "text/plain": [
       "unnamed: 0                 int64\n",
       "species                   object\n",
       "owner                     object\n",
       "country_of_origin         object\n",
       "farm_name                 object\n",
       "lot_number                object\n",
       "mill                      object\n",
       "ico_number                object\n",
       "company                   object\n",
       "altitude                  object\n",
       "region                    object\n",
       "producer                  object\n",
       "number_of_bags             int64\n",
       "bag_weight               float64\n",
       "in_country_partner        object\n",
       "harvest_year               Int64\n",
       "grading_date              object\n",
       "owner_1                   object\n",
       "variety                   object\n",
       "processing_method         object\n",
       "aroma                    float64\n",
       "flavor                   float64\n",
       "aftertaste               float64\n",
       "acidity                  float64\n",
       "body                     float64\n",
       "balance                  float64\n",
       "uniformity               float64\n",
       "clean_cup                float64\n",
       "sweetness                float64\n",
       "cupper_points            float64\n",
       "total_cup_points         float64\n",
       "moisture                 float64\n",
       "category_one_defects       int64\n",
       "quakers                  float64\n",
       "color                     object\n",
       "category_two_defects       int64\n",
       "expiration                object\n",
       "certification_body        object\n",
       "certification_address     object\n",
       "certification_contact     object\n",
       "unit_of_measurement       object\n",
       "altitude_low_meters      float64\n",
       "altitude_high_meters     float64\n",
       "altitude_mean_meters     float64\n",
       "dtype: object"
      ]
     },
     "execution_count": 16,
     "metadata": {},
     "output_type": "execute_result"
    }
   ],
   "source": [
    "coffee_data.dtypes"
   ]
  },
  {
   "cell_type": "code",
   "execution_count": 17,
   "id": "0ff4814a-3135-49ae-8be2-5f2233c56edd",
   "metadata": {},
   "outputs": [
    {
     "data": {
      "text/plain": [
       "expiration\n",
       "December 26th, 2014    25\n",
       "July 11th, 2013        25\n",
       "June 6th, 2013         19\n",
       "August 30th, 2013      18\n",
       "July 26th, 2013        15\n",
       "                       ..\n",
       "November 30th, 2012     1\n",
       "January 27th, 2015      1\n",
       "June 15th, 2016         1\n",
       "January 16th, 2018      1\n",
       "May 14th, 2014          1\n",
       "Name: count, Length: 566, dtype: int64"
      ]
     },
     "execution_count": 17,
     "metadata": {},
     "output_type": "execute_result"
    }
   ],
   "source": [
    "coffee_data.expiration.value_counts(dropna=False)"
   ]
  },
  {
   "cell_type": "code",
   "execution_count": 18,
   "id": "22e732d8-ae41-4406-9f7f-5eafdd771c2d",
   "metadata": {},
   "outputs": [
    {
     "data": {
      "text/plain": [
       "grading_date\n",
       "July 11th, 2012        25\n",
       "December 26th, 2013    24\n",
       "June 6th, 2012         19\n",
       "August 30th, 2012      18\n",
       "July 26th, 2012        15\n",
       "                       ..\n",
       "January 17th, 2011      1\n",
       "August 23rd, 2016       1\n",
       "August 5th, 2014        1\n",
       "August 17th, 2016       1\n",
       "October 25th, 2017      1\n",
       "Name: count, Length: 567, dtype: int64"
      ]
     },
     "execution_count": 18,
     "metadata": {},
     "output_type": "execute_result"
    }
   ],
   "source": [
    "coffee_data.grading_date.value_counts(dropna=False)"
   ]
  },
  {
   "cell_type": "markdown",
   "id": "04426a4b-bf01-446b-af18-5ce2e34ac30f",
   "metadata": {},
   "source": [
    "Here, the dates have different formats - by adding errors='coerce' and dayfirst = True to the to_datetime() function - we replace bad values with NaT and help parse formats like \"31/05/2011\" correctly. Before converting, we remove suffixes from the numbers (like th,nd, ...)"
   ]
  },
  {
   "cell_type": "code",
   "execution_count": 19,
   "id": "fa51a647-f21f-4c84-bf90-29749ab3d0e4",
   "metadata": {},
   "outputs": [],
   "source": [
    "coffee_data.expiration = (\n",
    "    coffee_data.expiration.astype(str)\n",
    "    .str.lower()\n",
    "    .str.replace(r'(\\d{1,2})(st|nd|rd|th)', r'\\1', regex=True)\n",
    "    .str.strip()\n",
    ")"
   ]
  },
  {
   "cell_type": "code",
   "execution_count": 20,
   "id": "cfd82f8f-8b32-4834-b4bd-b14c6db31a1f",
   "metadata": {},
   "outputs": [
    {
     "name": "stderr",
     "output_type": "stream",
     "text": [
      "C:\\Users\\Jerry\\AppData\\Local\\Temp\\ipykernel_8436\\1902029930.py:1: UserWarning: Could not infer format, so each element will be parsed individually, falling back to `dateutil`. To ensure parsing is consistent and as-expected, please specify a format.\n",
      "  coffee_data.expiration = pd.to_datetime(coffee_data.expiration, errors='coerce')\n"
     ]
    }
   ],
   "source": [
    "coffee_data.expiration = pd.to_datetime(coffee_data.expiration, errors='coerce')"
   ]
  },
  {
   "cell_type": "code",
   "execution_count": 21,
   "id": "12b69974-462a-401b-ab95-ef5222cec57d",
   "metadata": {},
   "outputs": [
    {
     "data": {
      "text/plain": [
       "expiration\n",
       "2014-12-26    25\n",
       "2013-07-11    25\n",
       "2013-06-06    19\n",
       "2013-08-30    18\n",
       "2013-07-26    15\n",
       "              ..\n",
       "2015-08-05     1\n",
       "2017-08-17     1\n",
       "2018-10-25     1\n",
       "2018-10-31     1\n",
       "2013-01-04     1\n",
       "Name: count, Length: 565, dtype: int64"
      ]
     },
     "execution_count": 21,
     "metadata": {},
     "output_type": "execute_result"
    }
   ],
   "source": [
    "coffee_data.expiration.value_counts(dropna=False)"
   ]
  },
  {
   "cell_type": "code",
   "execution_count": 22,
   "id": "a4fe2310-df12-4129-90b8-612ff4e16fcb",
   "metadata": {},
   "outputs": [],
   "source": [
    "coffee_data.grading_date = (\n",
    "    coffee_data.grading_date.astype(str)\n",
    "    .str.lower()\n",
    "    .str.replace(r'(\\d{1,2})(st|nd|rd|th)', r'\\1', regex=True)\n",
    "    .str.strip()\n",
    ")"
   ]
  },
  {
   "cell_type": "code",
   "execution_count": 23,
   "id": "350816aa-0867-49c5-b27d-d76c0a84f448",
   "metadata": {},
   "outputs": [
    {
     "name": "stderr",
     "output_type": "stream",
     "text": [
      "C:\\Users\\Jerry\\AppData\\Local\\Temp\\ipykernel_8436\\3509975755.py:1: UserWarning: Could not infer format, so each element will be parsed individually, falling back to `dateutil`. To ensure parsing is consistent and as-expected, please specify a format.\n",
      "  coffee_data.grading_date = pd.to_datetime(coffee_data.grading_date, errors='coerce')\n"
     ]
    }
   ],
   "source": [
    "coffee_data.grading_date = pd.to_datetime(coffee_data.grading_date, errors='coerce')"
   ]
  },
  {
   "cell_type": "code",
   "execution_count": 24,
   "id": "2d2c5487-80b1-4023-891f-d76929aacc84",
   "metadata": {},
   "outputs": [
    {
     "data": {
      "text/plain": [
       "grading_date\n",
       "2013-12-26    25\n",
       "2012-07-11    25\n",
       "2012-06-06    19\n",
       "2012-08-30    18\n",
       "2012-07-26    15\n",
       "              ..\n",
       "2014-08-05     1\n",
       "2016-08-17     1\n",
       "2017-10-25     1\n",
       "2017-10-31     1\n",
       "2012-01-05     1\n",
       "Name: count, Length: 565, dtype: int64"
      ]
     },
     "execution_count": 24,
     "metadata": {},
     "output_type": "execute_result"
    }
   ],
   "source": [
    "coffee_data.grading_date.value_counts(dropna=False)"
   ]
  },
  {
   "cell_type": "code",
   "execution_count": 27,
   "id": "014bbd95-f31d-43aa-9c78-41bb0a84333d",
   "metadata": {},
   "outputs": [
    {
     "data": {
      "text/plain": [
       "unnamed: 0                        int64\n",
       "species                          object\n",
       "owner                            object\n",
       "country_of_origin                object\n",
       "farm_name                        object\n",
       "lot_number                       object\n",
       "mill                             object\n",
       "ico_number                       object\n",
       "company                          object\n",
       "altitude                         object\n",
       "region                           object\n",
       "producer                         object\n",
       "number_of_bags                    int64\n",
       "bag_weight                      float64\n",
       "in_country_partner               object\n",
       "harvest_year                      Int64\n",
       "grading_date             datetime64[ns]\n",
       "owner_1                          object\n",
       "variety                          object\n",
       "processing_method                object\n",
       "aroma                           float64\n",
       "flavor                          float64\n",
       "aftertaste                      float64\n",
       "acidity                         float64\n",
       "body                            float64\n",
       "balance                         float64\n",
       "uniformity                      float64\n",
       "clean_cup                       float64\n",
       "sweetness                       float64\n",
       "cupper_points                   float64\n",
       "total_cup_points                float64\n",
       "moisture                        float64\n",
       "category_one_defects              int64\n",
       "quakers                         float64\n",
       "color                            object\n",
       "category_two_defects              int64\n",
       "expiration               datetime64[ns]\n",
       "certification_body               object\n",
       "certification_address            object\n",
       "certification_contact            object\n",
       "unit_of_measurement              object\n",
       "altitude_low_meters             float64\n",
       "altitude_high_meters            float64\n",
       "altitude_mean_meters            float64\n",
       "dtype: object"
      ]
     },
     "execution_count": 27,
     "metadata": {},
     "output_type": "execute_result"
    }
   ],
   "source": [
    "coffee_data.dtypes"
   ]
  },
  {
   "cell_type": "markdown",
   "id": "0dff33b4-c94d-43b3-bab3-97eabb862a37",
   "metadata": {},
   "source": [
    "### Problem 6. Countries (1 point)\n",
    "How many coffees are there with unknown countries of origin? What can you do about them?"
   ]
  },
  {
   "cell_type": "code",
   "execution_count": 28,
   "id": "0851c1a8-0420-4dba-ac27-487bae4318be",
   "metadata": {},
   "outputs": [
    {
     "data": {
      "text/plain": [
       "country_of_origin\n",
       "Mexico                          236\n",
       "Colombia                        183\n",
       "Guatemala                       181\n",
       "Brazil                          132\n",
       "Taiwan                           75\n",
       "United States (Hawaii)           73\n",
       "Honduras                         53\n",
       "Costa Rica                       51\n",
       "Ethiopia                         44\n",
       "Tanzania, United Republic Of     40\n",
       "Uganda                           36\n",
       "Thailand                         32\n",
       "Nicaragua                        26\n",
       "Kenya                            25\n",
       "El Salvador                      21\n",
       "Indonesia                        20\n",
       "China                            16\n",
       "India                            14\n",
       "Malawi                           11\n",
       "United States                    10\n",
       "Peru                             10\n",
       "Vietnam                           8\n",
       "Myanmar                           8\n",
       "Haiti                             6\n",
       "Philippines                       5\n",
       "United States (Puerto Rico)       4\n",
       "Panama                            4\n",
       "Laos                              3\n",
       "Ecuador                           3\n",
       "Burundi                           2\n",
       "Papua New Guinea                  1\n",
       "Rwanda                            1\n",
       "Japan                             1\n",
       "Zambia                            1\n",
       "Mauritius                         1\n",
       "Cote d?Ivoire                     1\n",
       "NaN                               1\n",
       "Name: count, dtype: int64"
      ]
     },
     "execution_count": 28,
     "metadata": {},
     "output_type": "execute_result"
    }
   ],
   "source": [
    "coffee_data.country_of_origin.value_counts(dropna=False)"
   ]
  },
  {
   "cell_type": "markdown",
   "id": "176c0088-67db-4ab4-8a1b-2131a2e9cd3d",
   "metadata": {},
   "source": [
    "There is only 1 coffee record with an unknown country_of_origin, which is about 0.07% of the dataset. Since this is a very small fraction, we can safely leave it as NaN, which will be ignored in most aggregations and visualizations. Alternatively, it can be labeled \"Unknown\" for categorical grouping."
   ]
  },
  {
   "cell_type": "markdown",
   "id": "d0aa6f30-4b93-4f23-95e0-2cafb7152c6c",
   "metadata": {},
   "source": [
    "### Problem 7. Owners (1 point)\n",
    "There are two suspicious columns, named `Owner`, and `Owner.1` (they're likely called something different after you solved problem 3). Do something about them. Is there any link to `Producer`?"
   ]
  },
  {
   "cell_type": "markdown",
   "id": "4305de1d-8482-438e-98ec-7fe285902d7e",
   "metadata": {},
   "source": [
    "We have two columns that clearly hold similar company names but in different formats. So owner_1 seems to be a capitalized or formatted version of owner, but they contain the same values. We need to keep only one column, preferably the one that has better formatting (like capitalization) and which matches naming conventions in other columns. So, we drop the redundant one (likely the lowercased 'owner')"
   ]
  },
  {
   "cell_type": "code",
   "execution_count": 39,
   "id": "c3f58398-79a3-4dd8-9e89-53abe95ad242",
   "metadata": {},
   "outputs": [
    {
     "data": {
      "text/plain": [
       "0                      metad plc\n",
       "1                      metad plc\n",
       "2       grounds for health admin\n",
       "3            yidnekachew dabessa\n",
       "4                      metad plc\n",
       "                  ...           \n",
       "1334                 luis robles\n",
       "1335                 luis robles\n",
       "1336                 james moore\n",
       "1337               cafe politico\n",
       "1338               cafe politico\n",
       "Name: owner, Length: 1339, dtype: object"
      ]
     },
     "execution_count": 39,
     "metadata": {},
     "output_type": "execute_result"
    }
   ],
   "source": [
    "coffee_data.owner"
   ]
  },
  {
   "cell_type": "code",
   "execution_count": 38,
   "id": "c994a536-613b-4857-9756-eeade2bffc62",
   "metadata": {},
   "outputs": [
    {
     "data": {
      "text/plain": [
       "0                      metad plc\n",
       "1                      metad plc\n",
       "2       Grounds for Health Admin\n",
       "3            Yidnekachew Dabessa\n",
       "4                      metad plc\n",
       "                  ...           \n",
       "1334                 Luis Robles\n",
       "1335                 Luis Robles\n",
       "1336                 James Moore\n",
       "1337               Cafe Politico\n",
       "1338               Cafe Politico\n",
       "Name: owner_1, Length: 1339, dtype: object"
      ]
     },
     "execution_count": 38,
     "metadata": {},
     "output_type": "execute_result"
    }
   ],
   "source": [
    "coffee_data.owner_1"
   ]
  },
  {
   "cell_type": "code",
   "execution_count": 40,
   "id": "3a42a336-c170-447f-94e5-862b43c33f62",
   "metadata": {},
   "outputs": [
    {
     "data": {
      "text/plain": [
       "0                      metad plc\n",
       "1                      metad plc\n",
       "2       Grounds for Health Admin\n",
       "3            Yidnekachew Dabessa\n",
       "4                      metad plc\n",
       "                  ...           \n",
       "1334                 Luis Robles\n",
       "1335                 Luis Robles\n",
       "1336                 James Moore\n",
       "1337               Cafe Politico\n",
       "1338               Cafe Politico\n",
       "Name: owner, Length: 1339, dtype: object"
      ]
     },
     "execution_count": 40,
     "metadata": {},
     "output_type": "execute_result"
    }
   ],
   "source": [
    "coffee_data = coffee_data.drop(columns=['owner'])\n",
    "coffee_data = coffee_data.rename(columns={'owner_1': 'owner'})\n",
    "coffee_data.owner"
   ]
  },
  {
   "cell_type": "code",
   "execution_count": 41,
   "id": "abe2d760-e21c-4312-bf46-f3e70337073d",
   "metadata": {},
   "outputs": [
    {
     "data": {
      "text/plain": [
       "0                                   METAD PLC\n",
       "1                                   METAD PLC\n",
       "2                                         NaN\n",
       "3       Yidnekachew Dabessa Coffee Plantation\n",
       "4                                   METAD PLC\n",
       "                        ...                  \n",
       "1334            Café Robusta del Ecuador S.A.\n",
       "1335            Café Robusta del Ecuador S.A.\n",
       "1336                             Cafe Cazengo\n",
       "1337                                      NaN\n",
       "1338                                      NaN\n",
       "Name: producer, Length: 1339, dtype: object"
      ]
     },
     "execution_count": 41,
     "metadata": {},
     "output_type": "execute_result"
    }
   ],
   "source": [
    "coffee_data.producer"
   ]
  },
  {
   "cell_type": "markdown",
   "id": "b60769db-a92c-4935-be30-5d8e678bebab",
   "metadata": {},
   "source": [
    "We check if producer and owner are the same - in our case, some producers do match owners exactly. Others are different - so they're not always duplicates. So keep both owner and producer - they describe related but not identical entities."
   ]
  },
  {
   "cell_type": "markdown",
   "id": "30c53923-1b72-4500-af0a-47fdca9f57e9",
   "metadata": {},
   "source": [
    "### Problem 8. Coffee color by country and continent (1 point)\n",
    "Create a table which shows how many coffees of each color are there in every country. Leave the missing values as they are.\n",
    "\n",
    "**Note:** If you ask me, countries should be in rows, I prefer long tables much better than wide ones.\n",
    "\n",
    "Now do the same for continents. You know what continent each country is located in."
   ]
  },
  {
   "cell_type": "code",
   "execution_count": null,
   "id": "72cbe6a9-ca71-4826-806d-562bc30b40d2",
   "metadata": {},
   "outputs": [],
   "source": []
  },
  {
   "cell_type": "markdown",
   "id": "27095ced-7179-4ee4-94d3-7d94450b4120",
   "metadata": {},
   "source": [
    "### Problem 9. Ratings (1 point)\n",
    "The columns `Aroma`, `Flavor`, etc., up to `Moisture` represent subjective ratings. Explore them. Show the means and range; draw histograms and / or boxplots as needed. You can even try correlations if you want. What's up with all those ratings?"
   ]
  },
  {
   "cell_type": "code",
   "execution_count": null,
   "id": "d08ee355-dcbb-4657-a814-cdcfbd455c42",
   "metadata": {},
   "outputs": [],
   "source": []
  },
  {
   "cell_type": "markdown",
   "id": "92054218-978d-48c6-b7aa-36226837354c",
   "metadata": {},
   "source": [
    "### Problem 10. High-level errors (1 point)\n",
    "Check the countries against region names, altitudes, and companies. Are there any discrepancies (e.g. human errors, like a region not matching the country)? Take a look at the (cleaned) altitudes; there has been a lot of preprocessing done to them. Was it done correctly?"
   ]
  },
  {
   "cell_type": "code",
   "execution_count": null,
   "id": "a971e5dd-4bb1-4ad6-bcbc-3cceab758f5d",
   "metadata": {},
   "outputs": [],
   "source": []
  },
  {
   "cell_type": "markdown",
   "id": "3c3b5118-9f8e-45c2-a200-1be89fa4b3bf",
   "metadata": {},
   "source": [
    "### * Problem 11. Clean and explore at will\n",
    "The dataset claimed to be clean, but we were able to discover a lot of things to fix and do better.\n",
    "\n",
    "Play around with the data as much as you wish, and if you find variables to tidy up and clean - by all means, do that!"
   ]
  },
  {
   "cell_type": "code",
   "execution_count": null,
   "id": "928732cf-7ef4-471a-9818-139dd519eb45",
   "metadata": {},
   "outputs": [],
   "source": []
  }
 ],
 "metadata": {
  "kernelspec": {
   "display_name": "Python 3 (ipykernel)",
   "language": "python",
   "name": "python3"
  },
  "language_info": {
   "codemirror_mode": {
    "name": "ipython",
    "version": 3
   },
   "file_extension": ".py",
   "mimetype": "text/x-python",
   "name": "python",
   "nbconvert_exporter": "python",
   "pygments_lexer": "ipython3",
   "version": "3.13.2"
  }
 },
 "nbformat": 4,
 "nbformat_minor": 5
}
