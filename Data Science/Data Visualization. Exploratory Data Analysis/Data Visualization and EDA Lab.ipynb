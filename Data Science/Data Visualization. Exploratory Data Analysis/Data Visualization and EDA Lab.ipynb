{
 "cells": [
  {
   "cell_type": "code",
   "execution_count": 1,
   "id": "1b1927be-b3ca-4858-93e1-83348b9b931e",
   "metadata": {},
   "outputs": [],
   "source": [
    "%matplotlib inline"
   ]
  },
  {
   "cell_type": "code",
   "execution_count": 2,
   "id": "f726ac77",
   "metadata": {},
   "outputs": [],
   "source": [
    "import numpy as np\n",
    "import pandas as pd\n",
    "import matplotlib.pyplot as plt\n",
    "import zipfile as zf"
   ]
  },
  {
   "cell_type": "markdown",
   "id": "0a1bacf2-619d-4a97-bf91-e791cee8ce99",
   "metadata": {},
   "source": [
    "# Data Visualization and Exploratory Data Analysis Lab\n",
    "## Visualizing and exploring data. The data mining process"
   ]
  },
  {
   "cell_type": "markdown",
   "id": "7dd6a75a-59db-4b6f-b51c-79cfbffcef45",
   "metadata": {},
   "source": [
    "In this lab, you'll get acquainted with the most streamed songs on Spotify in 2024. The dataset and its associated metadata can be found [here](https://www.kaggle.com/datasets/nelgiriyewithana/most-streamed-spotify-songs-2024). The version you'll need is provided in the `data/` folder.\n",
    "\n",
    "You know the drill. Do what you can / want / need to answer the questions to the best of your ability. Answers do not need to be trivial, or even the same among different people."
   ]
  },
  {
   "cell_type": "markdown",
   "id": "b8cfbf65-857c-464e-98df-b6425b0b571d",
   "metadata": {},
   "source": [
    "### Problem 1. Read the dataset (1 point)\n",
    "Read the file without unzipping it first. You can try a different character encoding, like `unicode_escape`. Don't worry too much about weird characters."
   ]
  },
  {
   "cell_type": "code",
   "execution_count": 3,
   "id": "00d7946c-3f48-476e-8213-42d816ec1db2",
   "metadata": {},
   "outputs": [
    {
     "data": {
      "text/html": [
       "<div>\n",
       "<style scoped>\n",
       "    .dataframe tbody tr th:only-of-type {\n",
       "        vertical-align: middle;\n",
       "    }\n",
       "\n",
       "    .dataframe tbody tr th {\n",
       "        vertical-align: top;\n",
       "    }\n",
       "\n",
       "    .dataframe thead th {\n",
       "        text-align: right;\n",
       "    }\n",
       "</style>\n",
       "<table border=\"1\" class=\"dataframe\">\n",
       "  <thead>\n",
       "    <tr style=\"text-align: right;\">\n",
       "      <th></th>\n",
       "      <th>Track</th>\n",
       "      <th>Album Name</th>\n",
       "      <th>Artist</th>\n",
       "      <th>Release Date</th>\n",
       "      <th>ISRC</th>\n",
       "      <th>All Time Rank</th>\n",
       "      <th>Track Score</th>\n",
       "      <th>Spotify Streams</th>\n",
       "      <th>Spotify Playlist Count</th>\n",
       "      <th>Spotify Playlist Reach</th>\n",
       "      <th>...</th>\n",
       "      <th>SiriusXM Spins</th>\n",
       "      <th>Deezer Playlist Count</th>\n",
       "      <th>Deezer Playlist Reach</th>\n",
       "      <th>Amazon Playlist Count</th>\n",
       "      <th>Pandora Streams</th>\n",
       "      <th>Pandora Track Stations</th>\n",
       "      <th>Soundcloud Streams</th>\n",
       "      <th>Shazam Counts</th>\n",
       "      <th>TIDAL Popularity</th>\n",
       "      <th>Explicit Track</th>\n",
       "    </tr>\n",
       "  </thead>\n",
       "  <tbody>\n",
       "    <tr>\n",
       "      <th>0</th>\n",
       "      <td>MILLION DOLLAR BABY</td>\n",
       "      <td>Million Dollar Baby - Single</td>\n",
       "      <td>Tommy Richman</td>\n",
       "      <td>4/26/2024</td>\n",
       "      <td>QM24S2402528</td>\n",
       "      <td>1</td>\n",
       "      <td>725.4</td>\n",
       "      <td>390,470,936</td>\n",
       "      <td>30,716</td>\n",
       "      <td>196,631,588</td>\n",
       "      <td>...</td>\n",
       "      <td>684</td>\n",
       "      <td>62.0</td>\n",
       "      <td>17,598,718</td>\n",
       "      <td>114.0</td>\n",
       "      <td>18,004,655</td>\n",
       "      <td>22,931</td>\n",
       "      <td>4,818,457</td>\n",
       "      <td>2,669,262</td>\n",
       "      <td>NaN</td>\n",
       "      <td>0</td>\n",
       "    </tr>\n",
       "    <tr>\n",
       "      <th>1</th>\n",
       "      <td>Not Like Us</td>\n",
       "      <td>Not Like Us</td>\n",
       "      <td>Kendrick Lamar</td>\n",
       "      <td>5/4/2024</td>\n",
       "      <td>USUG12400910</td>\n",
       "      <td>2</td>\n",
       "      <td>545.9</td>\n",
       "      <td>323,703,884</td>\n",
       "      <td>28,113</td>\n",
       "      <td>174,597,137</td>\n",
       "      <td>...</td>\n",
       "      <td>3</td>\n",
       "      <td>67.0</td>\n",
       "      <td>10,422,430</td>\n",
       "      <td>111.0</td>\n",
       "      <td>7,780,028</td>\n",
       "      <td>28,444</td>\n",
       "      <td>6,623,075</td>\n",
       "      <td>1,118,279</td>\n",
       "      <td>NaN</td>\n",
       "      <td>1</td>\n",
       "    </tr>\n",
       "    <tr>\n",
       "      <th>2</th>\n",
       "      <td>i like the way you kiss me</td>\n",
       "      <td>I like the way you kiss me</td>\n",
       "      <td>Artemas</td>\n",
       "      <td>3/19/2024</td>\n",
       "      <td>QZJ842400387</td>\n",
       "      <td>3</td>\n",
       "      <td>538.4</td>\n",
       "      <td>601,309,283</td>\n",
       "      <td>54,331</td>\n",
       "      <td>211,607,669</td>\n",
       "      <td>...</td>\n",
       "      <td>536</td>\n",
       "      <td>136.0</td>\n",
       "      <td>36,321,847</td>\n",
       "      <td>172.0</td>\n",
       "      <td>5,022,621</td>\n",
       "      <td>5,639</td>\n",
       "      <td>7,208,651</td>\n",
       "      <td>5,285,340</td>\n",
       "      <td>NaN</td>\n",
       "      <td>0</td>\n",
       "    </tr>\n",
       "    <tr>\n",
       "      <th>3</th>\n",
       "      <td>Flowers</td>\n",
       "      <td>Flowers - Single</td>\n",
       "      <td>Miley Cyrus</td>\n",
       "      <td>1/12/2023</td>\n",
       "      <td>USSM12209777</td>\n",
       "      <td>4</td>\n",
       "      <td>444.9</td>\n",
       "      <td>2,031,280,633</td>\n",
       "      <td>269,802</td>\n",
       "      <td>136,569,078</td>\n",
       "      <td>...</td>\n",
       "      <td>2,182</td>\n",
       "      <td>264.0</td>\n",
       "      <td>24,684,248</td>\n",
       "      <td>210.0</td>\n",
       "      <td>190,260,277</td>\n",
       "      <td>203,384</td>\n",
       "      <td>NaN</td>\n",
       "      <td>11,822,942</td>\n",
       "      <td>NaN</td>\n",
       "      <td>0</td>\n",
       "    </tr>\n",
       "    <tr>\n",
       "      <th>4</th>\n",
       "      <td>Houdini</td>\n",
       "      <td>Houdini</td>\n",
       "      <td>Eminem</td>\n",
       "      <td>5/31/2024</td>\n",
       "      <td>USUG12403398</td>\n",
       "      <td>5</td>\n",
       "      <td>423.3</td>\n",
       "      <td>107,034,922</td>\n",
       "      <td>7,223</td>\n",
       "      <td>151,469,874</td>\n",
       "      <td>...</td>\n",
       "      <td>1</td>\n",
       "      <td>82.0</td>\n",
       "      <td>17,660,624</td>\n",
       "      <td>105.0</td>\n",
       "      <td>4,493,884</td>\n",
       "      <td>7,006</td>\n",
       "      <td>207,179</td>\n",
       "      <td>457,017</td>\n",
       "      <td>NaN</td>\n",
       "      <td>1</td>\n",
       "    </tr>\n",
       "    <tr>\n",
       "      <th>...</th>\n",
       "      <td>...</td>\n",
       "      <td>...</td>\n",
       "      <td>...</td>\n",
       "      <td>...</td>\n",
       "      <td>...</td>\n",
       "      <td>...</td>\n",
       "      <td>...</td>\n",
       "      <td>...</td>\n",
       "      <td>...</td>\n",
       "      <td>...</td>\n",
       "      <td>...</td>\n",
       "      <td>...</td>\n",
       "      <td>...</td>\n",
       "      <td>...</td>\n",
       "      <td>...</td>\n",
       "      <td>...</td>\n",
       "      <td>...</td>\n",
       "      <td>...</td>\n",
       "      <td>...</td>\n",
       "      <td>...</td>\n",
       "      <td>...</td>\n",
       "    </tr>\n",
       "    <tr>\n",
       "      <th>4595</th>\n",
       "      <td>For the Last Time</td>\n",
       "      <td>For the Last Time</td>\n",
       "      <td>$uicideboy$</td>\n",
       "      <td>9/5/2017</td>\n",
       "      <td>QM8DG1703420</td>\n",
       "      <td>4,585</td>\n",
       "      <td>19.4</td>\n",
       "      <td>305,049,963</td>\n",
       "      <td>65,770</td>\n",
       "      <td>5,103,054</td>\n",
       "      <td>...</td>\n",
       "      <td>NaN</td>\n",
       "      <td>2.0</td>\n",
       "      <td>14,217</td>\n",
       "      <td>NaN</td>\n",
       "      <td>20,104,066</td>\n",
       "      <td>13,184</td>\n",
       "      <td>50,633,006</td>\n",
       "      <td>656,337</td>\n",
       "      <td>NaN</td>\n",
       "      <td>1</td>\n",
       "    </tr>\n",
       "    <tr>\n",
       "      <th>4596</th>\n",
       "      <td>Dil Meri Na Sune</td>\n",
       "      <td>Dil Meri Na Sune (From \"Genius\")</td>\n",
       "      <td>Atif Aslam</td>\n",
       "      <td>7/27/2018</td>\n",
       "      <td>INT101800122</td>\n",
       "      <td>4,575</td>\n",
       "      <td>19.4</td>\n",
       "      <td>52,282,360</td>\n",
       "      <td>4,602</td>\n",
       "      <td>1,449,767</td>\n",
       "      <td>...</td>\n",
       "      <td>NaN</td>\n",
       "      <td>1.0</td>\n",
       "      <td>927</td>\n",
       "      <td>NaN</td>\n",
       "      <td>NaN</td>\n",
       "      <td>NaN</td>\n",
       "      <td>NaN</td>\n",
       "      <td>193,590</td>\n",
       "      <td>NaN</td>\n",
       "      <td>0</td>\n",
       "    </tr>\n",
       "    <tr>\n",
       "      <th>4597</th>\n",
       "      <td>Grace (feat. 42 Dugg)</td>\n",
       "      <td>My Turn</td>\n",
       "      <td>Lil Baby</td>\n",
       "      <td>2/28/2020</td>\n",
       "      <td>USUG12000043</td>\n",
       "      <td>4,571</td>\n",
       "      <td>19.4</td>\n",
       "      <td>189,972,685</td>\n",
       "      <td>72,066</td>\n",
       "      <td>6,704,802</td>\n",
       "      <td>...</td>\n",
       "      <td>NaN</td>\n",
       "      <td>1.0</td>\n",
       "      <td>74</td>\n",
       "      <td>6.0</td>\n",
       "      <td>84,426,740</td>\n",
       "      <td>28,999</td>\n",
       "      <td>NaN</td>\n",
       "      <td>1,135,998</td>\n",
       "      <td>NaN</td>\n",
       "      <td>1</td>\n",
       "    </tr>\n",
       "    <tr>\n",
       "      <th>4598</th>\n",
       "      <td>Nashe Si Chadh Gayi</td>\n",
       "      <td>November Top 10 Songs</td>\n",
       "      <td>Arijit Singh</td>\n",
       "      <td>11/8/2016</td>\n",
       "      <td>INY091600067</td>\n",
       "      <td>4,591</td>\n",
       "      <td>19.4</td>\n",
       "      <td>145,467,020</td>\n",
       "      <td>14,037</td>\n",
       "      <td>7,387,064</td>\n",
       "      <td>...</td>\n",
       "      <td>NaN</td>\n",
       "      <td>NaN</td>\n",
       "      <td>NaN</td>\n",
       "      <td>7.0</td>\n",
       "      <td>6,817,840</td>\n",
       "      <td>NaN</td>\n",
       "      <td>NaN</td>\n",
       "      <td>448,292</td>\n",
       "      <td>NaN</td>\n",
       "      <td>0</td>\n",
       "    </tr>\n",
       "    <tr>\n",
       "      <th>4599</th>\n",
       "      <td>Me Acostumbre (feat. Bad Bunny)</td>\n",
       "      <td>Me Acostumbre (feat. Bad Bunny)</td>\n",
       "      <td>Arcï¿½ï¿½</td>\n",
       "      <td>4/11/2017</td>\n",
       "      <td>USB271700107</td>\n",
       "      <td>4,593</td>\n",
       "      <td>19.4</td>\n",
       "      <td>255,740,653</td>\n",
       "      <td>32,138</td>\n",
       "      <td>14,066,526</td>\n",
       "      <td>...</td>\n",
       "      <td>NaN</td>\n",
       "      <td>4.0</td>\n",
       "      <td>127,479</td>\n",
       "      <td>4.0</td>\n",
       "      <td>69,006,739</td>\n",
       "      <td>11,320</td>\n",
       "      <td>NaN</td>\n",
       "      <td>767,006</td>\n",
       "      <td>NaN</td>\n",
       "      <td>1</td>\n",
       "    </tr>\n",
       "  </tbody>\n",
       "</table>\n",
       "<p>4600 rows × 29 columns</p>\n",
       "</div>"
      ],
      "text/plain": [
       "                                Track                        Album Name  \\\n",
       "0                 MILLION DOLLAR BABY      Million Dollar Baby - Single   \n",
       "1                         Not Like Us                       Not Like Us   \n",
       "2          i like the way you kiss me        I like the way you kiss me   \n",
       "3                             Flowers                  Flowers - Single   \n",
       "4                             Houdini                           Houdini   \n",
       "...                               ...                               ...   \n",
       "4595                For the Last Time                 For the Last Time   \n",
       "4596                 Dil Meri Na Sune  Dil Meri Na Sune (From \"Genius\")   \n",
       "4597            Grace (feat. 42 Dugg)                           My Turn   \n",
       "4598              Nashe Si Chadh Gayi             November Top 10 Songs   \n",
       "4599  Me Acostumbre (feat. Bad Bunny)   Me Acostumbre (feat. Bad Bunny)   \n",
       "\n",
       "              Artist Release Date          ISRC All Time Rank  Track Score  \\\n",
       "0      Tommy Richman    4/26/2024  QM24S2402528             1        725.4   \n",
       "1     Kendrick Lamar     5/4/2024  USUG12400910             2        545.9   \n",
       "2            Artemas    3/19/2024  QZJ842400387             3        538.4   \n",
       "3        Miley Cyrus    1/12/2023  USSM12209777             4        444.9   \n",
       "4             Eminem    5/31/2024  USUG12403398             5        423.3   \n",
       "...              ...          ...           ...           ...          ...   \n",
       "4595     $uicideboy$     9/5/2017  QM8DG1703420         4,585         19.4   \n",
       "4596      Atif Aslam    7/27/2018  INT101800122         4,575         19.4   \n",
       "4597        Lil Baby    2/28/2020  USUG12000043         4,571         19.4   \n",
       "4598    Arijit Singh    11/8/2016  INY091600067         4,591         19.4   \n",
       "4599       Arcï¿½ï¿½    4/11/2017  USB271700107         4,593         19.4   \n",
       "\n",
       "     Spotify Streams Spotify Playlist Count Spotify Playlist Reach  ...  \\\n",
       "0        390,470,936                 30,716            196,631,588  ...   \n",
       "1        323,703,884                 28,113            174,597,137  ...   \n",
       "2        601,309,283                 54,331            211,607,669  ...   \n",
       "3      2,031,280,633                269,802            136,569,078  ...   \n",
       "4        107,034,922                  7,223            151,469,874  ...   \n",
       "...              ...                    ...                    ...  ...   \n",
       "4595     305,049,963                 65,770              5,103,054  ...   \n",
       "4596      52,282,360                  4,602              1,449,767  ...   \n",
       "4597     189,972,685                 72,066              6,704,802  ...   \n",
       "4598     145,467,020                 14,037              7,387,064  ...   \n",
       "4599     255,740,653                 32,138             14,066,526  ...   \n",
       "\n",
       "      SiriusXM Spins Deezer Playlist Count Deezer Playlist Reach  \\\n",
       "0                684                  62.0            17,598,718   \n",
       "1                  3                  67.0            10,422,430   \n",
       "2                536                 136.0            36,321,847   \n",
       "3              2,182                 264.0            24,684,248   \n",
       "4                  1                  82.0            17,660,624   \n",
       "...              ...                   ...                   ...   \n",
       "4595             NaN                   2.0                14,217   \n",
       "4596             NaN                   1.0                   927   \n",
       "4597             NaN                   1.0                    74   \n",
       "4598             NaN                   NaN                   NaN   \n",
       "4599             NaN                   4.0               127,479   \n",
       "\n",
       "     Amazon Playlist Count Pandora Streams Pandora Track Stations  \\\n",
       "0                    114.0      18,004,655                 22,931   \n",
       "1                    111.0       7,780,028                 28,444   \n",
       "2                    172.0       5,022,621                  5,639   \n",
       "3                    210.0     190,260,277                203,384   \n",
       "4                    105.0       4,493,884                  7,006   \n",
       "...                    ...             ...                    ...   \n",
       "4595                   NaN      20,104,066                 13,184   \n",
       "4596                   NaN             NaN                    NaN   \n",
       "4597                   6.0      84,426,740                 28,999   \n",
       "4598                   7.0       6,817,840                    NaN   \n",
       "4599                   4.0      69,006,739                 11,320   \n",
       "\n",
       "     Soundcloud Streams  Shazam Counts TIDAL Popularity Explicit Track  \n",
       "0             4,818,457      2,669,262              NaN              0  \n",
       "1             6,623,075      1,118,279              NaN              1  \n",
       "2             7,208,651      5,285,340              NaN              0  \n",
       "3                   NaN     11,822,942              NaN              0  \n",
       "4               207,179        457,017              NaN              1  \n",
       "...                 ...            ...              ...            ...  \n",
       "4595         50,633,006        656,337              NaN              1  \n",
       "4596                NaN        193,590              NaN              0  \n",
       "4597                NaN      1,135,998              NaN              1  \n",
       "4598                NaN        448,292              NaN              0  \n",
       "4599                NaN        767,006              NaN              1  \n",
       "\n",
       "[4600 rows x 29 columns]"
      ]
     },
     "execution_count": 3,
     "metadata": {},
     "output_type": "execute_result"
    }
   ],
   "source": [
    "with zf.ZipFile(\"./data/spotify_most_streamed_2024.zip\") as z:\n",
    "    with z.open('Most Streamed Spotify Songs 2024.csv') as f:\n",
    "        spotify_data = pd.read_csv(f, encoding='unicode_escape')\n",
    "\n",
    "spotify_data"
   ]
  },
  {
   "cell_type": "markdown",
   "id": "84bb1876-3ab5-4d66-86f6-7e1ede99fffe",
   "metadata": {},
   "source": [
    "### Problem 2. Perform some cleaning (1 point)\n",
    "Ensure all data has been read correctly; check the data types. Give the columns better names (e.g. `all_time_rank`, `track_score`, etc.). To do so, try to use `apply()` instead of a manual mapping between old and new name. Get rid of any unnecessary ones."
   ]
  },
  {
   "cell_type": "code",
   "execution_count": 4,
   "id": "b0a8a054-a18f-42b5-8dc3-e840e816f27c",
   "metadata": {},
   "outputs": [
    {
     "data": {
      "text/plain": [
       "(4600, 29)"
      ]
     },
     "execution_count": 4,
     "metadata": {},
     "output_type": "execute_result"
    }
   ],
   "source": [
    "spotify_data.shape"
   ]
  },
  {
   "cell_type": "code",
   "execution_count": 5,
   "id": "65d8bd24-fbd8-4ce2-b9ee-86a3a03ab434",
   "metadata": {},
   "outputs": [],
   "source": [
    "def clean_column_name(col):\n",
    "    \"\"\" \n",
    "    Function to convert column names to snake_case and simplify where possible\n",
    "    \"\"\"\n",
    "    \n",
    "    col = col.strip().lower().replace(' ', '_').replace('-', '_')\n",
    "    col = col.replace('__', '_')\n",
    "    return col"
   ]
  },
  {
   "cell_type": "code",
   "execution_count": 6,
   "id": "a598844c-793a-45f6-a2e8-e1df1609dd80",
   "metadata": {},
   "outputs": [],
   "source": [
    "spotify_data.columns = spotify_data.columns.to_series().apply(clean_column_name)"
   ]
  },
  {
   "cell_type": "code",
   "execution_count": 7,
   "id": "0d8495dc-cbbe-40a5-a2b0-003981d7abf5",
   "metadata": {},
   "outputs": [
    {
     "data": {
      "text/plain": [
       "track                          object\n",
       "album_name                     object\n",
       "artist                         object\n",
       "release_date                   object\n",
       "isrc                           object\n",
       "all_time_rank                  object\n",
       "track_score                   float64\n",
       "spotify_streams                object\n",
       "spotify_playlist_count         object\n",
       "spotify_playlist_reach         object\n",
       "spotify_popularity            float64\n",
       "youtube_views                  object\n",
       "youtube_likes                  object\n",
       "tiktok_posts                   object\n",
       "tiktok_likes                   object\n",
       "tiktok_views                   object\n",
       "youtube_playlist_reach         object\n",
       "apple_music_playlist_count    float64\n",
       "airplay_spins                  object\n",
       "siriusxm_spins                 object\n",
       "deezer_playlist_count         float64\n",
       "deezer_playlist_reach          object\n",
       "amazon_playlist_count         float64\n",
       "pandora_streams                object\n",
       "pandora_track_stations         object\n",
       "soundcloud_streams             object\n",
       "shazam_counts                  object\n",
       "tidal_popularity              float64\n",
       "explicit_track                  int64\n",
       "dtype: object"
      ]
     },
     "execution_count": 7,
     "metadata": {},
     "output_type": "execute_result"
    }
   ],
   "source": [
    "spotify_data.dtypes"
   ]
  },
  {
   "cell_type": "code",
   "execution_count": 8,
   "id": "549960d4-e1b4-4b3d-ba15-8223ec90fba1",
   "metadata": {},
   "outputs": [
    {
     "data": {
      "text/plain": [
       "tidal_popularity\n",
       "NaN    4600\n",
       "Name: count, dtype: int64"
      ]
     },
     "execution_count": 8,
     "metadata": {},
     "output_type": "execute_result"
    }
   ],
   "source": [
    "spotify_data.tidal_popularity.value_counts(dropna = False)             "
   ]
  },
  {
   "cell_type": "markdown",
   "id": "a6171c60-bdbb-44c5-8cac-737b9f2af491",
   "metadata": {},
   "source": [
    "tidal_popularity is an unnecessary column - we drop it"
   ]
  },
  {
   "cell_type": "code",
   "execution_count": 9,
   "id": "33f64b44-07a0-48ab-bedc-478d8eaa8846",
   "metadata": {},
   "outputs": [],
   "source": [
    "spotify_data = spotify_data.drop(columns=['tidal_popularity'])"
   ]
  },
  {
   "cell_type": "code",
   "execution_count": 10,
   "id": "cca3be16-c319-4112-bf74-9f79e91ea95a",
   "metadata": {},
   "outputs": [
    {
     "data": {
      "text/plain": [
       "track                          object\n",
       "album_name                     object\n",
       "artist                         object\n",
       "release_date                   object\n",
       "isrc                           object\n",
       "all_time_rank                  object\n",
       "track_score                   float64\n",
       "spotify_streams                object\n",
       "spotify_playlist_count         object\n",
       "spotify_playlist_reach         object\n",
       "spotify_popularity            float64\n",
       "youtube_views                  object\n",
       "youtube_likes                  object\n",
       "tiktok_posts                   object\n",
       "tiktok_likes                   object\n",
       "tiktok_views                   object\n",
       "youtube_playlist_reach         object\n",
       "apple_music_playlist_count    float64\n",
       "airplay_spins                  object\n",
       "siriusxm_spins                 object\n",
       "deezer_playlist_count         float64\n",
       "deezer_playlist_reach          object\n",
       "amazon_playlist_count         float64\n",
       "pandora_streams                object\n",
       "pandora_track_stations         object\n",
       "soundcloud_streams             object\n",
       "shazam_counts                  object\n",
       "explicit_track                  int64\n",
       "dtype: object"
      ]
     },
     "execution_count": 10,
     "metadata": {},
     "output_type": "execute_result"
    }
   ],
   "source": [
    "spotify_data.dtypes"
   ]
  },
  {
   "cell_type": "code",
   "execution_count": 11,
   "id": "63958aae-3a4e-4241-9879-17d10c6341cc",
   "metadata": {},
   "outputs": [
    {
     "data": {
      "text/plain": [
       "release_date\n",
       "1/1/2012      38\n",
       "1/1/2013      34\n",
       "4/12/2024     29\n",
       "1/1/2014      28\n",
       "10/13/2023    28\n",
       "              ..\n",
       "4/6/2022       1\n",
       "9/21/2021      1\n",
       "3/19/2024      1\n",
       "5/4/2024       1\n",
       "4/11/2017      1\n",
       "Name: count, Length: 1562, dtype: int64"
      ]
     },
     "execution_count": 11,
     "metadata": {},
     "output_type": "execute_result"
    }
   ],
   "source": [
    "spotify_data.release_date.value_counts(dropna = False)   "
   ]
  },
  {
   "cell_type": "markdown",
   "id": "d70fe00c-4b09-45d0-a828-b95174c516df",
   "metadata": {},
   "source": [
    "Release date column should be of type datetime"
   ]
  },
  {
   "cell_type": "code",
   "execution_count": 12,
   "id": "1ca5f5fd-bebf-42bf-9d53-c6913a6f3feb",
   "metadata": {},
   "outputs": [],
   "source": [
    "spotify_data.release_date = pd.to_datetime(spotify_data.release_date)"
   ]
  },
  {
   "cell_type": "code",
   "execution_count": 13,
   "id": "ebbda09e-36a1-4a9a-a649-e023ece55bd9",
   "metadata": {},
   "outputs": [
    {
     "data": {
      "text/plain": [
       "track                                 object\n",
       "album_name                            object\n",
       "artist                                object\n",
       "release_date                  datetime64[ns]\n",
       "isrc                                  object\n",
       "all_time_rank                         object\n",
       "track_score                          float64\n",
       "spotify_streams                       object\n",
       "spotify_playlist_count                object\n",
       "spotify_playlist_reach                object\n",
       "spotify_popularity                   float64\n",
       "youtube_views                         object\n",
       "youtube_likes                         object\n",
       "tiktok_posts                          object\n",
       "tiktok_likes                          object\n",
       "tiktok_views                          object\n",
       "youtube_playlist_reach                object\n",
       "apple_music_playlist_count           float64\n",
       "airplay_spins                         object\n",
       "siriusxm_spins                        object\n",
       "deezer_playlist_count                float64\n",
       "deezer_playlist_reach                 object\n",
       "amazon_playlist_count                float64\n",
       "pandora_streams                       object\n",
       "pandora_track_stations                object\n",
       "soundcloud_streams                    object\n",
       "shazam_counts                         object\n",
       "explicit_track                         int64\n",
       "dtype: object"
      ]
     },
     "execution_count": 13,
     "metadata": {},
     "output_type": "execute_result"
    }
   ],
   "source": [
    "spotify_data.dtypes"
   ]
  },
  {
   "cell_type": "code",
   "execution_count": 14,
   "id": "c055acea-c3f5-4d83-8523-6656b60134cb",
   "metadata": {},
   "outputs": [
    {
     "data": {
      "text/plain": [
       "all_time_rank\n",
       "355      2\n",
       "1,103    2\n",
       "1,807    2\n",
       "2,192    2\n",
       "626      2\n",
       "        ..\n",
       "4,585    1\n",
       "4,575    1\n",
       "4,571    1\n",
       "4,591    1\n",
       "4,553    1\n",
       "Name: count, Length: 4577, dtype: int64"
      ]
     },
     "execution_count": 14,
     "metadata": {},
     "output_type": "execute_result"
    }
   ],
   "source": [
    "spotify_data.all_time_rank.value_counts(dropna = False)   "
   ]
  },
  {
   "cell_type": "code",
   "execution_count": 15,
   "id": "7fe8577e-3512-495e-a50f-b85707ac2777",
   "metadata": {},
   "outputs": [
    {
     "data": {
      "text/plain": [
       "spotify_streams\n",
       "NaN              113\n",
       "1,655,575,417      4\n",
       "1,642,258,500      3\n",
       "111,155,129        2\n",
       "1,431,126,152      2\n",
       "                ... \n",
       "3,301,814,535      1\n",
       "91,272,461         1\n",
       "1,258,569,694      1\n",
       "395,433,400        1\n",
       "42,735,162         1\n",
       "Name: count, Length: 4426, dtype: int64"
      ]
     },
     "execution_count": 15,
     "metadata": {},
     "output_type": "execute_result"
    }
   ],
   "source": [
    "spotify_data.spotify_streams.value_counts(dropna = False)"
   ]
  },
  {
   "cell_type": "code",
   "execution_count": 16,
   "id": "d4a39703-b916-43d1-a878-3f8a7e3e1258",
   "metadata": {},
   "outputs": [
    {
     "data": {
      "text/plain": [
       "spotify_playlist_count\n",
       "NaN       70\n",
       "1         46\n",
       "2         24\n",
       "3         19\n",
       "5         18\n",
       "          ..\n",
       "65,770     1\n",
       "4,602      1\n",
       "72,066     1\n",
       "14,037     1\n",
       "32,138     1\n",
       "Name: count, Length: 4208, dtype: int64"
      ]
     },
     "execution_count": 16,
     "metadata": {},
     "output_type": "execute_result"
    }
   ],
   "source": [
    "spotify_data.spotify_playlist_count.value_counts(dropna = False)"
   ]
  },
  {
   "cell_type": "code",
   "execution_count": 17,
   "id": "eb85dc0a-acf5-4486-afd5-e3f2fc0b1baf",
   "metadata": {},
   "outputs": [
    {
     "data": {
      "text/plain": [
       "spotify_playlist_reach\n",
       "NaN          72\n",
       "3             8\n",
       "1             7\n",
       "2             6\n",
       "4             6\n",
       "             ..\n",
       "5,103,054     1\n",
       "1,449,767     1\n",
       "6,704,802     1\n",
       "7,387,064     1\n",
       "6,879,843     1\n",
       "Name: count, Length: 4479, dtype: int64"
      ]
     },
     "execution_count": 17,
     "metadata": {},
     "output_type": "execute_result"
    }
   ],
   "source": [
    "spotify_data.spotify_playlist_reach.value_counts(dropna = False)"
   ]
  },
  {
   "cell_type": "code",
   "execution_count": 18,
   "id": "8a0ca537-a701-4862-96dc-f2880e9bde86",
   "metadata": {},
   "outputs": [
    {
     "data": {
      "text/plain": [
       "youtube_views\n",
       "NaN              308\n",
       "30,913,276         2\n",
       "828,853,696        2\n",
       "257,045,287        1\n",
       "116,347,040        1\n",
       "                ... \n",
       "149,247,747        1\n",
       "943,920,245        1\n",
       "201,027,333        1\n",
       "1,118,595,159      1\n",
       "122,599,116        1\n",
       "Name: count, Length: 4291, dtype: int64"
      ]
     },
     "execution_count": 18,
     "metadata": {},
     "output_type": "execute_result"
    }
   ],
   "source": [
    "spotify_data.youtube_views.value_counts(dropna = False)"
   ]
  },
  {
   "cell_type": "code",
   "execution_count": 19,
   "id": "c3e53ee0-f668-4433-aeeb-ba0f1c2c21fc",
   "metadata": {},
   "outputs": [
    {
     "data": {
      "text/plain": [
       "youtube_likes\n",
       "NaN          315\n",
       "159,791        2\n",
       "3,086,157      2\n",
       "466,288        1\n",
       "1,456,177      1\n",
       "            ... \n",
       "1,397,590      1\n",
       "5,347,766      1\n",
       "1,081,402      1\n",
       "3,868,828      1\n",
       "1,307,290      1\n",
       "Name: count, Length: 4284, dtype: int64"
      ]
     },
     "execution_count": 19,
     "metadata": {},
     "output_type": "execute_result"
    }
   ],
   "source": [
    "spotify_data.youtube_likes.value_counts(dropna = False)"
   ]
  },
  {
   "cell_type": "code",
   "execution_count": 20,
   "id": "f26bf6a5-ba96-4a47-a09d-53e24968a94c",
   "metadata": {},
   "outputs": [
    {
     "data": {
      "text/plain": [
       "tiktok_posts\n",
       "NaN           1173\n",
       "1,800,000        6\n",
       "1,100,000        6\n",
       "1,600,000        4\n",
       "2,100,000        4\n",
       "              ... \n",
       "1,470,500        1\n",
       "9,453,333        1\n",
       "37,621,885       1\n",
       "7,485,966        1\n",
       "7,189,811        1\n",
       "Name: count, Length: 3319, dtype: int64"
      ]
     },
     "execution_count": 20,
     "metadata": {},
     "output_type": "execute_result"
    }
   ],
   "source": [
    "spotify_data.tiktok_posts.value_counts(dropna = False)"
   ]
  },
  {
   "cell_type": "code",
   "execution_count": 21,
   "id": "cb7342e5-5375-496d-bf90-a617c8808cfd",
   "metadata": {},
   "outputs": [
    {
     "data": {
      "text/plain": [
       "tiktok_likes\n",
       "NaN            980\n",
       "14,000           2\n",
       "1,800,000        2\n",
       "42               2\n",
       "13,324,305       2\n",
       "              ... \n",
       "1,088            1\n",
       "521,725,116      1\n",
       "25,348,800       1\n",
       "419,319,161      1\n",
       "119,740,900      1\n",
       "Name: count, Length: 3616, dtype: int64"
      ]
     },
     "execution_count": 21,
     "metadata": {},
     "output_type": "execute_result"
    }
   ],
   "source": [
    "spotify_data.tiktok_likes.value_counts(dropna = False)"
   ]
  },
  {
   "cell_type": "code",
   "execution_count": 22,
   "id": "4f54cbaa-0eac-4900-88c6-1ecf409b4973",
   "metadata": {},
   "outputs": [
    {
     "data": {
      "text/plain": [
       "tiktok_views\n",
       "NaN              981\n",
       "1,200,000          2\n",
       "117,505,652        2\n",
       "158,504,854        2\n",
       "4,591,851          1\n",
       "                ... \n",
       "7,499,234,052      1\n",
       "207,317,000        1\n",
       "5,456,156,211      1\n",
       "1,225,345,800      1\n",
       "208,339,025        1\n",
       "Name: count, Length: 3617, dtype: int64"
      ]
     },
     "execution_count": 22,
     "metadata": {},
     "output_type": "execute_result"
    }
   ],
   "source": [
    "spotify_data.tiktok_views.value_counts(dropna = False)"
   ]
  },
  {
   "cell_type": "code",
   "execution_count": 23,
   "id": "bcdf9851-f539-48e2-84d5-b19e4e53ea6d",
   "metadata": {},
   "outputs": [
    {
     "data": {
      "text/plain": [
       "airplay_spins\n",
       "NaN          498\n",
       "1             69\n",
       "2             48\n",
       "3             33\n",
       "8             23\n",
       "            ... \n",
       "129,968        1\n",
       "667,329        1\n",
       "569,287        1\n",
       "1,777,811      1\n",
       "88,924         1\n",
       "Name: count, Length: 3268, dtype: int64"
      ]
     },
     "execution_count": 23,
     "metadata": {},
     "output_type": "execute_result"
    }
   ],
   "source": [
    "spotify_data.airplay_spins.value_counts(dropna = False)"
   ]
  },
  {
   "cell_type": "code",
   "execution_count": 24,
   "id": "0ac3251a-28bf-4dd0-a9bf-700122dc8ddb",
   "metadata": {},
   "outputs": [
    {
     "data": {
      "text/plain": [
       "siriusxm_spins\n",
       "NaN      2123\n",
       "1          54\n",
       "2          52\n",
       "4          45\n",
       "3          43\n",
       "         ... \n",
       "858         1\n",
       "345         1\n",
       "1,319       1\n",
       "2,355       1\n",
       "337         1\n",
       "Name: count, Length: 690, dtype: int64"
      ]
     },
     "execution_count": 24,
     "metadata": {},
     "output_type": "execute_result"
    }
   ],
   "source": [
    "spotify_data.siriusxm_spins.value_counts(dropna = False)"
   ]
  },
  {
   "cell_type": "code",
   "execution_count": 25,
   "id": "380718cd-342f-4e2c-8c42-6cd0b835ebb5",
   "metadata": {},
   "outputs": [
    {
     "data": {
      "text/plain": [
       "deezer_playlist_reach\n",
       "NaN           928\n",
       "1,097          17\n",
       "1,566,667       7\n",
       "72              5\n",
       "91,280          5\n",
       "             ... \n",
       "13,718,632      1\n",
       "41,414,565      1\n",
       "40,725,482      1\n",
       "26,516,005      1\n",
       "24,684,248      1\n",
       "Name: count, Length: 3559, dtype: int64"
      ]
     },
     "execution_count": 25,
     "metadata": {},
     "output_type": "execute_result"
    }
   ],
   "source": [
    "spotify_data.deezer_playlist_reach.value_counts(dropna = False)"
   ]
  },
  {
   "cell_type": "code",
   "execution_count": 26,
   "id": "df8dff82-bf43-4cdb-a470-cae77dc0d63d",
   "metadata": {},
   "outputs": [
    {
     "data": {
      "text/plain": [
       "pandora_streams\n",
       "NaN            1106\n",
       "56,972,562        2\n",
       "6,723,858         2\n",
       "2,829             2\n",
       "293,997,575       1\n",
       "               ... \n",
       "44,850,379        1\n",
       "283,089           1\n",
       "132,624,772       1\n",
       "70,291,476        1\n",
       "202,437,193       1\n",
       "Name: count, Length: 3492, dtype: int64"
      ]
     },
     "execution_count": 26,
     "metadata": {},
     "output_type": "execute_result"
    }
   ],
   "source": [
    "spotify_data.pandora_streams.value_counts(dropna = False)"
   ]
  },
  {
   "cell_type": "code",
   "execution_count": 27,
   "id": "fd52b68e-e5f9-4a19-98f2-f5c4e30c0188",
   "metadata": {},
   "outputs": [
    {
     "data": {
      "text/plain": [
       "pandora_track_stations\n",
       "NaN       1268\n",
       "9            6\n",
       "2            5\n",
       "12           5\n",
       "880          4\n",
       "          ... \n",
       "1,219        1\n",
       "18,364       1\n",
       "13,242       1\n",
       "13,437       1\n",
       "12,270       1\n",
       "Name: count, Length: 2976, dtype: int64"
      ]
     },
     "execution_count": 27,
     "metadata": {},
     "output_type": "execute_result"
    }
   ],
   "source": [
    "spotify_data.pandora_track_stations.value_counts(dropna = False)"
   ]
  },
  {
   "cell_type": "code",
   "execution_count": 28,
   "id": "c431101c-3ef1-4cb6-b193-79f30a1f99ca",
   "metadata": {},
   "outputs": [
    {
     "data": {
      "text/plain": [
       "soundcloud_streams\n",
       "NaN           3333\n",
       "27               2\n",
       "1,336,043        2\n",
       "3,089,649        1\n",
       "2,528,450        1\n",
       "              ... \n",
       "49,145,984       1\n",
       "3,910,975        1\n",
       "96,009           1\n",
       "8,141,454        1\n",
       "6,049,784        1\n",
       "Name: count, Length: 1266, dtype: int64"
      ]
     },
     "execution_count": 28,
     "metadata": {},
     "output_type": "execute_result"
    }
   ],
   "source": [
    "spotify_data.soundcloud_streams.value_counts(dropna=False)"
   ]
  },
  {
   "cell_type": "code",
   "execution_count": 29,
   "id": "0a013f6d-ec5e-4d8b-beba-673f1adc9c2e",
   "metadata": {},
   "outputs": [
    {
     "data": {
      "text/plain": [
       "shazam_counts\n",
       "NaN           577\n",
       "1               5\n",
       "7               3\n",
       "5               3\n",
       "3               3\n",
       "             ... \n",
       "2,765,808       1\n",
       "1,210,029       1\n",
       "6,973,652       1\n",
       "257,661         1\n",
       "14,967,379      1\n",
       "Name: count, Length: 4003, dtype: int64"
      ]
     },
     "execution_count": 29,
     "metadata": {},
     "output_type": "execute_result"
    }
   ],
   "source": [
    "spotify_data.shazam_counts.value_counts(dropna=False)"
   ]
  },
  {
   "cell_type": "code",
   "execution_count": 30,
   "id": "d5f3bbda-a67f-4fa2-915a-23b062278eaa",
   "metadata": {},
   "outputs": [
    {
     "data": {
      "text/plain": [
       "youtube_playlist_reach\n",
       "NaN              1009\n",
       "381,728            13\n",
       "2,606,582           7\n",
       "19,904,542          7\n",
       "45,212,529          6\n",
       "                 ... \n",
       "268,893,710         1\n",
       "2,667,285,437       1\n",
       "5,839,168           1\n",
       "7,289,707,052       1\n",
       "1,063,591,802       1\n",
       "Name: count, Length: 3459, dtype: int64"
      ]
     },
     "execution_count": 30,
     "metadata": {},
     "output_type": "execute_result"
    }
   ],
   "source": [
    "spotify_data.youtube_playlist_reach.value_counts(dropna=False)"
   ]
  },
  {
   "cell_type": "markdown",
   "id": "6079f0f9-f5f2-43ef-b076-f79cd17b59fb",
   "metadata": {},
   "source": [
    "Before applying any cleaning functions, I inspect the value counts of 17 numerical columns related to streaming and playlist metrics across different platforms. I can see that many of these values are stored as strings due to the presence of formatting characters like commas (e.g. \"1,103\"), or are empty strings, 'nan', or 'NA' which prevent proper numerical interpretation. Also, there are some inconsistencies in how missing values are represented. I decided to apply a cleaning function to each of these columns. This function removes commas and whitespace, replaces invalid or missing entries with pd.NA, and converts the result to the appropriate numerical type (Int64)."
   ]
  },
  {
   "cell_type": "code",
   "execution_count": 31,
   "id": "69c22f70-3979-4d98-9e53-0e31ef66ee7d",
   "metadata": {},
   "outputs": [],
   "source": [
    "def clean_numeric_columns(df, columns):\n",
    "    \n",
    "    \"\"\"\n",
    "    Cleans the specified columns in the dataset by:\n",
    "    - Removing commas\n",
    "    - Stripping whitespace\n",
    "    - Handling missing values\n",
    "    - Converting to pandas nullable Int64 type\n",
    "    \"\"\"\n",
    "    \n",
    "    for col in columns:\n",
    "        df[col] = (\n",
    "            df[col]\n",
    "            .astype(str)\n",
    "            .str.replace(',', '', regex=False)\n",
    "            .str.strip()\n",
    "            .apply(lambda x: float(x) if x.replace('.', '', 1).isdigit() else pd.NA)\n",
    "            .astype('Int64')\n",
    "        )"
   ]
  },
  {
   "cell_type": "code",
   "execution_count": 32,
   "id": "35a07ada-1962-4382-ba8c-e3d33c0a5aa0",
   "metadata": {},
   "outputs": [],
   "source": [
    "columns_to_clean = [\n",
    "    'all_time_rank', 'spotify_streams', 'spotify_playlist_count', 'spotify_playlist_reach',\n",
    "    'youtube_views', 'youtube_likes', 'tiktok_posts', 'tiktok_likes', 'tiktok_views',\n",
    "    'airplay_spins', 'siriusxm_spins', 'deezer_playlist_reach', 'pandora_streams',\n",
    "    'pandora_track_stations', 'soundcloud_streams', 'shazam_counts', 'youtube_playlist_reach'\n",
    "]\n",
    "\n",
    "clean_numeric_columns(spotify_data, columns_to_clean)"
   ]
  },
  {
   "cell_type": "code",
   "execution_count": 33,
   "id": "02c5355d-412c-48bf-93b8-ba1bc97728ee",
   "metadata": {},
   "outputs": [
    {
     "data": {
      "text/plain": [
       "track                                 object\n",
       "album_name                            object\n",
       "artist                                object\n",
       "release_date                  datetime64[ns]\n",
       "isrc                                  object\n",
       "all_time_rank                          Int64\n",
       "track_score                          float64\n",
       "spotify_streams                        Int64\n",
       "spotify_playlist_count                 Int64\n",
       "spotify_playlist_reach                 Int64\n",
       "spotify_popularity                   float64\n",
       "youtube_views                          Int64\n",
       "youtube_likes                          Int64\n",
       "tiktok_posts                           Int64\n",
       "tiktok_likes                           Int64\n",
       "tiktok_views                           Int64\n",
       "youtube_playlist_reach                 Int64\n",
       "apple_music_playlist_count           float64\n",
       "airplay_spins                          Int64\n",
       "siriusxm_spins                         Int64\n",
       "deezer_playlist_count                float64\n",
       "deezer_playlist_reach                  Int64\n",
       "amazon_playlist_count                float64\n",
       "pandora_streams                        Int64\n",
       "pandora_track_stations                 Int64\n",
       "soundcloud_streams                     Int64\n",
       "shazam_counts                          Int64\n",
       "explicit_track                         int64\n",
       "dtype: object"
      ]
     },
     "execution_count": 33,
     "metadata": {},
     "output_type": "execute_result"
    }
   ],
   "source": [
    "spotify_data.dtypes"
   ]
  },
  {
   "cell_type": "code",
   "execution_count": 34,
   "id": "a28d1e2b-be11-4381-844c-e504eb9d2033",
   "metadata": {},
   "outputs": [
    {
     "data": {
      "text/plain": [
       "artist\n",
       "Drake            63\n",
       "Taylor Swift     63\n",
       "Bad Bunny        60\n",
       "KAROL G          32\n",
       "The Weeknd       31\n",
       "                 ..\n",
       "Jaques Raupï¿     1\n",
       "Kerim Araz        1\n",
       "Steps             1\n",
       "Serranow          1\n",
       "SR                1\n",
       "Name: count, Length: 2000, dtype: int64"
      ]
     },
     "execution_count": 34,
     "metadata": {},
     "output_type": "execute_result"
    }
   ],
   "source": [
    "spotify_data.artist.value_counts(dropna = False)"
   ]
  },
  {
   "cell_type": "code",
   "execution_count": 35,
   "id": "1049e4b4-6f9a-44b7-b028-f0e5c40356ca",
   "metadata": {},
   "outputs": [
    {
     "data": {
      "text/plain": [
       "track\n",
       "Danza Kuduro - Cover               13\n",
       "Cake By The Ocean - Cover           9\n",
       "ýýýýýýýýýýýý                        7\n",
       "ýýýýýý                              6\n",
       "Flowers                             4\n",
       "                                   ..\n",
       "For the Last Time                   1\n",
       "Dil Meri Na Sune                    1\n",
       "Grace (feat. 42 Dugg)               1\n",
       "Nashe Si Chadh Gayi                 1\n",
       "Me Acostumbre (feat. Bad Bunny)     1\n",
       "Name: count, Length: 4370, dtype: int64"
      ]
     },
     "execution_count": 35,
     "metadata": {},
     "output_type": "execute_result"
    }
   ],
   "source": [
    "spotify_data.track.value_counts(dropna = False)"
   ]
  },
  {
   "cell_type": "code",
   "execution_count": 36,
   "id": "b2c354b0-d7b2-4b9f-a37d-5c43981fcfba",
   "metadata": {},
   "outputs": [
    {
     "data": {
      "text/plain": [
       "album_name\n",
       "Un Verano Sin Ti                                           20\n",
       "THE TORTURED POETS DEPARTMENT                              18\n",
       "nadie sabe lo que va a pasar maï¿½ï¿                       16\n",
       "For All The Dogs                                           15\n",
       "UTOPIA                                                     15\n",
       "                                                           ..\n",
       "What Was I Made For? (From The Motion Picture \"Barbie\")     1\n",
       "Black Book ID's: Chapter 5 - EP                             1\n",
       "As It Was                                                   1\n",
       "Heat Waves                                                  1\n",
       "Me Acostumbre (feat. Bad Bunny)                             1\n",
       "Name: count, Length: 4005, dtype: int64"
      ]
     },
     "execution_count": 36,
     "metadata": {},
     "output_type": "execute_result"
    }
   ],
   "source": [
    "spotify_data.album_name.value_counts(dropna = False)"
   ]
  },
  {
   "cell_type": "markdown",
   "id": "5a8714a4-1941-48f3-a82e-25ccfb1fa9a2",
   "metadata": {},
   "source": [
    "In my opinion, the dataset is now cleaned!"
   ]
  },
  {
   "cell_type": "markdown",
   "id": "0ae40d8d-4831-484d-a464-dda392703366",
   "metadata": {},
   "source": [
    "### Problem 3. Most productive artists (1 point)\n",
    "Who are the five artists with the most songs in the dataset?\n",
    "\n",
    "Who are the five \"clean-mouthed\" artists (i.e., with no explicit songs)? **Note:** We're not going into details but we can start a discussion about whether a song needs swearing to be popular."
   ]
  },
  {
   "cell_type": "code",
   "execution_count": 37,
   "id": "49d45c5d-ae65-4324-b869-c5075667f690",
   "metadata": {},
   "outputs": [
    {
     "data": {
      "text/plain": [
       "artist\n",
       "Taylor Swift    63\n",
       "Drake           63\n",
       "Bad Bunny       60\n",
       "KAROL G         32\n",
       "The Weeknd      31\n",
       "Name: count, dtype: int64"
      ]
     },
     "execution_count": 37,
     "metadata": {},
     "output_type": "execute_result"
    }
   ],
   "source": [
    "top_artists = spotify_data.artist.value_counts().head(5)\n",
    "top_artists"
   ]
  },
  {
   "cell_type": "code",
   "execution_count": 38,
   "id": "35ac67de-1fdb-4044-8993-80f5bd5d4a6f",
   "metadata": {},
   "outputs": [
    {
     "data": {
      "image/png": "[encoded data removed]",
      "text/plain": [
       "<Figure size 800x500 with 1 Axes>"
      ]
     },
     "metadata": {},
     "output_type": "display_data"
    }
   ],
   "source": [
    "plt.figure(figsize=(8, 5))\n",
    "top_artists.plot(kind='bar', edgecolor='black')\n",
    "plt.title('Top 5 Artists with the Most Songs')\n",
    "plt.xlabel('Artist')\n",
    "plt.ylabel('Number of Songs')\n",
    "plt.xticks(rotation=45)\n",
    "plt.tight_layout()\n",
    "plt.show()"
   ]
  },
  {
   "cell_type": "code",
   "execution_count": 39,
   "id": "b853955d-f585-49ae-941e-a4a3b3a11f64",
   "metadata": {},
   "outputs": [
    {
     "data": {
      "text/plain": [
       "artist\n",
       "Taylor Swift     50\n",
       "Billie Eilish    25\n",
       "KAROL G          18\n",
       "Bad Bunny        18\n",
       "Morgan Wallen    17\n",
       "Name: count, dtype: int64"
      ]
     },
     "execution_count": 39,
     "metadata": {},
     "output_type": "execute_result"
    }
   ],
   "source": [
    "clean_mouthed_artists = spotify_data.artist[spotify_data.explicit_track == 0].value_counts().head(5)\n",
    "clean_mouthed_artists"
   ]
  },
  {
   "cell_type": "code",
   "execution_count": 40,
   "id": "8f906766-dec3-441e-82b3-aeee2384bcf6",
   "metadata": {},
   "outputs": [
    {
     "data": {
      "image/png": "[encoded data removed]",
      "text/plain": [
       "<Figure size 800x500 with 1 Axes>"
      ]
     },
     "metadata": {},
     "output_type": "display_data"
    }
   ],
   "source": [
    "plt.figure(figsize=(8, 5))\n",
    "clean_mouthed_artists.plot(kind='bar', color='green', edgecolor='black')\n",
    "plt.title('Top 5 Clean-Mouthed Artists (No Explicit Songs)')\n",
    "plt.xlabel('Artist')\n",
    "plt.ylabel('Number of Clean Songs')\n",
    "plt.xticks(rotation=45)\n",
    "plt.tight_layout()\n",
    "plt.show()"
   ]
  },
  {
   "cell_type": "markdown",
   "id": "25ee2949-c7ce-4c30-8836-1fa443d245e9",
   "metadata": {},
   "source": [
    "### Problem 4. Most streamed artists (1 point)\n",
    "And who are the top five most streamed (as measured by Spotify streams) artists?"
   ]
  },
  {
   "cell_type": "code",
   "execution_count": 41,
   "id": "aeb0384d-daa4-482e-b5ff-dbe8abca0688",
   "metadata": {},
   "outputs": [
    {
     "data": {
      "text/plain": [
       "artist\n",
       "Bad Bunny       37054834425\n",
       "The Weeknd      36948540278\n",
       "Drake           34962157577\n",
       "Taylor Swift    34470771165\n",
       "Post Malone     26137472958\n",
       "Name: spotify_streams, dtype: Int64"
      ]
     },
     "execution_count": 41,
     "metadata": {},
     "output_type": "execute_result"
    }
   ],
   "source": [
    "top_streamed_artists = (\n",
    "    spotify_data\n",
    "    .groupby('artist')\n",
    "    .spotify_streams\n",
    "    .sum()\n",
    "    .sort_values(ascending=False)\n",
    "    .head(5)\n",
    ")\n",
    "\n",
    "top_streamed_artists"
   ]
  },
  {
   "cell_type": "code",
   "execution_count": 42,
   "id": "dac16042-4f55-4665-a6f6-e567526954a6",
   "metadata": {},
   "outputs": [
    {
     "data": {
      "image/png": "[encoded data removed]",
      "text/plain": [
       "<Figure size 800x500 with 1 Axes>"
      ]
     },
     "metadata": {},
     "output_type": "display_data"
    }
   ],
   "source": [
    "# Convert streams to billions for readability\n",
    "top_streamed_b = top_streamed_artists / 1000000000\n",
    "\n",
    "fig, ax = plt.subplots(figsize=(8, 5))\n",
    "top_streamed_b.plot(kind='bar', color='skyblue', edgecolor='black', ax=ax)\n",
    "ax.set_title('Top 5 Most Streamed Artists on Spotify')\n",
    "ax.set_xlabel('Artist')\n",
    "ax.set_ylabel('Total Streams (Billions)')\n",
    "plt.xticks(rotation=45, ha='right')\n",
    "plt.tight_layout()\n",
    "plt.show()"
   ]
  },
  {
   "cell_type": "markdown",
   "id": "30fa25c3-abd4-4f04-859a-e00e781adaa8",
   "metadata": {},
   "source": [
    "### Problem 5. Songs by year and month (1 point)\n",
    "How many songs have been released each year? Present an appropriate plot. Can you explain the behavior of the plot for 2024?\n",
    "\n",
    "How about months? Is / Are there (a) popular month(s) to release music?"
   ]
  },
  {
   "cell_type": "code",
   "execution_count": 43,
   "id": "6bfca544-a5b2-40b1-9678-c4dbeff75423",
   "metadata": {},
   "outputs": [
    {
     "data": {
      "text/plain": [
       "release_date\n",
       "1987       1\n",
       "1991       1\n",
       "1994       1\n",
       "1998       1\n",
       "1999       1\n",
       "2000       2\n",
       "2001       1\n",
       "2002       5\n",
       "2003       3\n",
       "2004       5\n",
       "2005       5\n",
       "2006       3\n",
       "2007       5\n",
       "2008      11\n",
       "2009      15\n",
       "2010      27\n",
       "2011      51\n",
       "2012      47\n",
       "2013      55\n",
       "2014      70\n",
       "2015      96\n",
       "2016     123\n",
       "2017     213\n",
       "2018     249\n",
       "2019     296\n",
       "2020     360\n",
       "2021     408\n",
       "2022     694\n",
       "2023    1158\n",
       "2024     693\n",
       "Name: count, dtype: int64"
      ]
     },
     "execution_count": 43,
     "metadata": {},
     "output_type": "execute_result"
    }
   ],
   "source": [
    "release_years = spotify_data.release_date.dt.year\n",
    "year_counts = release_years.value_counts().sort_index()\n",
    "year_counts"
   ]
  },
  {
   "cell_type": "code",
   "execution_count": 44,
   "id": "a563eb1b-2ebe-4dac-a685-338897414530",
   "metadata": {},
   "outputs": [
    {
     "data": {
      "image/png": "[encoded data removed]",
      "text/plain": [
       "<Figure size 1000x600 with 1 Axes>"
      ]
     },
     "metadata": {},
     "output_type": "display_data"
    }
   ],
   "source": [
    "plt.figure(figsize=(10, 6))\n",
    "year_counts.plot(kind='bar', color='skyblue', edgecolor='black')\n",
    "plt.title('Number of Songs Released Each Year')\n",
    "plt.xlabel('Release Year')\n",
    "plt.ylabel('Number of Songs')\n",
    "plt.xticks(rotation=45)\n",
    "plt.tight_layout()\n",
    "plt.show()"
   ]
  },
  {
   "cell_type": "markdown",
   "id": "5cbbffcc-75b9-4ea0-a7a2-029c5fadf833",
   "metadata": {},
   "source": [
    "The bar chart (perfect choice for our task) shows the number of songs in the dataset by their release year. There is a steady growth from the early 2000s. There is a peak around 2023 (nearly 1200 songs). Most tracks released in 2024 have only been out for a few months (or even weeks), so they haven't yet had time to rack up the hundreds of millions (or billions) of plays needed to make this \"most streamed\" list. Also, this ranking was compiled at a fixed point in late 2024. Any song released after that cut-off - even if wildly popular - won't appear here."
   ]
  },
  {
   "cell_type": "code",
   "execution_count": 45,
   "id": "59378d66-792f-4c14-ae2a-0f8070ef83d2",
   "metadata": {},
   "outputs": [
    {
     "data": {
      "text/plain": [
       "release_date\n",
       "January      503\n",
       "February     371\n",
       "March        430\n",
       "April        420\n",
       "May          511\n",
       "June         395\n",
       "July         321\n",
       "August       315\n",
       "September    328\n",
       "October      384\n",
       "November     350\n",
       "December     272\n",
       "Name: count, dtype: int64"
      ]
     },
     "execution_count": 45,
     "metadata": {},
     "output_type": "execute_result"
    }
   ],
   "source": [
    "release_months = spotify_data.release_date.dt.month_name()\n",
    "\n",
    "months_order = [\n",
    "    \"January\", \"February\", \"March\", \"April\", \"May\", \"June\",\n",
    "    \"July\", \"August\", \"September\", \"October\", \"November\", \"December\"\n",
    "]\n",
    "\n",
    "month_counts = release_months.value_counts().reindex(months_order).fillna(0)\n",
    "month_counts"
   ]
  },
  {
   "cell_type": "code",
   "execution_count": 46,
   "id": "e458a7f3-04d9-491e-9bd2-993b2d772d6f",
   "metadata": {},
   "outputs": [
    {
     "data": {
      "image/png": "[encoded data removed]",
      "text/plain": [
       "<Figure size 1000x600 with 1 Axes>"
      ]
     },
     "metadata": {},
     "output_type": "display_data"
    }
   ],
   "source": [
    "plt.figure(figsize=(10, 6))\n",
    "month_counts.plot(kind='bar', color='skyblue', edgecolor='black')\n",
    "plt.title('Number of Songs Released by Month')\n",
    "plt.xlabel('Month')\n",
    "plt.ylabel('Number of Songs')\n",
    "plt.xticks(rotation=45)\n",
    "plt.tight_layout()\n",
    "plt.show()"
   ]
  },
  {
   "cell_type": "markdown",
   "id": "cc059ca2-ebf2-4209-a3e4-e9521f537c49",
   "metadata": {},
   "source": [
    "The bar chart (again - preferable choice) above shows how many songs in our \"most streamed\" dataset were released in each month. May and January (both over 500 songs) lead the pack - spring and post-holiday release cycles appear strong. October, June and March also see high counts, lowest counts occur in December (under 300 songs) and August (a little over 300 songs), likely due to holiday season focus and summer breaks."
   ]
  },
  {
   "cell_type": "markdown",
   "id": "d83c5535-72dc-4670-81a3-8ca244233a46",
   "metadata": {},
   "source": [
    "### Problem 6. Playlists (2 points)\n",
    "Is there any connection (correlation) between users adding a song to playlists in one service, or another? Only Spotify, Apple, Deezer, and Amazon offer the ability to add a song to a playlist. Find a way to plot all these relationships at the same time, and analyze them. Experiment with different types of correlations."
   ]
  },
  {
   "cell_type": "code",
   "execution_count": null,
   "id": "d3db5ed8-10e4-4f3d-9e20-ddc03371ba58",
   "metadata": {},
   "outputs": [],
   "source": []
  },
  {
   "cell_type": "markdown",
   "id": "e78b8307-de74-4cb4-ba61-da4e7c9fc6c6",
   "metadata": {},
   "source": [
    "### Problem 7. YouTube views and likes (1 point)\n",
    "What is the relationship between YouTube views and likes? Present an appropriate plot. \n",
    "\n",
    "What is the mean YouTube views-to-likes ratio? What is its distribution? Find a way to plot it and describe it."
   ]
  },
  {
   "cell_type": "code",
   "execution_count": null,
   "id": "bf3c3dd5-7466-4dec-9fc3-14a5690da4b4",
   "metadata": {},
   "outputs": [],
   "source": []
  },
  {
   "cell_type": "markdown",
   "id": "7fc028b8-362f-4d5e-9958-72ed876f83fc",
   "metadata": {},
   "source": [
    "### Problem 8. TikTok stuff (2 points)\n",
    "The most popular songs on TikTok released every year show... interesting behavior. Which years peaked the most TikTok views? Show an appropriate chart. Can you explain this behavior? For a bit of context, TikTok was created in 2016.\n",
    "\n",
    "Now, how much popular is the most popular song for each release year, than the mean popularity? Analyze the results.\n",
    "\n",
    "In both parts, it would be helpful to see the actual songs."
   ]
  },
  {
   "cell_type": "code",
   "execution_count": null,
   "id": "3ecec32f-7ddb-449d-9b69-8157705cc319",
   "metadata": {},
   "outputs": [],
   "source": []
  },
  {
   "cell_type": "markdown",
   "id": "d6d06ba6-54fe-4514-b9f3-50b5ac541b50",
   "metadata": {},
   "source": [
    "### * Problem 9. Explore (and clean) at will\n",
    "There is a lot to look for here. For example, you can easily link a song to its genres, and lyrics. You may also try to link artists and albums to more info about them. Or you can compare and contrast a song's performance across different platforms, in a similar manner to what you already did above; maybe even assign a better song ranking system (across platforms with different popularity metrics, and different requirements) than the one provided in the dataset."
   ]
  },
  {
   "cell_type": "code",
   "execution_count": null,
   "id": "844a9811-c034-4bcf-96c4-8b69f743a330",
   "metadata": {},
   "outputs": [],
   "source": []
  }
 ],
 "metadata": {
  "kernelspec": {
   "display_name": "Python 3 (ipykernel)",
   "language": "python",
   "name": "python3"
  },
  "language_info": {
   "codemirror_mode": {
    "name": "ipython",
    "version": 3
   },
   "file_extension": ".py",
   "mimetype": "text/x-python",
   "name": "python",
   "nbconvert_exporter": "python",
   "pygments_lexer": "ipython3",
   "version": "3.13.2"
  }
 },
 "nbformat": 4,
 "nbformat_minor": 5
}
